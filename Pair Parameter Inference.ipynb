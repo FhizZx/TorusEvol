{
 "cells": [
  {
   "cell_type": "markdown",
   "metadata": {},
   "source": [
    "## 1. Prepare data"
   ]
  },
  {
   "cell_type": "markdown",
   "metadata": {},
   "source": [
    "### 1.1 Generate simulated data"
   ]
  },
  {
   "cell_type": "code",
   "execution_count": 1,
   "metadata": {
    "scrolled": false
   },
   "outputs": [
    {
     "name": "stderr",
     "output_type": "stream",
     "text": [
      "\u001b[36m\u001b[1m[ \u001b[22m\u001b[39m\u001b[36m\u001b[1mInfo: \u001b[22m\u001b[39mPrecompiling TorusEvol [4b860a26-b3bc-4b38-a9ed-83c1dc5d19b0]\n",
      "\u001b[91m\u001b[1mERROR: \u001b[22m\u001b[39mLoadError: syntax: unexpected \")\"\n",
      "Stacktrace:\n",
      " [1] top-level scope\n",
      "\u001b[90m   @\u001b[39m \u001b[90mC:\\Users\\stefa\\Dropbox\\Jotun Hein - Part C Projects\\Manolache\\Code\\TorusEvol\\src\\distributions\\\u001b[39m\u001b[90m\u001b[4mAlignmentProcess.jl:96\u001b[24m\u001b[39m\n",
      " [2] \u001b[0m\u001b[1minclude\u001b[22m\u001b[0m\u001b[1m(\u001b[22m\u001b[90mmod\u001b[39m::\u001b[0mModule, \u001b[90m_path\u001b[39m::\u001b[0mString\u001b[0m\u001b[1m)\u001b[22m\n",
      "\u001b[90m   @\u001b[39m \u001b[90mBase\u001b[39m \u001b[90m.\\\u001b[39m\u001b[90m\u001b[4mBase.jl:457\u001b[24m\u001b[39m\n",
      " [3] \u001b[0m\u001b[1minclude\u001b[22m\u001b[0m\u001b[1m(\u001b[22m\u001b[90mx\u001b[39m::\u001b[0mString\u001b[0m\u001b[1m)\u001b[22m\n",
      "\u001b[90m   @\u001b[39m \u001b[35mTorusEvol\u001b[39m \u001b[90mC:\\Users\\stefa\\Dropbox\\Jotun Hein - Part C Projects\\Manolache\\Code\\TorusEvol\\src\\\u001b[39m\u001b[90m\u001b[4mTorusEvol.jl:1\u001b[24m\u001b[39m\n",
      " [4] top-level scope\n",
      "\u001b[90m   @\u001b[39m \u001b[90mC:\\Users\\stefa\\Dropbox\\Jotun Hein - Part C Projects\\Manolache\\Code\\TorusEvol\\src\\\u001b[39m\u001b[90m\u001b[4mTorusEvol.jl:151\u001b[24m\u001b[39m\n",
      " [5] \u001b[0m\u001b[1minclude\u001b[22m\n",
      "\u001b[90m   @\u001b[39m \u001b[90m.\\\u001b[39m\u001b[90m\u001b[4mBase.jl:457\u001b[24m\u001b[39m\u001b[90m [inlined]\u001b[39m\n",
      " [6] \u001b[0m\u001b[1minclude_package_for_output\u001b[22m\u001b[0m\u001b[1m(\u001b[22m\u001b[90mpkg\u001b[39m::\u001b[0mBase.PkgId, \u001b[90minput\u001b[39m::\u001b[0mString, \u001b[90mdepot_path\u001b[39m::\u001b[0mVector\u001b[90m{String}\u001b[39m, \u001b[90mdl_load_path\u001b[39m::\u001b[0mVector\u001b[90m{String}\u001b[39m, \u001b[90mload_path\u001b[39m::\u001b[0mVector\u001b[90m{String}\u001b[39m, \u001b[90mconcrete_deps\u001b[39m::\u001b[0mVector\u001b[90m{Pair{Base.PkgId, UInt128}}\u001b[39m, \u001b[90msource\u001b[39m::\u001b[0mNothing\u001b[0m\u001b[1m)\u001b[22m\n",
      "\u001b[90m   @\u001b[39m \u001b[90mBase\u001b[39m \u001b[90m.\\\u001b[39m\u001b[90m\u001b[4mloading.jl:2012\u001b[24m\u001b[39m\n",
      " [7] top-level scope\n",
      "\u001b[90m   @\u001b[39m \u001b[90m\u001b[4mstdin:2\u001b[24m\u001b[39m\n",
      "in expression starting at C:\\Users\\stefa\\Dropbox\\Jotun Hein - Part C Projects\\Manolache\\Code\\TorusEvol\\src\\distributions\\AlignmentProcess.jl:96\n",
      "in expression starting at C:\\Users\\stefa\\Dropbox\\Jotun Hein - Part C Projects\\Manolache\\Code\\TorusEvol\\src\\TorusEvol.jl:1\n",
      "in expression starting at stdin:2\n"
     ]
    },
    {
     "ename": "LoadError",
     "evalue": "Failed to precompile TorusEvol [4b860a26-b3bc-4b38-a9ed-83c1dc5d19b0] to \"D:\\\\Programs\\\\julia_depot\\\\compiled\\\\v1.9\\\\TorusEvol\\\\jl_1E08.tmp\".",
     "output_type": "error",
     "traceback": [
      "Failed to precompile TorusEvol [4b860a26-b3bc-4b38-a9ed-83c1dc5d19b0] to \"D:\\\\Programs\\\\julia_depot\\\\compiled\\\\v1.9\\\\TorusEvol\\\\jl_1E08.tmp\".",
      "",
      "Stacktrace:",
      " [1] error(s::String)",
      "   @ Base .\\error.jl:35",
      " [2] compilecache(pkg::Base.PkgId, path::String, internal_stderr::IO, internal_stdout::IO, keep_loaded_modules::Bool)",
      "   @ Base .\\loading.jl:2262",
      " [3] compilecache",
      "   @ .\\loading.jl:2129 [inlined]",
      " [4] _require(pkg::Base.PkgId, env::String)",
      "   @ Base .\\loading.jl:1772",
      " [5] _require_prelocked(uuidkey::Base.PkgId, env::String)",
      "   @ Base .\\loading.jl:1623",
      " [6] macro expansion",
      "   @ .\\loading.jl:1611 [inlined]",
      " [7] macro expansion",
      "   @ .\\lock.jl:267 [inlined]",
      " [8] require(into::Module, mod::Symbol)",
      "   @ Base .\\loading.jl:1574"
     ]
    }
   ],
   "source": [
    "using TorusEvol\n",
    "using Distributions\n",
    "\n",
    "# Underlying evolutionary process\n",
    "t = 0.3; λ=0.03; μ=0.031; r=0.4\n",
    "τ = TKF92([t], λ, μ, r)\n",
    "S = WAG_SubstitutionProcess()\n",
    "μ_𝜙=-2.0; μ_𝜓=2.35; σ_𝜙=0.4; σ_𝜓=0.4; α_𝜙=0.5; α_𝜓=1.0; α_cov=0.1; γ=0.2\n",
    "Θ = JumpingWrappedDiffusion(μ_𝜙, μ_𝜓, σ_𝜙, σ_𝜓, α_𝜙, α_𝜓, α_cov, γ)\n",
    "ξ = MixtureProductProcess([1.0], hcat([S, Θ]))\n",
    "pair_chain_dist = ChainJointDistribution(ξ, τ)\n",
    "\n",
    "# Generate data\n",
    "simulated_data = Tuple{ObservedChain, ObservedChain}[]\n",
    "n = 3 # data size\n",
    "for i ∈ 1:n\n",
    "    push!(simulated_data, rand(pair_chain_dist))\n",
    "end\n",
    "\n",
    "# Render a random sample from the data\n",
    "(A, B) = rand(simulated_data)\n",
    "chainA = from_primary_dihedrals(Int.(data(A)[1]), data(A)[2])\n",
    "chainB = from_primary_dihedrals(Int.(data(B)[1]), data(B)[2])\n",
    "lp = logpdf(pair_chain_dist, (A, B))\n",
    "print(\"The log pdf of A and B is $lp\")\n",
    "render(chainA, chainB; aligned=true)"
   ]
  },
  {
   "cell_type": "markdown",
   "metadata": {},
   "source": [
    "### 1.2 Load real data"
   ]
  },
  {
   "cell_type": "markdown",
   "metadata": {},
   "source": [
    "## 2. Parameter Inference Bayesian Model"
   ]
  },
  {
   "cell_type": "markdown",
   "metadata": {},
   "source": [
    "### 2.1 Set up priors for evolutionary processes"
   ]
  },
  {
   "cell_type": "code",
   "execution_count": 2,
   "metadata": {},
   "outputs": [
    {
     "name": "stderr",
     "output_type": "stream",
     "text": [
      "\u001b[36m\u001b[1m[ \u001b[22m\u001b[39m\u001b[36m\u001b[1mInfo: \u001b[22m\u001b[39m[Turing]: progress logging is enabled globally\n",
      "\u001b[36m\u001b[1m[ \u001b[22m\u001b[39m\u001b[36m\u001b[1mInfo: \u001b[22m\u001b[39m[AdvancedVI]: global PROGRESS is set as true\n"
     ]
    }
   ],
   "source": [
    "using Turing, DynamicPPL\n",
    "using LinearAlgebra\n",
    "using LogExpFunctions \n",
    "using Plots, StatsPlots\n",
    "using Random\n",
    "\n",
    "import Base: length, eltype\n",
    "import Distributions: _rand!, logpdf\n",
    "\n",
    "Turing.setprogress!(true)\n",
    "\n",
    "struct ScaledBeta <: ContinuousUnivariateDistribution \n",
    "    be::Beta \n",
    "    function ScaledBeta(α::Real, β::Real)\n",
    "        new(Beta(α, β))\n",
    "    end\n",
    "end\n",
    "Distributions.rand(rng::AbstractRNG, d::ScaledBeta) = rand(d.be)*2 - 1\n",
    "Distributions.logpdf(d::ScaledBeta, x::Real) = logpdf(d.be, (x+1) / 2)\n",
    "\n",
    "\n",
    "struct CompetingExponential <: ContinuousMultivariateDistribution \n",
    "    ex::Exponential\n",
    "    function CompetingExponential(rate::Real)\n",
    "        new(Exponential(rate))\n",
    "    end\n",
    "end \n",
    "Base.eltype(d::CompetingExponential) = Float64 \n",
    "Base.length(d::CompetingExponential) = 2\n",
    "\n",
    "function Distributions._rand!(rng::AbstractRNG, d::CompetingExponential, x::AbstractVector{<:Real})\n",
    "    λ = rand(rng, d.ex)\n",
    "    μ = rand(rng, d.ex)\n",
    "    if λ > μ \n",
    "        tmp = λ; λ = μ; μ=tmp \n",
    "    end\n",
    "    x .= [λ, μ]\n",
    "    return x\n",
    "end\n",
    "\n",
    "function Distributions._logpdf(d::CompetingExponential, x::AbstractArray)\n",
    "    if x[1] > x[2]\n",
    "        return -Inf\n",
    "    end\n",
    "    return log(2) + logpdf(d.ex, x[1]) + logpdf(d.ex, x[2])\n",
    "end\n",
    "\n",
    "@model function tkf92_prior()\n",
    "    λμ ~ CompetingExponential(1.0)\n",
    "    λ = λμ[1]; μ = λμ[2]\n",
    "    r ~ Uniform(0.0, 1.0)\n",
    "\n",
    "    # Require birth rate lower than death rate\n",
    "    if λ > μ || λ ≤ 0 || μ ≤ 0 || r ≤ 0 || r ≥ 1\n",
    "        μ = NaN; λ = NaN\n",
    "    end\n",
    "    return λ, μ, r\n",
    "end;\n",
    "\n",
    "@model function jwndiff_prior()\n",
    "    μ ~ filldist(Uniform(-π, π), 2)\n",
    "    σ² ~ filldist(Gamma(π * 0.1), 2)\n",
    "    α ~ filldist(Gamma(π * 0.1), 2)\n",
    "    γ ~ Exponential(1.0)   # jumping rate\n",
    "    α_corr ~ ScaledBeta(3, 3)\n",
    "    \n",
    "    # Require valid covariance matrices\n",
    "    if any(σ² .≤ 0) || any(α .≤ 0) || γ ≤ 0 \n",
    "        σ² .= NaN; α .= NaN; γ = NaN\n",
    "    end\n",
    "    α_cov = α_corr * sqrt(α[1] * α[2])\n",
    "    if α_cov^2 > α[1]*α[2]\n",
    "         α_cov = NaN\n",
    "    end\n",
    "    \n",
    "    return μ[1], μ[2], sqrt(σ²[1]), sqrt(σ²[2]), α[1], α[2], α_cov, γ\n",
    "end;"
   ]
  },
  {
   "cell_type": "markdown",
   "metadata": {},
   "source": [
    "### 2.2 Set up sampler"
   ]
  },
  {
   "cell_type": "code",
   "execution_count": 3,
   "metadata": {},
   "outputs": [],
   "source": [
    "torus_proposal(v) = MixtureModel([WrappedNormal(v, I), WrappedNormal(v, 20*I)], [0.8, 0.2])\n",
    "mv_rw_proposal(v::AbstractVector, cov) = MvNormal(v, cov)\n",
    "rw_proposal(x, var) = Normal(x, var)\n",
    "\n",
    "\n",
    "sampler = Gibbs(MH(:t => v -> rw_proposal(v, 0.2)),\n",
    "                MH(Symbol(\"Θ.μ\") => v -> torus_proposal(v)),\n",
    "                MH(Symbol(\"Θ.σ²\") => v -> mv_rw_proposal(v, 0.4*I)),\n",
    "                MH(Symbol(\"Θ.α\") => v -> mv_rw_proposal(v, 0.4*I)),\n",
    "                MH(Symbol(\"Θ.α_corr\") => x -> rw_proposal(x, 0.5)),\n",
    "                MH(Symbol(\"Θ.γ\") => x -> rw_proposal(x, 0.5)),\n",
    "                MH(Symbol(\"τ.λμ\") => v -> mv_rw_proposal(v, [0.4 0.1; 0.1 0.6])),\n",
    "                MH(Symbol(\"τ.r\") => x -> rw_proposal(x, 0.5))\n",
    "               );"
   ]
  },
  {
   "cell_type": "code",
   "execution_count": 4,
   "metadata": {},
   "outputs": [
    {
     "data": {
      "text/plain": [
       "get_Bs (generic function with 1 method)"
      ]
     },
     "execution_count": 4,
     "metadata": {},
     "output_type": "execute_result"
    }
   ],
   "source": [
    "using Memoization \n",
    "\n",
    "@memoize get_αs(pairs) = get_α.(Ref(TKF92([1.0], 0.2, 0.3, 0.4)), pairs)\n",
    "@memoize get_Bs(pairs) = get_B.(pairs)"
   ]
  },
  {
   "cell_type": "markdown",
   "metadata": {},
   "source": [
    "### 2.3 Prepare probabilistic model"
   ]
  },
  {
   "cell_type": "code",
   "execution_count": 5,
   "metadata": {},
   "outputs": [],
   "source": [
    "@model function pair_param_inference_simple(pairs)\n",
    "    # ____________________________________________________________________________________________________\n",
    "    # Step 1 - Sample prior parameters\n",
    "    \n",
    "    # Time parameter\n",
    "    t ~ Exponential(1.0) \n",
    "    # Alignment parameters\n",
    "    @submodel prefix=\"τ\" Λ = tkf92_prior()\n",
    "    # Dihedral parameters \n",
    "    @submodel prefix=\"Θ\" Ξ = jwndiff_prior()\n",
    "    # Check parameter validity \n",
    "    if t ≤ 0 || any(isnan.(Ξ)) || any(isnan.(Λ))\n",
    "        Turing.@addlogprob! -Inf; return\n",
    "    end\n",
    "    \n",
    "    # ____________________________________________________________________________________________________\n",
    "    # Step 2 - Construct processes \n",
    "    \n",
    "    # Substitution Process - no parameters for simplicity, use fully empirical model\n",
    "    S = WAG_SubstitutionProcess()\n",
    "    # Dihedral Process\n",
    "    Θ = JumpingWrappedDiffusion(Ξ...)\n",
    "    # Joint sequence-structure site level process with one regime\n",
    "    ξ = MixtureProductProcess([1.0], hcat([S, Θ]))\n",
    "    \n",
    "    # Alignment model\n",
    "    τ = TKF92([t], Λ...)\n",
    "    \n",
    "    # Chain level model\n",
    "    Γ = ChainJointDistribution(ξ, τ)\n",
    "    \n",
    "    # ____________________________________________________________________________________________________\n",
    "    # Step 3 - Observe each pair X, Y by proxy of their joint probability, marginalising over alignments\n",
    "    α = get_αs(pairs)\n",
    "    Threads.@threads for i ∈ eachindex(pairs)\n",
    "        X, Y = pairs[i]\n",
    "        # (X, Y) ~ ChainJointDistribution(ξ, τ)\n",
    "        Turing.@addlogprob! logpdfα!(α[i], Γ, (X, Y))\n",
    "    end\n",
    "        \n",
    "    return Γ\n",
    "end;"
   ]
  },
  {
   "cell_type": "markdown",
   "metadata": {},
   "source": [
    "### 2.4 Sample from the model and check results"
   ]
  },
  {
   "cell_type": "code",
   "execution_count": 6,
   "metadata": {},
   "outputs": [
    {
     "ename": "LoadError",
     "evalue": "UndefVarError: `simulated_data` not defined",
     "output_type": "error",
     "traceback": [
      "UndefVarError: `simulated_data` not defined",
      "",
      "Stacktrace:",
      " [1] top-level scope",
      "   @ In[6]:3"
     ]
    }
   ],
   "source": [
    "num_samples = 300\n",
    "num_chains = 3\n",
    "model = pair_param_inference_simple(simulated_data)"
   ]
  },
  {
   "cell_type": "code",
   "execution_count": 7,
   "metadata": {},
   "outputs": [
    {
     "ename": "LoadError",
     "evalue": "UndefVarError: `model` not defined",
     "output_type": "error",
     "traceback": [
      "UndefVarError: `model` not defined",
      "",
      "Stacktrace:",
      " [1] top-level scope",
      "   @ In[7]:1"
     ]
    }
   ],
   "source": [
    "chain = sample(model, sampler, MCMCThreads(), num_samples, num_chains)\n",
    "p = plot(chain, fontfamily=\"JuliaMono\")"
   ]
  },
  {
   "cell_type": "code",
   "execution_count": null,
   "metadata": {},
   "outputs": [],
   "source": []
  }
 ],
 "metadata": {
  "kernelspec": {
   "display_name": "Julia 1.9.0-rc2",
   "language": "julia",
   "name": "julia-1.9"
  },
  "language_info": {
   "file_extension": ".jl",
   "mimetype": "application/julia",
   "name": "julia",
   "version": "1.9.0"
  }
 },
 "nbformat": 4,
 "nbformat_minor": 2
}
