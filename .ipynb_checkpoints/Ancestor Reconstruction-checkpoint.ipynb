{
 "cells": [
  {
   "cell_type": "code",
   "execution_count": 1,
   "id": "c79e74a3",
   "metadata": {},
   "outputs": [
    {
     "name": "stderr",
     "output_type": "stream",
     "text": [
      "\u001b[36m\u001b[1m[ \u001b[22m\u001b[39m\u001b[36m\u001b[1mInfo: \u001b[22m\u001b[39mFile exists: 1A3N\n",
      "\u001b[36m\u001b[1m[ \u001b[22m\u001b[39m\u001b[36m\u001b[1mInfo: \u001b[22m\u001b[39mFile exists: 1MBN\n"
     ]
    }
   ],
   "source": [
    "using TorusEvol\n",
    "using Distributions\n",
    "using TimerOutputs\n",
    "\n",
    "chainY = from_pdb(\"1A3N\", \"A\"; ramachandran=false)\n",
    "chainZ = from_pdb(\"1MBN\", \"A\"; ramachandran=false)\n",
    "Y = data(chainY)\n",
    "Z = data(chainZ)\n",
    "\n",
    "w = WAG_SubstitutionProcess\n",
    "processes = [w;;]\n",
    "weights = [1.0]\n",
    "ξ = MixtureProductProcess(weights, processes)\n",
    "\n",
    "t = 1.58\n",
    "λ = 0.03; μ = 0.032; r = 0.3\n",
    "align_model = TKF92([t], λ, μ, r)\n",
    "pair_hmm = PairDataHMM(align_model, num_sites(Y), num_sites(Z));"
   ]
  },
  {
   "cell_type": "code",
   "execution_count": 2,
   "id": "597c6689",
   "metadata": {},
   "outputs": [
    {
     "data": {
      "text/plain": [
       "-825.0319721486123"
      ]
     },
     "execution_count": 2,
     "metadata": {},
     "output_type": "execute_result"
    }
   ],
   "source": [
    "model = TKF92([t/2, t/2], λ, μ, r; known_ancestor=false)\n",
    "pair_hmm = PairDataHMM(model, num_sites(Y), num_sites(Z))\n",
    "logpdf(pair_hmm, fulllogpdf(ξ, t, Y, Z))"
   ]
  },
  {
   "cell_type": "code",
   "execution_count": 3,
   "id": "f888c350",
   "metadata": {},
   "outputs": [
    {
     "data": {
      "text/plain": [
       "3×155 Matrix{Integer}:\n",
       " 1  1  1  1  1  1  1  1  1  1  1  1  0  …  1  1  1  1  1  0  0  0  0  0  1  1\n",
       " 1  1  1  1  1  1  0  1  1  1  1  1  1     1  1  1  1  1  0  0  0  0  0  1  0\n",
       " 1  1  1  1  1  1  1  1  1  1  1  1  0     1  1  1  1  1  1  1  1  1  1  1  1"
      ]
     },
     "metadata": {},
     "output_type": "display_data"
    },
    {
     "data": {
      "text/plain": [
       "155-element BitVector:\n",
       " 1\n",
       " 1\n",
       " 1\n",
       " 1\n",
       " 1\n",
       " 1\n",
       " 0\n",
       " 1\n",
       " 1\n",
       " 1\n",
       " 1\n",
       " 1\n",
       " 0\n",
       " ⋮\n",
       " 1\n",
       " 1\n",
       " 1\n",
       " 1\n",
       " 1\n",
       " 0\n",
       " 0\n",
       " 0\n",
       " 0\n",
       " 0\n",
       " 1\n",
       " 0"
      ]
     },
     "execution_count": 3,
     "metadata": {},
     "output_type": "execute_result"
    }
   ],
   "source": [
    "alignment = backward_sampling(pair_hmm.α, model)\n",
    "display(alignment.data)\n",
    "N = sequence_lengths(alignment)[1]\n",
    "allowed = [[1],[1],[1]]\n",
    "mask(alignment, allowed)"
   ]
  },
  {
   "cell_type": "code",
   "execution_count": null,
   "id": "d38db343",
   "metadata": {},
   "outputs": [],
   "source": [
    "using Turing \n",
    "using ReverseDiff\n",
    "#Turing.setadbackend(:reversediff)\n",
    "Turing.setrdcache(true)\n",
    "Turing.setadbackend(:forwarddiff)\n",
    "Turing.setprogress!(true)\n",
    "\n",
    "@model function bisection_sampler_continuous(y, z, p, t)\n",
    "    y ~ statdist(p)\n",
    "    x ~ transdist(p, t, y)\n",
    "    z ~ transdist(p, t, x)\n",
    "end\n",
    "\n",
    "p = WrappedDiffusion(-1.0, -0.8, 0.1, 0.1, 1.0, 1.0, 0.2)\n",
    "y = rand(statdist(p))\n",
    "z = rand(statdist(p))\n",
    "t = 0.2\n",
    "\n",
    "model = bisection_sampler_continuous(y, z, p, t)\n",
    "ch = sample(model, HMC(0.03, 5, :x), 10)\n"
   ]
  },
  {
   "cell_type": "code",
   "execution_count": null,
   "id": "a3c7b31e",
   "metadata": {},
   "outputs": [],
   "source": [
    "\n",
    "\n",
    "@model function ancestor_sampling(alignment, dataY, dataZ, t, ξ)\n",
    "    C = num_coords(ξ)\n",
    "    E = num_regimes(ξ)\n",
    "    \n",
    "    \n",
    "    #dataX = \n",
    "    \n",
    "\n",
    "    X_mask = mask(alignment, [[1], [0,1], [0,1]])\n",
    "    alignmentX = alignment[X_mask]\n",
    "    Y_mask = mask(alignment, [[0,1], [1], [0,1]])\n",
    "    alignmentY = alignment[Y_mask]\n",
    "    Z_mask = mask(alignment, [[0,1], [0,1], [1]])\n",
    "    alignmentZ = alignment[Z_mask]\n",
    "    \n",
    "    M = length(alignment)\n",
    "    regimes = tzeros(Int, M)\n",
    "    regimes ~ filldist(Categorical(weights(ξ)), M)\n",
    "    regimesX = regimes[X_mask]\n",
    "    regimesY = regimes[Y_mask]\n",
    "    regimesZ = regimes[Z_mask]\n",
    "    \n",
    "    X_maskX = mask(alignmentX, [[1], [0], [0]])\n",
    "    \n",
    "    XY_maskX = mask(alignmentX, [[1], [1], [0]])\n",
    "    XY_maskY = mask(alignmentY, [[1], [1], [0]])\n",
    "    \n",
    "    XZ_maskX = mask(alignmentX, [[1], [0], [1]])\n",
    "    XZ_maskZ = mask(alignmentZ, [[1], [0], [1]])\n",
    "    \n",
    "    XYZ_maskX = mask(alignmentX, [[1], [1], [1]])\n",
    "    XYZ_maskY = mask(alignmentY, [[1], [1], [1]])\n",
    "    XYZ_maskZ = mask(alignmentZ, [[1], [1], [1]])\n",
    "    \n",
    "    for c ∈ 1:C, e ∈ 1:E\n",
    "        p = processes(ξ)[c, e]\n",
    "        # [1, 0, 0] - sample from stationary distribution\n",
    "        data[c][:, X_maskX .& regimesX .== e] .~ statdist(p)\n",
    "        \n",
    "        # [1, 1, 0] - observe Y, then sample X from Y\n",
    "        dataY[c][:, XY_maskY .& regimesY .== e] .~ statdist(p)\n",
    "        dataX[c][:, XY_maskX .& regimesX .== e] ~ arraydist(transdist.(Ref(p), Ref(t), eachcol(dataY[c][:, XY_maskY .& regimesY .== e])))\n",
    "        \n",
    "        # [1, 0, 1] - observe Z, then sample X from Z\n",
    "        dataY[c][:, XZ_maskZ .& regimesZ .== e] .~ statdist(p)\n",
    "        dataX[c][:, XZ_maskX .& regimesX .== e] ~ arraydist(transdist.(Ref(p), Ref(t), eachcol(dataZ[c][:, XY_maskZ .& regimesZ .== e])))\n",
    "        \n",
    "        # [1, 1, 1] - observe Y, sample X from Y, then observe Z from X\n",
    "        dataY[c][:, XYZ_maskY .& regimesY .== e] .~ statdist(p)\n",
    "        dataX[c][:, XYZ_maskX .& regimesX .== e] ~ arraydist(transdist.(Ref(p), Ref(t), eachcol(dataY[c][:, XYZ_maskY .& regimesY .== e])))\n",
    "        dataZ[c][:, XYZ_maskZ .& regimesZ .== e] ~ arraydist(transdist.(Ref(p), Ref(t), eachcol(dataX[c][:, XYZ_maskX .& regimesX .== e])))\n",
    "    end\n",
    "end\n",
    "    "
   ]
  },
  {
   "cell_type": "code",
   "execution_count": null,
   "id": "5fe15fb6",
   "metadata": {},
   "outputs": [],
   "source": []
  }
 ],
 "metadata": {
  "kernelspec": {
   "display_name": "Julia 1.9.0-rc2",
   "language": "julia",
   "name": "julia-1.9"
  },
  "language_info": {
   "file_extension": ".jl",
   "mimetype": "application/julia",
   "name": "julia",
   "version": "1.9.0"
  }
 },
 "nbformat": 4,
 "nbformat_minor": 5
}
