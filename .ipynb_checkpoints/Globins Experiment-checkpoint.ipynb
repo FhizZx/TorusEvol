{
 "cells": [
  {
   "cell_type": "markdown",
   "metadata": {},
   "source": [
    "## 1. Prepare data"
   ]
  },
  {
   "cell_type": "markdown",
   "metadata": {},
   "source": [
    "### 1.1 Load testing data"
   ]
  },
  {
   "cell_type": "code",
   "execution_count": null,
   "metadata": {
    "scrolled": false
   },
   "outputs": [],
   "source": [
    "using TorusEvol\n",
    "using Distributions\n",
    "using Turing\n",
    "using BioStructures\n",
    "using DynamicPPL\n",
    "using LinearAlgebra\n",
    "using LogExpFunctions \n",
    "using Plots, StatsPlots\n",
    "using Random\n",
    "\n",
    "Random.seed!(1000001)\n",
    "Turing.setprogress!(true)\n",
    "\n",
    "# The three globins of interest\n",
    "# Goal: obtain a triple alignment and branch lengths to common ancestor\n",
    "alphaglobin = from_pdb(\"1A3N\", \"A\"); Y = data(alphaglobin)\n",
    "myoglobin = from_pdb(\"1MBN\", \"A\"); Z = data(myoglobin)\n",
    "neuroglobin = from_pdb(\"1OJ6\", \"A\"); W = data(neuroglobin)\n",
    "render(alphaglobin, myoglobin, neuroglobin)"
   ]
  },
  {
   "cell_type": "code",
   "execution_count": null,
   "metadata": {},
   "outputs": [],
   "source": [
    "row1 = \"-MERPEPELIRQSWRAVSRSPLEHGTVLFARLFALEPDLLPLFQYNGRQFSSPEDSLSSPEFLDHIRKVMLVIDAAVTNVEDLSSLEEYLASLGRKH-RAVGVKLSSFSTVGESLLYMLEKSLGPAFTPATRAAWSQLYGAVVQAMSR-----GWDGE\"\n",
    "row2 = \"VLSPADKTNVKAAWGKVGAHAGEYGAEALERMFLSFPTTKTYFPHFDLSHGSAQ-------VKGHGKKVADALTNAVAHVDDMPN---ALSALSDLHAHKLRVDPVNFKLLSHCLLVTLAAHLPAEFTPAVHASLDKFLASVSTVLTSKYR-------\"\n",
    "row3 = \"VLSEGEWQLVLHVWAKVEADVAGHGQDILIRLFKSHPETLEKFDRFKHLKTEAEM-KASEDLKKHGVTVLTALGAILKKKGHHEA---ELKPLAQSHATKHKIPIKYLEFISEAIIHVLHSRHPGDFGADAQGAMNKALELFRKDIAAKYKELGYQG-\"\n",
    "function to10(a)\n",
    "    if a == \"-\"\n",
    "        return 0\n",
    "    else \n",
    "        return 1\n",
    "    end\n",
    "end\n",
    "clustal_M_YZW = Alignment(vcat(to10.(row2)', to10.(row3)', to10.(row1)'))"
   ]
  },
  {
   "cell_type": "markdown",
   "metadata": {},
   "source": [
    "### 1.2 Load training data"
   ]
  },
  {
   "cell_type": "code",
   "execution_count": 2,
   "metadata": {},
   "outputs": [
    {
     "name": "stderr",
     "output_type": "stream",
     "text": [
      "\u001b[36m\u001b[1m[ \u001b[22m\u001b[39m\u001b[36m\u001b[1mInfo: \u001b[22m\u001b[39mFile exists: 1A3N\n",
      "\u001b[36m\u001b[1m[ \u001b[22m\u001b[39m\u001b[36m\u001b[1mInfo: \u001b[22m\u001b[39mFile exists: 1UMO\n",
      "\u001b[36m\u001b[1m[ \u001b[22m\u001b[39m\u001b[36m\u001b[1mInfo: \u001b[22m\u001b[39mFile exists: 1I3D\n",
      "\u001b[36m\u001b[1m[ \u001b[22m\u001b[39m\u001b[36m\u001b[1mInfo: \u001b[22m\u001b[39mFile exists: 1A9W\n",
      "\u001b[36m\u001b[1m[ \u001b[22m\u001b[39m\u001b[36m\u001b[1mInfo: \u001b[22m\u001b[39mFile exists: 3VRF\n",
      "\u001b[36m\u001b[1m[ \u001b[22m\u001b[39m\u001b[36m\u001b[1mInfo: \u001b[22m\u001b[39mFile exists: 2W31\n"
     ]
    },
    {
     "data": {
      "text/plain": [
       "3-element Vector{Tuple{ObservedChain, ObservedChain}}:\n",
       " (ObservedChain(\n",
       "num sites: 145\n",
       "num coords: 2\n",
       "), ObservedChain(\n",
       "num sites: 154\n",
       "num coords: 2\n",
       "))\n",
       " (ObservedChain(\n",
       "num sites: 146\n",
       "num coords: 2\n",
       "), ObservedChain(\n",
       "num sites: 141\n",
       "num coords: 2\n",
       "))\n",
       " (ObservedChain(\n",
       "num sites: 141\n",
       "num coords: 2\n",
       "), ObservedChain(\n",
       "num sites: 152\n",
       "num coords: 2\n",
       "))"
      ]
     },
     "execution_count": 2,
     "metadata": {},
     "output_type": "execute_result"
    }
   ],
   "source": [
    "globins=[from_pdb(\"1A3N\", \"B\"), from_pdb(\"1UMO\", \"A\"), \n",
    "         from_pdb(\"1I3D\", \"A\"), from_pdb(\"1A9W\", \"A\"),\n",
    "         from_pdb(\"3VRF\", \"A\"), from_pdb(\"2W31\", \"A\")]\n",
    "gdata = data.(globins)\n",
    "\n",
    "train_data = [(gdata[1], gdata[2]),\n",
    "              (gdata[3], gdata[4]),\n",
    "              (gdata[5], gdata[6])]"
   ]
  },
  {
   "cell_type": "markdown",
   "metadata": {},
   "source": [
    "## 2. Parameter Inference Bayesian Model"
   ]
  },
  {
   "cell_type": "markdown",
   "metadata": {},
   "source": [
    "### 2.1 Probabilistic Model"
   ]
  },
  {
   "cell_type": "code",
   "execution_count": 3,
   "metadata": {},
   "outputs": [
    {
     "data": {
      "text/plain": [
       "pair_param_inference (generic function with 2 methods)"
      ]
     },
     "execution_count": 3,
     "metadata": {},
     "output_type": "execute_result"
    }
   ],
   "source": [
    "using Memoization \n",
    "\n",
    "@memoize get_αs(pairs) = get_α.(Ref(TKF92([1.0], 0.2, 0.3, 0.4)), pairs)\n",
    "@memoize get_Bs(pairs) = get_B.(pairs);\n",
    "\n",
    "@model function pair_param_inference(pairs, α, B)\n",
    "    N = length(pairs)\n",
    "    # ____________________________________________________________________________________________________\n",
    "    # Step 1 - Sample prior parameters\n",
    "    \n",
    "    # Time parameter for each pair\n",
    "    t ~ filldist(Exponential(1.0), N)\n",
    "    \n",
    "    # Alignment parameters\n",
    "    @submodel prefix=\"τ\" Λ = tkf92_prior()\n",
    "    # Dihedral parameters \n",
    "    @submodel prefix=\"Θ\" Ξ = jwndiff_prior()\n",
    "    # Check parameter validity \n",
    "    if any(t .≤ 0) || any(isnan.(Ξ)) || any(isnan.(Λ))\n",
    "        Turing.@addlogprob! -Inf; return\n",
    "    end\n",
    "    \n",
    "    # ____________________________________________________________________________________________________\n",
    "    # Step 2 - Construct processes \n",
    "    \n",
    "    # Substitution Process - no parameters for simplicity, use fully empirical model\n",
    "    S = WAG_SubstitutionProcess()\n",
    "    # Dihedral Process\n",
    "    Θ = JumpingWrappedDiffusion(Ξ...)\n",
    "    # Joint sequence-structure site level process with one regime\n",
    "    ξ = ProductProcess(S, Θ)\n",
    "    \n",
    "    # ____________________________________________________________________________________________________\n",
    "    # Step 3 - Observe each pair X, Y by proxy of their joint probability, marginalising over alignments\n",
    "    for i ∈ 1:N\n",
    "        X, Y = pairs[i]\n",
    "        Γ = ChainJointDistribution(ξ, TKF92([t[i]], Λ...))\n",
    "            \n",
    "        # (X, Y) ~ ChainJointDistribution(ξ, τ)\n",
    "        \n",
    "        fulljointlogpdf!(B[i], ξ, t[i], X, Y)\n",
    "        Turing.@addlogprob! logpdfαB!(α[i], B[i], Γ, (X, Y))\n",
    "    end\n",
    "        \n",
    "    return t, Λ, Ξ\n",
    "end"
   ]
  },
  {
   "cell_type": "markdown",
   "metadata": {},
   "source": [
    "### 2.2 Run the model"
   ]
  },
  {
   "cell_type": "code",
   "execution_count": 8,
   "metadata": {},
   "outputs": [
    {
     "data": {
      "text/plain": [
       "Chains MCMC chain (500×15×3 Array{Float64, 3}):\n",
       "\n",
       "Iterations        = 1:1:500\n",
       "Number of chains  = 3\n",
       "Samples per chain = 500\n",
       "Wall duration     = 14488.24 seconds\n",
       "Compute duration  = 42897.16 seconds\n",
       "parameters        = t[1], t[2], t[3], τ.λμ[1], τ.λμ[2], τ.r, Θ.μ[1], Θ.μ[2], Θ.σ²[1], Θ.σ²[2], Θ.α[1], Θ.α[2], Θ.γ, Θ.α_corr\n",
       "internals         = lp\n",
       "\n",
       "Summary Statistics\n",
       " \u001b[1m parameters \u001b[0m \u001b[1m    mean \u001b[0m \u001b[1m     std \u001b[0m \u001b[1m    mcse \u001b[0m \u001b[1m ess_bulk \u001b[0m \u001b[1m ess_tail \u001b[0m \u001b[1m    rhat \u001b[0m \u001b[1m e\u001b[0m ⋯\n",
       " \u001b[90m     Symbol \u001b[0m \u001b[90m Float64 \u001b[0m \u001b[90m Float64 \u001b[0m \u001b[90m Float64 \u001b[0m \u001b[90m  Float64 \u001b[0m \u001b[90m  Float64 \u001b[0m \u001b[90m Float64 \u001b[0m \u001b[90m  \u001b[0m ⋯\n",
       "\n",
       "        t[1]    0.8114    0.3389    0.1538     4.8703    16.6599    1.6854     ⋯\n",
       "        t[2]    0.3193    0.2051    0.0444     9.4815    15.6072    1.3629     ⋯\n",
       "        t[3]    1.4031    0.3745    0.0989    14.0765    13.1752    1.3272     ⋯\n",
       "     τ.λμ[1]    0.2595    0.0984    0.0403     5.9772     3.4301    2.5072     ⋯\n",
       "     τ.λμ[2]    0.2756    0.1092    0.0459     5.6972     3.3266    2.4701     ⋯\n",
       "         τ.r    0.6847    0.0860    0.0338     6.6676    85.5123    1.3880     ⋯\n",
       "      Θ.μ[1]   -1.2287    0.1961    0.0324     9.9898     5.8143    1.5984     ⋯\n",
       "      Θ.μ[2]   -0.2267    0.5219    0.1761     3.9417     9.2414    2.1188     ⋯\n",
       "     Θ.σ²[1]    0.5292    0.3128    0.1308     4.7205    13.6108    1.7110     ⋯\n",
       "     Θ.σ²[2]    0.4013    0.3544    0.1316     4.3780     3.5352    1.8380     ⋯\n",
       "      Θ.α[1]    1.6367    0.7717    0.3797     3.8871     9.8362    2.2054     ⋯\n",
       "      Θ.α[2]    0.2829    0.2015    0.1045     3.7604     8.3944    2.3503     ⋯\n",
       "         Θ.γ    0.0176    0.0732    0.0121     7.8646    18.2213    1.3661     ⋯\n",
       "    Θ.α_corr    0.6023    0.2425    0.0624    16.9389    20.2862    1.1310     ⋯\n",
       "\u001b[36m                                                                1 column omitted\u001b[0m\n",
       "\n",
       "Quantiles\n",
       " \u001b[1m parameters \u001b[0m \u001b[1m    2.5% \u001b[0m \u001b[1m   25.0% \u001b[0m \u001b[1m   50.0% \u001b[0m \u001b[1m   75.0% \u001b[0m \u001b[1m   97.5% \u001b[0m\n",
       " \u001b[90m     Symbol \u001b[0m \u001b[90m Float64 \u001b[0m \u001b[90m Float64 \u001b[0m \u001b[90m Float64 \u001b[0m \u001b[90m Float64 \u001b[0m \u001b[90m Float64 \u001b[0m\n",
       "\n",
       "        t[1]    0.4308    0.4986    0.7917    0.9283    1.4304\n",
       "        t[2]    0.1764    0.2106    0.2910    0.3743    0.6735\n",
       "        t[3]    0.2672    1.2404    1.4452    1.6150    2.1892\n",
       "     τ.λμ[1]    0.0252    0.1678    0.2609    0.3263    0.4815\n",
       "     τ.λμ[2]    0.0397    0.1700    0.2714    0.3362    0.5668\n",
       "         τ.r    0.5242    0.6280    0.6817    0.7431    0.8538\n",
       "      Θ.μ[1]   -1.3818   -1.2793   -1.2545   -1.1983   -1.0771\n",
       "      Θ.μ[2]   -0.5885   -0.4719   -0.3501   -0.2518    1.6351\n",
       "     Θ.σ²[1]    0.2395    0.3475    0.4282    0.5274    1.4645\n",
       "     Θ.σ²[2]    0.1454    0.1571    0.2462    0.4666    1.4249\n",
       "      Θ.α[1]    0.3453    1.1192    1.4196    1.9878    3.6924\n",
       "      Θ.α[2]    0.0703    0.1329    0.2152    0.3406    0.8042\n",
       "         Θ.γ    0.0015    0.0037    0.0039    0.0051    0.1817\n",
       "    Θ.α_corr   -0.1987    0.6484    0.6820    0.7075    0.7407\n"
      ]
     },
     "execution_count": 8,
     "metadata": {},
     "output_type": "execute_result"
    }
   ],
   "source": [
    "model = pair_param_inference(train_data, get_αs(train_data), get_Bs(train_data));\n",
    "\n",
    "\n",
    "sampler = Gibbs(t_samplers..., τ_samplers..., Θ_samplers...)\n",
    "    \n",
    "num_samples = 500\n",
    "num_chains = 3\n",
    "\n",
    "chain = sample(model, sampler, MCMCThreads(), num_samples, num_chains)"
   ]
  },
  {
   "cell_type": "markdown",
   "metadata": {},
   "source": [
    "### 2.3 Diagnose convergence"
   ]
  },
  {
   "cell_type": "code",
   "execution_count": 24,
   "metadata": {},
   "outputs": [
    {
     "data": {
      "text/plain": [
       "Chains MCMC chain (301×15×3 Array{Float64, 3}):\n",
       "\n",
       "Iterations        = 200:1:500\n",
       "Number of chains  = 3\n",
       "Samples per chain = 301\n",
       "Wall duration     = 14488.24 seconds\n",
       "Compute duration  = 42897.16 seconds\n",
       "parameters        = t[1], t[2], t[3], τ.λμ[1], τ.λμ[2], τ.r, Θ.μ[1], Θ.μ[2], Θ.σ²[1], Θ.σ²[2], Θ.α[1], Θ.α[2], Θ.γ, Θ.α_corr\n",
       "internals         = lp\n",
       "\n",
       "Summary Statistics\n",
       " \u001b[1m parameters \u001b[0m \u001b[1m    mean \u001b[0m \u001b[1m     std \u001b[0m \u001b[1m    mcse \u001b[0m \u001b[1m ess_bulk \u001b[0m \u001b[1m ess_tail \u001b[0m \u001b[1m    rhat \u001b[0m \u001b[1m e\u001b[0m ⋯\n",
       " \u001b[90m     Symbol \u001b[0m \u001b[90m Float64 \u001b[0m \u001b[90m Float64 \u001b[0m \u001b[90m Float64 \u001b[0m \u001b[90m  Float64 \u001b[0m \u001b[90m  Float64 \u001b[0m \u001b[90m Float64 \u001b[0m \u001b[90m  \u001b[0m ⋯\n",
       "\n",
       "        t[1]    0.6812    0.2024    0.1000     3.8376     7.9872    2.4132     ⋯\n",
       "        t[2]    0.2877    0.0758    0.0403     3.8538        NaN    2.3347     ⋯\n",
       "        t[3]    1.4462    0.1931    0.0715     5.7555        NaN    1.5202     ⋯\n",
       "     τ.λμ[1]    0.2587    0.0699    0.0389     3.6025     3.0822    2.6578     ⋯\n",
       "     τ.λμ[2]    0.2683    0.0762    0.0422     3.6010     3.0822    2.6588     ⋯\n",
       "         τ.r    0.6631    0.0733    0.0284     6.6647    78.1411    1.3956     ⋯\n",
       "      Θ.μ[1]   -1.2224    0.0698    0.0391     3.1697        NaN    8.5661     ⋯\n",
       "      Θ.μ[2]   -0.3769    0.1216    0.0684     3.0963        NaN   15.2413     ⋯\n",
       "     Θ.σ²[1]    0.4017    0.0672    0.0326     5.7207        NaN    1.5304     ⋯\n",
       "     Θ.σ²[2]    0.2584    0.1219    0.0679     3.2487     3.1468    4.4863     ⋯\n",
       "      Θ.α[1]    1.3537    0.2344    0.1144     4.4476    11.8363    1.8324     ⋯\n",
       "      Θ.α[2]    0.2157    0.1043    0.0569     3.3254     3.7435    3.7612     ⋯\n",
       "         Θ.γ    0.0034    0.0012    0.0006     4.8320        NaN    2.4016     ⋯\n",
       "    Θ.α_corr    0.6902    0.0305    0.0096    11.0976    52.8207    1.2064     ⋯\n",
       "\u001b[36m                                                                1 column omitted\u001b[0m\n",
       "\n",
       "Quantiles\n",
       " \u001b[1m parameters \u001b[0m \u001b[1m    2.5% \u001b[0m \u001b[1m   25.0% \u001b[0m \u001b[1m   50.0% \u001b[0m \u001b[1m   75.0% \u001b[0m \u001b[1m   97.5% \u001b[0m\n",
       " \u001b[90m     Symbol \u001b[0m \u001b[90m Float64 \u001b[0m \u001b[90m Float64 \u001b[0m \u001b[90m Float64 \u001b[0m \u001b[90m Float64 \u001b[0m \u001b[90m Float64 \u001b[0m\n",
       "\n",
       "        t[1]    0.4308    0.4627    0.6413    0.9244    0.9252\n",
       "        t[2]    0.1852    0.2145    0.2910    0.3431    0.4268\n",
       "        t[3]    1.0476    1.4109    1.4415    1.5683    1.7078\n",
       "     τ.λμ[1]    0.1678    0.1678    0.2609    0.3034    0.3740\n",
       "     τ.λμ[2]    0.1700    0.1700    0.2714    0.3362    0.4160\n",
       "         τ.r    0.5222    0.6153    0.6675    0.7079    0.8070\n",
       "      Θ.μ[1]   -1.2793   -1.2793   -1.2545   -1.1983   -1.0915\n",
       "      Θ.μ[2]   -0.5885   -0.5097   -0.3501   -0.2518   -0.2518\n",
       "     Θ.σ²[1]    0.3336    0.3475    0.3809    0.4796    0.5274\n",
       "     Θ.σ²[2]    0.1454    0.1454    0.2458    0.3544    0.5033\n",
       "      Θ.α[1]    1.0543    1.1192    1.3064    1.5241    1.9054\n",
       "      Θ.α[2]    0.1199    0.1199    0.1922    0.2517    0.4771\n",
       "         Θ.γ    0.0015    0.0016    0.0037    0.0039    0.0051\n",
       "    Θ.α_corr    0.6283    0.6695    0.6920    0.7143    0.7410\n"
      ]
     },
     "execution_count": 24,
     "metadata": {},
     "output_type": "execute_result"
    }
   ],
   "source": [
    "chain[200:500, :, :]"
   ]
  },
  {
   "cell_type": "code",
   "execution_count": 10,
   "metadata": {},
   "outputs": [
    {
     "data": {
      "text/plain": [
       "\"C:\\\\Users\\\\stefa\\\\Dropbox\\\\Jotun Hein - Part C Projects\\\\Manolache\\\\Code\\\\TorusEvol\\\\globins pairs convergence plots.svg\""
      ]
     },
     "execution_count": 10,
     "metadata": {},
     "output_type": "execute_result"
    }
   ],
   "source": [
    "savefig(\"globins pairs convergence plots.svg\")"
   ]
  },
  {
   "cell_type": "code",
   "execution_count": 48,
   "metadata": {},
   "outputs": [
    {
     "data": {
      "text/plain": [
       "Gelman, Rubin, and Brooks diagnostic\n",
       " \u001b[1m parameters \u001b[0m \u001b[1m    psrf \u001b[0m \u001b[1m  psrfci \u001b[0m\n",
       " \u001b[90m     Symbol \u001b[0m \u001b[90m Float64 \u001b[0m \u001b[90m Float64 \u001b[0m\n",
       "\n",
       "        t[1]    1.5871    2.6841\n",
       "        t[2]    1.1332    1.3503\n",
       "        t[3]    1.2024    1.5871\n",
       "     τ.λμ[1]    1.9118    5.2021\n",
       "     τ.λμ[2]    2.0055    7.4905\n",
       "         τ.r    1.4975    2.2771\n",
       "      Θ.μ[1]    1.1921    1.6034\n",
       "      Θ.μ[2]    1.3951    2.7491\n",
       "     Θ.σ²[1]    1.3208    2.3171\n",
       "     Θ.σ²[2]    1.2873    1.7977\n",
       "      Θ.α[1]    1.6213    4.3347\n",
       "      Θ.α[2]    2.2051    5.4284\n",
       "         Θ.γ    1.1358    1.2404\n",
       "    Θ.α_corr    1.1638    1.4155\n"
      ]
     },
     "execution_count": 48,
     "metadata": {},
     "output_type": "execute_result"
    }
   ],
   "source": [
    "gelmandiag(chain)"
   ]
  },
  {
   "cell_type": "markdown",
   "metadata": {},
   "source": [
    "# 3. Alignment & Branch lengths"
   ]
  },
  {
   "cell_type": "markdown",
   "metadata": {},
   "source": [
    "### 3.1 Set parameters"
   ]
  },
  {
   "cell_type": "code",
   "execution_count": 4,
   "metadata": {},
   "outputs": [
    {
     "data": {
      "text/plain": [
       "144.70960008717455"
      ]
     },
     "execution_count": 4,
     "metadata": {},
     "output_type": "execute_result"
    }
   ],
   "source": [
    "Λ = (0.2599, 0.2656, 0.678)\n",
    "(λ, μ, r) = Λ\n",
    "mean_fragment_length = 1 /(1-r)\n",
    "mean_seq_length = 1/(1 - λ/μ)\n",
    "mean_fragment_length*mean_seq_length"
   ]
  },
  {
   "cell_type": "code",
   "execution_count": 5,
   "metadata": {},
   "outputs": [],
   "source": [
    "S = WAG_SubstitutionProcess()\n",
    "μ_𝜙=-1.2224; μ_𝜓=-0.3769; σ_𝜙=sqrt(0.4017); σ_𝜓=sqrt(0.2584); α_𝜙=1.3537; α_𝜓=0.2157; α_corr=0.6902; γ=0.0034\n",
    "α_cov = α_corr * sqrt(α_𝜙 * α_𝜓)\n",
    "Θ = JumpingWrappedDiffusion(μ_𝜙, μ_𝜓, σ_𝜙, σ_𝜓, α_𝜙, α_𝜓, α_cov, γ)\n",
    "ξ = ProductProcess(S, Θ);"
   ]
  },
  {
   "cell_type": "markdown",
   "metadata": {},
   "source": [
    "### 3.2 Probabilistic Model"
   ]
  },
  {
   "cell_type": "code",
   "execution_count": 7,
   "metadata": {},
   "outputs": [],
   "source": [
    "@model function triple_alignment_sampler(Y, Z, W, Λ, ξ; max_N_X=200)\n",
    "    N_Y = num_sites(Y); N_Z = num_sites(Z); N_W = num_sites(W)\n",
    "    # ____________________________________________________________________________________________________\n",
    "    # Step 1 - Sample prior parameters\n",
    "    \n",
    "    # Time parameters\n",
    "    t ~ filldist(Exponential(1.0), 3)\n",
    "    t_Y=t[1]; t_Z=t[2]; t_W=t[3]\n",
    "    \n",
    "    # Check parameter validity \n",
    "    if t_Y ≤ 0 || t_Z ≤ 0 || t_W ≤ 0\n",
    "        Turing.@addlogprob! -Inf; return\n",
    "    end\n",
    "    \n",
    "    # ____________________________________________________________________________________________________\n",
    "    # Step 2 - Observe data and simultaneously construct alignment \n",
    "    \n",
    "    # First, observe Y and Z and sample a triple alignment of X, Y and Z \n",
    "    τ_XYZ = TKF92([t_Y, t_Z], Λ...; known_ancestor=false)\n",
    "    α_YZ = get_α(τ_XYZ, [Y, Z])\n",
    "    Γ_YZ = ChainJointDistribution(ξ, τ_XYZ)\n",
    "    # (Y, Z) ~ ChainJointDistribution(ξ, τ_XYZ)\n",
    "    Turing.@addlogprob! logpdfα!(α_YZ, Γ_YZ, (Y, Z))\n",
    "    \n",
    "    M_XYZ = tzeros(Int, max_N_X + N_Y + N_Z)\n",
    "    M_XYZ ~ ConditionedAlignmentDistribution(τ_XYZ, α_YZ; max_length=max_N_X + N_Y + N_Z)\n",
    "    \n",
    "    # Construct X, the hidden ancestor chain, given alignment M_XYZ and data Y, Z\n",
    "    X = hiddenchain_from_alignment(Y, Z, t_Y, t_Z, Alignment(M_XYZ, τ_XYZ), ξ); N_X = num_sites(X)\n",
    "    \n",
    "    # Finally, observe W given X and sample alignment of X and W\n",
    "    τ_XW = TKF92([t_W], Λ...; known_ancestor=true)\n",
    "    α_XW = get_α(τ_XW, [X, W])\n",
    "    Γ_XW = ChainTransitionDistribution(ξ, τ_XW, X)\n",
    "    # W ~ ChainTransitionDistribution(ξ, τ_XW, X)\n",
    "    Turing.@addlogprob! logpdfα!(α_XW, Γ_XW, W)\n",
    "    M_XW = tzeros(Int, N_X + N_W)\n",
    "    M_XW ~ ConditionedAlignmentDistribution(τ_XW, α_XW; max_length=N_X + N_W)\n",
    "    \n",
    "    #full_alignment = combine(1, Alignment(M_XYZ, [1, 2, 3], τ_XYZ), Alignment(M_XW, [1, 4], τ_XW))\n",
    "    #print(\"times: XY: $t_Y, XZ: $t_Z, XW: $t_W \\n\")\n",
    "    #show_filled_alignment(full_alignment, fill('#', N_X), id_to_aa.(data(Y)[1]), id_to_aa.(data(Z)[1]), id_to_aa.(data(W)[1]))\n",
    "    #return full_alignment\n",
    "end;"
   ]
  },
  {
   "cell_type": "markdown",
   "metadata": {},
   "source": [
    "### 3.3.0 Experiment with different coordinate choices"
   ]
  },
  {
   "cell_type": "markdown",
   "metadata": {},
   "source": [
    "### 3.3.1 Both substitution and diffusion"
   ]
  },
  {
   "cell_type": "code",
   "execution_count": 24,
   "metadata": {},
   "outputs": [
    {
     "data": {
      "text/plain": [
       "mcmcchain_to_alignments (generic function with 1 method)"
      ]
     },
     "execution_count": 24,
     "metadata": {},
     "output_type": "execute_result"
    }
   ],
   "source": [
    "function mcmcchain_to_alignments(chain)\n",
    "    d = collect(get(chain, :M_XYZ).M_XYZ)\n",
    "    len = length(d)\n",
    "    mat = vcat([(d[i].data)' for i ∈ 1:len]...)\n",
    "    mat[ismissing.(mat)] .= 0.0\n",
    "    mat = Int.(mat)\n",
    "    τ_XYZ = TKF92([1.0, 1.0], Λ...; known_ancestor=false)\n",
    "    M_XYZs = [Alignment(vec(mat[:, i]), [1, 2, 3], τ_XYZ) for i ∈ 1:size(mat,2)]\n",
    "    \n",
    "    d = collect(get(chain, :M_XW).M_XW)\n",
    "    len = length(d)\n",
    "    mat = vcat([(d[i].data)' for i ∈ 1:len]...)\n",
    "    mat[ismissing.(mat)] .= 0.0\n",
    "    mat = Int.(mat)\n",
    "    τ_XW = TKF92([1.0], Λ...; known_ancestor=true)\n",
    "    M_XWs = [Alignment(vec(mat[:, i]), [1, 4], τ_XW) for i ∈ 1:size(mat,2)]\n",
    "    \n",
    "    M_XYZWs = combine.(Ref(1), M_XYZs, M_XWs)\n",
    "    M_YZWs = subalignment.(M_XYZWs, Ref([2, 3, 4]))\n",
    "    M_YZWs = Alignment.(data.(M_YZWs), Ref([1, 2, 3]) )\n",
    "    M_YZWs\n",
    "end\n"
   ]
  },
  {
   "cell_type": "code",
   "execution_count": 31,
   "metadata": {
    "scrolled": false
   },
   "outputs": [
    {
     "name": "stderr",
     "output_type": "stream",
     "text": [
      "\u001b[32mSampling: 100%|█████████████████████████████████████████| Time: 0:25:11\u001b[39m\n",
      "\u001b[36m\u001b[1m[ \u001b[22m\u001b[39m\u001b[36m\u001b[1mInfo: \u001b[22m\u001b[39m984906.8937875752\n"
     ]
    }
   ],
   "source": [
    "model = triple_alignment_sampler(Y, Z, W, Λ, ξ; max_N_X=400)\n",
    "num_samples = 500\n",
    "chain = sample(model, IS(), num_samples);\n",
    "sub_diff_alignments = mcmcchain_to_alignments(chain);\n",
    "@info covariance_sum(sub_diff_alignments)"
   ]
  },
  {
   "cell_type": "markdown",
   "metadata": {},
   "source": [
    "### 3.3.2 Only substitution"
   ]
  },
  {
   "cell_type": "code",
   "execution_count": 32,
   "metadata": {},
   "outputs": [
    {
     "name": "stderr",
     "output_type": "stream",
     "text": [
      "\u001b[32mSampling: 100%|█████████████████████████████████████████| Time: 0:17:15\u001b[39m\n",
      "\u001b[36m\u001b[1m[ \u001b[22m\u001b[39m\u001b[36m\u001b[1mInfo: \u001b[22m\u001b[39m1.7883454589178357e6\n"
     ]
    }
   ],
   "source": [
    "Y_sub = slice(Y, :, [1]); Z_sub = slice(Z, :, [1]); W_sub = slice(W, :, [1]); ξ_sub = ProductProcess(S)\n",
    "model = triple_alignment_sampler(Y_sub, Z_sub, W_sub, Λ, ξ_sub; max_N_X=400)\n",
    "num_samples = 500\n",
    "chain = sample(model, IS(), num_samples)\n",
    "sub_alignments = mcmcchain_to_alignments(chain)\n",
    "@info covariance_sum(sub_alignments)"
   ]
  },
  {
   "cell_type": "markdown",
   "metadata": {},
   "source": [
    "### 3.3.3 Only diffusion"
   ]
  },
  {
   "cell_type": "code",
   "execution_count": null,
   "metadata": {},
   "outputs": [
    {
     "name": "stderr",
     "output_type": "stream",
     "text": [
      "\u001b[32mSampling:  70%|█████████████████████████████            |  ETA: 0:07:04\u001b[39m"
     ]
    }
   ],
   "source": [
    "Y_diff = slice(Y, :, [2]); Z_diff = slice(Z, :, [2]); W_diff = slice(W, :, [2]); ξ_diff = ProductProcess(Θ)\n",
    "model = triple_alignment_sampler(Y_diff, Z_diff, W_diff, Λ, ξ_diff; max_N_X=400)\n",
    "num_samples = 500\n",
    "chain = sample(model, IS(), num_samples)\n",
    "diff_alignments = mcmcchain_to_alignments(chain)\n",
    "@info covariance_sum(diff_alignments)"
   ]
  },
  {
   "cell_type": "markdown",
   "metadata": {},
   "source": [
    "### 3.3.4 Comparing their covariances"
   ]
  },
  {
   "cell_type": "code",
   "execution_count": null,
   "metadata": {},
   "outputs": [],
   "source": [
    "@info covariance_sum(sub_diff_alignments)\n",
    "@info covariance_sum(sub_alignments)\n",
    "@info covariance_sum(diff_alignments)"
   ]
  },
  {
   "cell_type": "markdown",
   "metadata": {},
   "source": [
    "### 3.3.5 Compare with clustal alignment"
   ]
  },
  {
   "cell_type": "code",
   "execution_count": null,
   "metadata": {},
   "outputs": [],
   "source": [
    "function sample_variance(v::AbstractVector{Alignment}, x::Alignment)\n",
    "    N = length(v)\n",
    "    res = 0\n",
    "    for i ∈ 1:N\n",
    "        res += distance(v[i], x)\n",
    "    end\n",
    "    return res / (N-1)\n",
    "end"
   ]
  },
  {
   "cell_type": "code",
   "execution_count": null,
   "metadata": {},
   "outputs": [],
   "source": [
    "@info sample_variance(sub_diff_alignments, clustal_M_YZW)\n",
    "@info sample_variance(sub_alignments, clustal_M_YZW)\n",
    "@info sample_variance(diff_alignments, clustal_M_YZW)"
   ]
  },
  {
   "cell_type": "markdown",
   "metadata": {},
   "source": [
    "### 3.3.6 miscellaneous "
   ]
  },
  {
   "cell_type": "code",
   "execution_count": 23,
   "metadata": {},
   "outputs": [
    {
     "data": {
      "image/png": "[encoded data removed]",
      "image/svg+xml": [
       "<?xml version=\"1.0\" encoding=\"utf-8\"?>\n",
       "<svg xmlns=\"http://www.w3.org/2000/svg\" xmlns:xlink=\"http://www.w3.org/1999/xlink\" width=\"600\" height=\"400\" viewBox=\"0 0 2400 1600\">\n",
       "<defs>\n",
       "  <clipPath id=\"clip070\">\n",
       "    <rect x=\"0\" y=\"0\" width=\"2400\" height=\"1600\"/>\n",
       "  </clipPath>\n",
       "</defs>\n",
       "<path clip-path=\"url(#clip070)\" d=\"M0 1600 L2400 1600 L2400 0 L0 0  Z\" fill=\"#ffffff\" fill-rule=\"evenodd\" fill-opacity=\"1\"/>\n",
       "<defs>\n",
       "  <clipPath id=\"clip071\">\n",
       "    <rect x=\"480\" y=\"0\" width=\"1681\" height=\"1600\"/>\n",
       "  </clipPath>\n",
       "</defs>\n",
       "<path clip-path=\"url(#clip070)\" d=\"M239.19 1486.45 L2352.76 1486.45 L2352.76 47.2441 L239.19 47.2441  Z\" fill=\"#ffffff\" fill-rule=\"evenodd\" fill-opacity=\"1\"/>\n",
       "<defs>\n",
       "  <clipPath id=\"clip072\">\n",
       "    <rect x=\"239\" y=\"47\" width=\"2115\" height=\"1440\"/>\n",
       "  </clipPath>\n",
       "</defs>\n",
       "<polyline clip-path=\"url(#clip072)\" style=\"stroke:#000000; stroke-linecap:round; stroke-linejoin:round; stroke-width:2; stroke-opacity:0.1; fill:none\" points=\"520.556,1486.45 520.556,47.2441 \"/>\n",
       "<polyline clip-path=\"url(#clip072)\" style=\"stroke:#000000; stroke-linecap:round; stroke-linejoin:round; stroke-width:2; stroke-opacity:0.1; fill:none\" points=\"963.652,1486.45 963.652,47.2441 \"/>\n",
       "<polyline clip-path=\"url(#clip072)\" style=\"stroke:#000000; stroke-linecap:round; stroke-linejoin:round; stroke-width:2; stroke-opacity:0.1; fill:none\" points=\"1406.75,1486.45 1406.75,47.2441 \"/>\n",
       "<polyline clip-path=\"url(#clip072)\" style=\"stroke:#000000; stroke-linecap:round; stroke-linejoin:round; stroke-width:2; stroke-opacity:0.1; fill:none\" points=\"1849.84,1486.45 1849.84,47.2441 \"/>\n",
       "<polyline clip-path=\"url(#clip072)\" style=\"stroke:#000000; stroke-linecap:round; stroke-linejoin:round; stroke-width:2; stroke-opacity:0.1; fill:none\" points=\"2292.94,1486.45 2292.94,47.2441 \"/>\n",
       "<polyline clip-path=\"url(#clip070)\" style=\"stroke:#000000; stroke-linecap:round; stroke-linejoin:round; stroke-width:4; stroke-opacity:1; fill:none\" points=\"239.19,1486.45 2352.76,1486.45 \"/>\n",
       "<polyline clip-path=\"url(#clip070)\" style=\"stroke:#000000; stroke-linecap:round; stroke-linejoin:round; stroke-width:4; stroke-opacity:1; fill:none\" points=\"520.556,1486.45 520.556,1467.55 \"/>\n",
       "<polyline clip-path=\"url(#clip070)\" style=\"stroke:#000000; stroke-linecap:round; stroke-linejoin:round; stroke-width:4; stroke-opacity:1; fill:none\" points=\"963.652,1486.45 963.652,1467.55 \"/>\n",
       "<polyline clip-path=\"url(#clip070)\" style=\"stroke:#000000; stroke-linecap:round; stroke-linejoin:round; stroke-width:4; stroke-opacity:1; fill:none\" points=\"1406.75,1486.45 1406.75,1467.55 \"/>\n",
       "<polyline clip-path=\"url(#clip070)\" style=\"stroke:#000000; stroke-linecap:round; stroke-linejoin:round; stroke-width:4; stroke-opacity:1; fill:none\" points=\"1849.84,1486.45 1849.84,1467.55 \"/>\n",
       "<polyline clip-path=\"url(#clip070)\" style=\"stroke:#000000; stroke-linecap:round; stroke-linejoin:round; stroke-width:4; stroke-opacity:1; fill:none\" points=\"2292.94,1486.45 2292.94,1467.55 \"/>\n",
       "<path clip-path=\"url(#clip070)\" d=\"M515.209 1544.91 L531.528 1544.91 L531.528 1548.85 L509.584 1548.85 L509.584 1544.91 Q512.246 1542.16 516.829 1537.53 Q521.436 1532.88 522.616 1531.53 Q524.862 1529.01 525.741 1527.27 Q526.644 1525.51 526.644 1523.82 Q526.644 1521.07 524.7 1519.33 Q522.778 1517.6 519.676 1517.6 Q517.477 1517.6 515.024 1518.36 Q512.593 1519.13 509.815 1520.68 L509.815 1515.95 Q512.639 1514.82 515.093 1514.24 Q517.547 1513.66 519.584 1513.66 Q524.954 1513.66 528.149 1516.35 Q531.343 1519.03 531.343 1523.52 Q531.343 1525.65 530.533 1527.57 Q529.746 1529.47 527.639 1532.07 Q527.061 1532.74 523.959 1535.95 Q520.857 1539.15 515.209 1544.91 Z\" fill=\"#000000\" fill-rule=\"nonzero\" fill-opacity=\"1\" /><path clip-path=\"url(#clip070)\" d=\"M966.661 1518.36 L954.855 1536.81 L966.661 1536.81 L966.661 1518.36 M965.434 1514.29 L971.314 1514.29 L971.314 1536.81 L976.244 1536.81 L976.244 1540.7 L971.314 1540.7 L971.314 1548.85 L966.661 1548.85 L966.661 1540.7 L951.059 1540.7 L951.059 1536.19 L965.434 1514.29 Z\" fill=\"#000000\" fill-rule=\"nonzero\" fill-opacity=\"1\" /><path clip-path=\"url(#clip070)\" d=\"M1407.15 1529.7 Q1404 1529.7 1402.15 1531.86 Q1400.32 1534.01 1400.32 1537.76 Q1400.32 1541.49 1402.15 1543.66 Q1404 1545.82 1407.15 1545.82 Q1410.3 1545.82 1412.13 1543.66 Q1413.98 1541.49 1413.98 1537.76 Q1413.98 1534.01 1412.13 1531.86 Q1410.3 1529.7 1407.15 1529.7 M1416.43 1515.05 L1416.43 1519.31 Q1414.68 1518.48 1412.87 1518.04 Q1411.09 1517.6 1409.33 1517.6 Q1404.7 1517.6 1402.24 1520.72 Q1399.81 1523.85 1399.47 1530.17 Q1400.83 1528.15 1402.89 1527.09 Q1404.95 1526 1407.43 1526 Q1412.64 1526 1415.65 1529.17 Q1418.68 1532.32 1418.68 1537.76 Q1418.68 1543.08 1415.53 1546.3 Q1412.38 1549.52 1407.15 1549.52 Q1401.16 1549.52 1397.99 1544.94 Q1394.81 1540.33 1394.81 1531.6 Q1394.81 1523.41 1398.7 1518.55 Q1402.59 1513.66 1409.14 1513.66 Q1410.9 1513.66 1412.68 1514.01 Q1414.49 1514.36 1416.43 1515.05 Z\" fill=\"#000000\" fill-rule=\"nonzero\" fill-opacity=\"1\" /><path clip-path=\"url(#clip070)\" d=\"M1849.84 1532.44 Q1846.51 1532.44 1844.59 1534.22 Q1842.69 1536 1842.69 1539.13 Q1842.69 1542.25 1844.59 1544.03 Q1846.51 1545.82 1849.84 1545.82 Q1853.18 1545.82 1855.1 1544.03 Q1857.02 1542.23 1857.02 1539.13 Q1857.02 1536 1855.1 1534.22 Q1853.2 1532.44 1849.84 1532.44 M1845.17 1530.45 Q1842.16 1529.7 1840.47 1527.64 Q1838.8 1525.58 1838.8 1522.62 Q1838.8 1518.48 1841.74 1516.07 Q1844.7 1513.66 1849.84 1513.66 Q1855 1513.66 1857.94 1516.07 Q1860.88 1518.48 1860.88 1522.62 Q1860.88 1525.58 1859.19 1527.64 Q1857.53 1529.7 1854.54 1530.45 Q1857.92 1531.23 1859.8 1533.52 Q1861.69 1535.82 1861.69 1539.13 Q1861.69 1544.15 1858.62 1546.83 Q1855.56 1549.52 1849.84 1549.52 Q1844.12 1549.52 1841.05 1546.83 Q1837.99 1544.15 1837.99 1539.13 Q1837.99 1535.82 1839.89 1533.52 Q1841.79 1531.23 1845.17 1530.45 M1843.45 1523.06 Q1843.45 1525.75 1845.12 1527.25 Q1846.81 1528.76 1849.84 1528.76 Q1852.85 1528.76 1854.54 1527.25 Q1856.25 1525.75 1856.25 1523.06 Q1856.25 1520.38 1854.54 1518.87 Q1852.85 1517.37 1849.84 1517.37 Q1846.81 1517.37 1845.12 1518.87 Q1843.45 1520.38 1843.45 1523.06 Z\" fill=\"#000000\" fill-rule=\"nonzero\" fill-opacity=\"1\" /><path clip-path=\"url(#clip070)\" d=\"M2267.63 1544.91 L2275.26 1544.91 L2275.26 1518.55 L2266.95 1520.21 L2266.95 1515.95 L2275.22 1514.29 L2279.89 1514.29 L2279.89 1544.91 L2287.53 1544.91 L2287.53 1548.85 L2267.63 1548.85 L2267.63 1544.91 Z\" fill=\"#000000\" fill-rule=\"nonzero\" fill-opacity=\"1\" /><path clip-path=\"url(#clip070)\" d=\"M2306.98 1517.37 Q2303.37 1517.37 2301.54 1520.93 Q2299.73 1524.47 2299.73 1531.6 Q2299.73 1538.71 2301.54 1542.27 Q2303.37 1545.82 2306.98 1545.82 Q2310.61 1545.82 2312.42 1542.27 Q2314.25 1538.71 2314.25 1531.6 Q2314.25 1524.47 2312.42 1520.93 Q2310.61 1517.37 2306.98 1517.37 M2306.98 1513.66 Q2312.79 1513.66 2315.84 1518.27 Q2318.92 1522.85 2318.92 1531.6 Q2318.92 1540.33 2315.84 1544.94 Q2312.79 1549.52 2306.98 1549.52 Q2301.17 1549.52 2298.09 1544.94 Q2295.03 1540.33 2295.03 1531.6 Q2295.03 1522.85 2298.09 1518.27 Q2301.17 1513.66 2306.98 1513.66 Z\" fill=\"#000000\" fill-rule=\"nonzero\" fill-opacity=\"1\" /><polyline clip-path=\"url(#clip072)\" style=\"stroke:#000000; stroke-linecap:round; stroke-linejoin:round; stroke-width:2; stroke-opacity:0.1; fill:none\" points=\"239.19,1375.98 2352.76,1375.98 \"/>\n",
       "<polyline clip-path=\"url(#clip072)\" style=\"stroke:#000000; stroke-linecap:round; stroke-linejoin:round; stroke-width:2; stroke-opacity:0.1; fill:none\" points=\"239.19,1135.41 2352.76,1135.41 \"/>\n",
       "<polyline clip-path=\"url(#clip072)\" style=\"stroke:#000000; stroke-linecap:round; stroke-linejoin:round; stroke-width:2; stroke-opacity:0.1; fill:none\" points=\"239.19,894.847 2352.76,894.847 \"/>\n",
       "<polyline clip-path=\"url(#clip072)\" style=\"stroke:#000000; stroke-linecap:round; stroke-linejoin:round; stroke-width:2; stroke-opacity:0.1; fill:none\" points=\"239.19,654.28 2352.76,654.28 \"/>\n",
       "<polyline clip-path=\"url(#clip072)\" style=\"stroke:#000000; stroke-linecap:round; stroke-linejoin:round; stroke-width:2; stroke-opacity:0.1; fill:none\" points=\"239.19,413.714 2352.76,413.714 \"/>\n",
       "<polyline clip-path=\"url(#clip072)\" style=\"stroke:#000000; stroke-linecap:round; stroke-linejoin:round; stroke-width:2; stroke-opacity:0.1; fill:none\" points=\"239.19,173.147 2352.76,173.147 \"/>\n",
       "<polyline clip-path=\"url(#clip070)\" style=\"stroke:#000000; stroke-linecap:round; stroke-linejoin:round; stroke-width:4; stroke-opacity:1; fill:none\" points=\"239.19,1486.45 239.19,47.2441 \"/>\n",
       "<polyline clip-path=\"url(#clip070)\" style=\"stroke:#000000; stroke-linecap:round; stroke-linejoin:round; stroke-width:4; stroke-opacity:1; fill:none\" points=\"239.19,1375.98 258.088,1375.98 \"/>\n",
       "<polyline clip-path=\"url(#clip070)\" style=\"stroke:#000000; stroke-linecap:round; stroke-linejoin:round; stroke-width:4; stroke-opacity:1; fill:none\" points=\"239.19,1135.41 258.088,1135.41 \"/>\n",
       "<polyline clip-path=\"url(#clip070)\" style=\"stroke:#000000; stroke-linecap:round; stroke-linejoin:round; stroke-width:4; stroke-opacity:1; fill:none\" points=\"239.19,894.847 258.088,894.847 \"/>\n",
       "<polyline clip-path=\"url(#clip070)\" style=\"stroke:#000000; stroke-linecap:round; stroke-linejoin:round; stroke-width:4; stroke-opacity:1; fill:none\" points=\"239.19,654.28 258.088,654.28 \"/>\n",
       "<polyline clip-path=\"url(#clip070)\" style=\"stroke:#000000; stroke-linecap:round; stroke-linejoin:round; stroke-width:4; stroke-opacity:1; fill:none\" points=\"239.19,413.714 258.088,413.714 \"/>\n",
       "<polyline clip-path=\"url(#clip070)\" style=\"stroke:#000000; stroke-linecap:round; stroke-linejoin:round; stroke-width:4; stroke-opacity:1; fill:none\" points=\"239.19,173.147 258.088,173.147 \"/>\n",
       "<path clip-path=\"url(#clip070)\" d=\"M50.9921 1376.43 L80.6679 1376.43 L80.6679 1380.37 L50.9921 1380.37 L50.9921 1376.43 Z\" fill=\"#000000\" fill-rule=\"nonzero\" fill-opacity=\"1\" /><path clip-path=\"url(#clip070)\" d=\"M91.5706 1389.32 L99.2095 1389.32 L99.2095 1362.96 L90.8993 1364.63 L90.8993 1360.37 L99.1632 1358.7 L103.839 1358.7 L103.839 1389.32 L111.478 1389.32 L111.478 1393.26 L91.5706 1393.26 L91.5706 1389.32 Z\" fill=\"#000000\" fill-rule=\"nonzero\" fill-opacity=\"1\" /><path clip-path=\"url(#clip070)\" d=\"M124.95 1389.32 L141.269 1389.32 L141.269 1393.26 L119.325 1393.26 L119.325 1389.32 Q121.987 1386.57 126.57 1381.94 Q131.177 1377.29 132.357 1375.94 Q134.603 1373.42 135.482 1371.69 Q136.385 1369.93 136.385 1368.24 Q136.385 1365.48 134.441 1363.75 Q132.519 1362.01 129.418 1362.01 Q127.219 1362.01 124.765 1362.77 Q122.334 1363.54 119.557 1365.09 L119.557 1360.37 Q122.381 1359.23 124.834 1358.65 Q127.288 1358.07 129.325 1358.07 Q134.695 1358.07 137.89 1360.76 Q141.084 1363.45 141.084 1367.94 Q141.084 1370.07 140.274 1371.99 Q139.487 1373.88 137.381 1376.48 Q136.802 1377.15 133.7 1380.37 Q130.598 1383.56 124.95 1389.32 Z\" fill=\"#000000\" fill-rule=\"nonzero\" fill-opacity=\"1\" /><path clip-path=\"url(#clip070)\" d=\"M161.084 1361.78 Q157.473 1361.78 155.644 1365.34 Q153.839 1368.88 153.839 1376.01 Q153.839 1383.12 155.644 1386.69 Q157.473 1390.23 161.084 1390.23 Q164.718 1390.23 166.524 1386.69 Q168.353 1383.12 168.353 1376.01 Q168.353 1368.88 166.524 1365.34 Q164.718 1361.78 161.084 1361.78 M161.084 1358.07 Q166.894 1358.07 169.95 1362.68 Q173.029 1367.26 173.029 1376.01 Q173.029 1384.74 169.95 1389.35 Q166.894 1393.93 161.084 1393.93 Q155.274 1393.93 152.195 1389.35 Q149.14 1384.74 149.14 1376.01 Q149.14 1367.26 152.195 1362.68 Q155.274 1358.07 161.084 1358.07 Z\" fill=\"#000000\" fill-rule=\"nonzero\" fill-opacity=\"1\" /><path clip-path=\"url(#clip070)\" d=\"M191.246 1361.78 Q187.635 1361.78 185.806 1365.34 Q184.001 1368.88 184.001 1376.01 Q184.001 1383.12 185.806 1386.69 Q187.635 1390.23 191.246 1390.23 Q194.88 1390.23 196.686 1386.69 Q198.514 1383.12 198.514 1376.01 Q198.514 1368.88 196.686 1365.34 Q194.88 1361.78 191.246 1361.78 M191.246 1358.07 Q197.056 1358.07 200.112 1362.68 Q203.19 1367.26 203.19 1376.01 Q203.19 1384.74 200.112 1389.35 Q197.056 1393.93 191.246 1393.93 Q185.436 1393.93 182.357 1389.35 Q179.302 1384.74 179.302 1376.01 Q179.302 1367.26 182.357 1362.68 Q185.436 1358.07 191.246 1358.07 Z\" fill=\"#000000\" fill-rule=\"nonzero\" fill-opacity=\"1\" /><path clip-path=\"url(#clip070)\" d=\"M50.9921 1135.86 L80.6679 1135.86 L80.6679 1139.8 L50.9921 1139.8 L50.9921 1135.86 Z\" fill=\"#000000\" fill-rule=\"nonzero\" fill-opacity=\"1\" /><path clip-path=\"url(#clip070)\" d=\"M91.5706 1148.76 L99.2095 1148.76 L99.2095 1122.39 L90.8993 1124.06 L90.8993 1119.8 L99.1632 1118.13 L103.839 1118.13 L103.839 1148.76 L111.478 1148.76 L111.478 1152.69 L91.5706 1152.69 L91.5706 1148.76 Z\" fill=\"#000000\" fill-rule=\"nonzero\" fill-opacity=\"1\" /><path clip-path=\"url(#clip070)\" d=\"M121.732 1148.76 L129.371 1148.76 L129.371 1122.39 L121.061 1124.06 L121.061 1119.8 L129.325 1118.13 L134.001 1118.13 L134.001 1148.76 L141.64 1148.76 L141.64 1152.69 L121.732 1152.69 L121.732 1148.76 Z\" fill=\"#000000\" fill-rule=\"nonzero\" fill-opacity=\"1\" /><path clip-path=\"url(#clip070)\" d=\"M161.084 1121.21 Q157.473 1121.21 155.644 1124.78 Q153.839 1128.32 153.839 1135.45 Q153.839 1142.55 155.644 1146.12 Q157.473 1149.66 161.084 1149.66 Q164.718 1149.66 166.524 1146.12 Q168.353 1142.55 168.353 1135.45 Q168.353 1128.32 166.524 1124.78 Q164.718 1121.21 161.084 1121.21 M161.084 1117.51 Q166.894 1117.51 169.95 1122.11 Q173.029 1126.7 173.029 1135.45 Q173.029 1144.17 169.95 1148.78 Q166.894 1153.36 161.084 1153.36 Q155.274 1153.36 152.195 1148.78 Q149.14 1144.17 149.14 1135.45 Q149.14 1126.7 152.195 1122.11 Q155.274 1117.51 161.084 1117.51 Z\" fill=\"#000000\" fill-rule=\"nonzero\" fill-opacity=\"1\" /><path clip-path=\"url(#clip070)\" d=\"M191.246 1121.21 Q187.635 1121.21 185.806 1124.78 Q184.001 1128.32 184.001 1135.45 Q184.001 1142.55 185.806 1146.12 Q187.635 1149.66 191.246 1149.66 Q194.88 1149.66 196.686 1146.12 Q198.514 1142.55 198.514 1135.45 Q198.514 1128.32 196.686 1124.78 Q194.88 1121.21 191.246 1121.21 M191.246 1117.51 Q197.056 1117.51 200.112 1122.11 Q203.19 1126.7 203.19 1135.45 Q203.19 1144.17 200.112 1148.78 Q197.056 1153.36 191.246 1153.36 Q185.436 1153.36 182.357 1148.78 Q179.302 1144.17 179.302 1135.45 Q179.302 1126.7 182.357 1122.11 Q185.436 1117.51 191.246 1117.51 Z\" fill=\"#000000\" fill-rule=\"nonzero\" fill-opacity=\"1\" /><path clip-path=\"url(#clip070)\" d=\"M50.9921 895.298 L80.6679 895.298 L80.6679 899.233 L50.9921 899.233 L50.9921 895.298 Z\" fill=\"#000000\" fill-rule=\"nonzero\" fill-opacity=\"1\" /><path clip-path=\"url(#clip070)\" d=\"M91.5706 908.191 L99.2095 908.191 L99.2095 881.826 L90.8993 883.492 L90.8993 879.233 L99.1632 877.567 L103.839 877.567 L103.839 908.191 L111.478 908.191 L111.478 912.127 L91.5706 912.127 L91.5706 908.191 Z\" fill=\"#000000\" fill-rule=\"nonzero\" fill-opacity=\"1\" /><path clip-path=\"url(#clip070)\" d=\"M130.922 880.645 Q127.311 880.645 125.482 884.21 Q123.677 887.752 123.677 894.881 Q123.677 901.988 125.482 905.553 Q127.311 909.094 130.922 909.094 Q134.556 909.094 136.362 905.553 Q138.191 901.988 138.191 894.881 Q138.191 887.752 136.362 884.21 Q134.556 880.645 130.922 880.645 M130.922 876.942 Q136.732 876.942 139.788 881.548 Q142.867 886.131 142.867 894.881 Q142.867 903.608 139.788 908.215 Q136.732 912.798 130.922 912.798 Q125.112 912.798 122.033 908.215 Q118.978 903.608 118.978 894.881 Q118.978 886.131 122.033 881.548 Q125.112 876.942 130.922 876.942 Z\" fill=\"#000000\" fill-rule=\"nonzero\" fill-opacity=\"1\" /><path clip-path=\"url(#clip070)\" d=\"M161.084 880.645 Q157.473 880.645 155.644 884.21 Q153.839 887.752 153.839 894.881 Q153.839 901.988 155.644 905.553 Q157.473 909.094 161.084 909.094 Q164.718 909.094 166.524 905.553 Q168.353 901.988 168.353 894.881 Q168.353 887.752 166.524 884.21 Q164.718 880.645 161.084 880.645 M161.084 876.942 Q166.894 876.942 169.95 881.548 Q173.029 886.131 173.029 894.881 Q173.029 903.608 169.95 908.215 Q166.894 912.798 161.084 912.798 Q155.274 912.798 152.195 908.215 Q149.14 903.608 149.14 894.881 Q149.14 886.131 152.195 881.548 Q155.274 876.942 161.084 876.942 Z\" fill=\"#000000\" fill-rule=\"nonzero\" fill-opacity=\"1\" /><path clip-path=\"url(#clip070)\" d=\"M191.246 880.645 Q187.635 880.645 185.806 884.21 Q184.001 887.752 184.001 894.881 Q184.001 901.988 185.806 905.553 Q187.635 909.094 191.246 909.094 Q194.88 909.094 196.686 905.553 Q198.514 901.988 198.514 894.881 Q198.514 887.752 196.686 884.21 Q194.88 880.645 191.246 880.645 M191.246 876.942 Q197.056 876.942 200.112 881.548 Q203.19 886.131 203.19 894.881 Q203.19 903.608 200.112 908.215 Q197.056 912.798 191.246 912.798 Q185.436 912.798 182.357 908.215 Q179.302 903.608 179.302 894.881 Q179.302 886.131 182.357 881.548 Q185.436 876.942 191.246 876.942 Z\" fill=\"#000000\" fill-rule=\"nonzero\" fill-opacity=\"1\" /><path clip-path=\"url(#clip070)\" d=\"M81.154 654.731 L110.83 654.731 L110.83 658.667 L81.154 658.667 L81.154 654.731 Z\" fill=\"#000000\" fill-rule=\"nonzero\" fill-opacity=\"1\" /><path clip-path=\"url(#clip070)\" d=\"M121.061 670.842 L121.061 666.583 Q122.82 667.417 124.626 667.856 Q126.432 668.296 128.168 668.296 Q132.797 668.296 135.228 665.194 Q137.681 662.069 138.029 655.727 Q136.686 657.718 134.626 658.782 Q132.566 659.847 130.066 659.847 Q124.881 659.847 121.848 656.722 Q118.839 653.574 118.839 648.134 Q118.839 642.81 121.987 639.593 Q125.135 636.375 130.367 636.375 Q136.362 636.375 139.51 640.982 Q142.681 645.565 142.681 654.315 Q142.681 662.486 138.793 667.37 Q134.927 672.231 128.376 672.231 Q126.617 672.231 124.811 671.884 Q123.006 671.537 121.061 670.842 M130.367 656.19 Q133.515 656.19 135.344 654.037 Q137.195 651.884 137.195 648.134 Q137.195 644.407 135.344 642.255 Q133.515 640.079 130.367 640.079 Q127.219 640.079 125.367 642.255 Q123.538 644.407 123.538 648.134 Q123.538 651.884 125.367 654.037 Q127.219 656.19 130.367 656.19 Z\" fill=\"#000000\" fill-rule=\"nonzero\" fill-opacity=\"1\" /><path clip-path=\"url(#clip070)\" d=\"M161.084 640.079 Q157.473 640.079 155.644 643.644 Q153.839 647.185 153.839 654.315 Q153.839 661.421 155.644 664.986 Q157.473 668.528 161.084 668.528 Q164.718 668.528 166.524 664.986 Q168.353 661.421 168.353 654.315 Q168.353 647.185 166.524 643.644 Q164.718 640.079 161.084 640.079 M161.084 636.375 Q166.894 636.375 169.95 640.982 Q173.029 645.565 173.029 654.315 Q173.029 663.042 169.95 667.648 Q166.894 672.231 161.084 672.231 Q155.274 672.231 152.195 667.648 Q149.14 663.042 149.14 654.315 Q149.14 645.565 152.195 640.982 Q155.274 636.375 161.084 636.375 Z\" fill=\"#000000\" fill-rule=\"nonzero\" fill-opacity=\"1\" /><path clip-path=\"url(#clip070)\" d=\"M191.246 640.079 Q187.635 640.079 185.806 643.644 Q184.001 647.185 184.001 654.315 Q184.001 661.421 185.806 664.986 Q187.635 668.528 191.246 668.528 Q194.88 668.528 196.686 664.986 Q198.514 661.421 198.514 654.315 Q198.514 647.185 196.686 643.644 Q194.88 640.079 191.246 640.079 M191.246 636.375 Q197.056 636.375 200.112 640.982 Q203.19 645.565 203.19 654.315 Q203.19 663.042 200.112 667.648 Q197.056 672.231 191.246 672.231 Q185.436 672.231 182.357 667.648 Q179.302 663.042 179.302 654.315 Q179.302 645.565 182.357 640.982 Q185.436 636.375 191.246 636.375 Z\" fill=\"#000000\" fill-rule=\"nonzero\" fill-opacity=\"1\" /><path clip-path=\"url(#clip070)\" d=\"M81.154 414.165 L110.83 414.165 L110.83 418.1 L81.154 418.1 L81.154 414.165 Z\" fill=\"#000000\" fill-rule=\"nonzero\" fill-opacity=\"1\" /><path clip-path=\"url(#clip070)\" d=\"M130.922 414.582 Q127.589 414.582 125.668 416.364 Q123.77 418.146 123.77 421.271 Q123.77 424.396 125.668 426.179 Q127.589 427.961 130.922 427.961 Q134.256 427.961 136.177 426.179 Q138.098 424.373 138.098 421.271 Q138.098 418.146 136.177 416.364 Q134.279 414.582 130.922 414.582 M126.246 412.591 Q123.237 411.85 121.547 409.79 Q119.881 407.73 119.881 404.767 Q119.881 400.623 122.82 398.216 Q125.783 395.809 130.922 395.809 Q136.084 395.809 139.024 398.216 Q141.964 400.623 141.964 404.767 Q141.964 407.73 140.274 409.79 Q138.607 411.85 135.621 412.591 Q139.001 413.378 140.876 415.67 Q142.774 417.961 142.774 421.271 Q142.774 426.294 139.695 428.98 Q136.64 431.665 130.922 431.665 Q125.205 431.665 122.126 428.98 Q119.07 426.294 119.07 421.271 Q119.07 417.961 120.969 415.67 Q122.867 413.378 126.246 412.591 M124.533 405.207 Q124.533 407.892 126.2 409.396 Q127.89 410.901 130.922 410.901 Q133.931 410.901 135.621 409.396 Q137.334 407.892 137.334 405.207 Q137.334 402.521 135.621 401.017 Q133.931 399.512 130.922 399.512 Q127.89 399.512 126.2 401.017 Q124.533 402.521 124.533 405.207 Z\" fill=\"#000000\" fill-rule=\"nonzero\" fill-opacity=\"1\" /><path clip-path=\"url(#clip070)\" d=\"M161.084 399.512 Q157.473 399.512 155.644 403.077 Q153.839 406.619 153.839 413.748 Q153.839 420.855 155.644 424.419 Q157.473 427.961 161.084 427.961 Q164.718 427.961 166.524 424.419 Q168.353 420.855 168.353 413.748 Q168.353 406.619 166.524 403.077 Q164.718 399.512 161.084 399.512 M161.084 395.809 Q166.894 395.809 169.95 400.415 Q173.029 404.998 173.029 413.748 Q173.029 422.475 169.95 427.082 Q166.894 431.665 161.084 431.665 Q155.274 431.665 152.195 427.082 Q149.14 422.475 149.14 413.748 Q149.14 404.998 152.195 400.415 Q155.274 395.809 161.084 395.809 Z\" fill=\"#000000\" fill-rule=\"nonzero\" fill-opacity=\"1\" /><path clip-path=\"url(#clip070)\" d=\"M191.246 399.512 Q187.635 399.512 185.806 403.077 Q184.001 406.619 184.001 413.748 Q184.001 420.855 185.806 424.419 Q187.635 427.961 191.246 427.961 Q194.88 427.961 196.686 424.419 Q198.514 420.855 198.514 413.748 Q198.514 406.619 196.686 403.077 Q194.88 399.512 191.246 399.512 M191.246 395.809 Q197.056 395.809 200.112 400.415 Q203.19 404.998 203.19 413.748 Q203.19 422.475 200.112 427.082 Q197.056 431.665 191.246 431.665 Q185.436 431.665 182.357 427.082 Q179.302 422.475 179.302 413.748 Q179.302 404.998 182.357 400.415 Q185.436 395.809 191.246 395.809 Z\" fill=\"#000000\" fill-rule=\"nonzero\" fill-opacity=\"1\" /><path clip-path=\"url(#clip070)\" d=\"M81.154 173.598 L110.83 173.598 L110.83 177.534 L81.154 177.534 L81.154 173.598 Z\" fill=\"#000000\" fill-rule=\"nonzero\" fill-opacity=\"1\" /><path clip-path=\"url(#clip070)\" d=\"M119.742 155.867 L141.964 155.867 L141.964 157.858 L129.418 190.427 L124.533 190.427 L136.339 159.802 L119.742 159.802 L119.742 155.867 Z\" fill=\"#000000\" fill-rule=\"nonzero\" fill-opacity=\"1\" /><path clip-path=\"url(#clip070)\" d=\"M161.084 158.946 Q157.473 158.946 155.644 162.51 Q153.839 166.052 153.839 173.182 Q153.839 180.288 155.644 183.853 Q157.473 187.395 161.084 187.395 Q164.718 187.395 166.524 183.853 Q168.353 180.288 168.353 173.182 Q168.353 166.052 166.524 162.51 Q164.718 158.946 161.084 158.946 M161.084 155.242 Q166.894 155.242 169.95 159.848 Q173.029 164.432 173.029 173.182 Q173.029 181.909 169.95 186.515 Q166.894 191.098 161.084 191.098 Q155.274 191.098 152.195 186.515 Q149.14 181.909 149.14 173.182 Q149.14 164.432 152.195 159.848 Q155.274 155.242 161.084 155.242 Z\" fill=\"#000000\" fill-rule=\"nonzero\" fill-opacity=\"1\" /><path clip-path=\"url(#clip070)\" d=\"M191.246 158.946 Q187.635 158.946 185.806 162.51 Q184.001 166.052 184.001 173.182 Q184.001 180.288 185.806 183.853 Q187.635 187.395 191.246 187.395 Q194.88 187.395 196.686 183.853 Q198.514 180.288 198.514 173.182 Q198.514 166.052 196.686 162.51 Q194.88 158.946 191.246 158.946 M191.246 155.242 Q197.056 155.242 200.112 159.848 Q203.19 164.432 203.19 173.182 Q203.19 181.909 200.112 186.515 Q197.056 191.098 191.246 191.098 Q185.436 191.098 182.357 186.515 Q179.302 181.909 179.302 173.182 Q179.302 164.432 182.357 159.848 Q185.436 155.242 191.246 155.242 Z\" fill=\"#000000\" fill-rule=\"nonzero\" fill-opacity=\"1\" /><polyline clip-path=\"url(#clip072)\" style=\"stroke:#009af9; stroke-linecap:round; stroke-linejoin:round; stroke-width:4; stroke-opacity:1; fill:none\" points=\"299.008,245.724 520.556,241.807 742.104,174.278 963.652,870.961 1185.2,251.701 1406.75,1445.72 1628.29,299.257 1849.84,87.9763 2071.39,360.751 2292.94,897.743 \"/>\n",
       "<path clip-path=\"url(#clip070)\" d=\"M2018.52 1438.47 L2282.3 1438.47 L2282.3 1334.79 L2018.52 1334.79  Z\" fill=\"#ffffff\" fill-rule=\"evenodd\" fill-opacity=\"1\"/>\n",
       "<polyline clip-path=\"url(#clip070)\" style=\"stroke:#000000; stroke-linecap:round; stroke-linejoin:round; stroke-width:4; stroke-opacity:1; fill:none\" points=\"2018.52,1438.47 2282.3,1438.47 2282.3,1334.79 2018.52,1334.79 2018.52,1438.47 \"/>\n",
       "<polyline clip-path=\"url(#clip070)\" style=\"stroke:#009af9; stroke-linecap:round; stroke-linejoin:round; stroke-width:4; stroke-opacity:1; fill:none\" points=\"2042,1386.63 2182.91,1386.63 \"/>\n",
       "<path clip-path=\"url(#clip070)\" d=\"M2220.23 1406.32 Q2218.43 1410.95 2216.71 1412.36 Q2215 1413.78 2212.13 1413.78 L2208.73 1413.78 L2208.73 1410.21 L2211.23 1410.21 Q2212.99 1410.21 2213.96 1409.38 Q2214.93 1408.54 2216.11 1405.44 L2216.88 1403.5 L2206.39 1377.99 L2210.9 1377.99 L2219.01 1398.27 L2227.11 1377.99 L2231.62 1377.99 L2220.23 1406.32 Z\" fill=\"#000000\" fill-rule=\"nonzero\" fill-opacity=\"1\" /><path clip-path=\"url(#clip070)\" d=\"M2238.91 1399.98 L2246.55 1399.98 L2246.55 1373.61 L2238.24 1375.28 L2238.24 1371.02 L2246.5 1369.35 L2251.18 1369.35 L2251.18 1399.98 L2258.82 1399.98 L2258.82 1403.91 L2238.91 1403.91 L2238.91 1399.98 Z\" fill=\"#000000\" fill-rule=\"nonzero\" fill-opacity=\"1\" /></svg>\n"
      ],
      "text/html": [
       "<?xml version=\"1.0\" encoding=\"utf-8\"?>\n",
       "<svg xmlns=\"http://www.w3.org/2000/svg\" xmlns:xlink=\"http://www.w3.org/1999/xlink\" width=\"600\" height=\"400\" viewBox=\"0 0 2400 1600\">\n",
       "<defs>\n",
       "  <clipPath id=\"clip120\">\n",
       "    <rect x=\"0\" y=\"0\" width=\"2400\" height=\"1600\"/>\n",
       "  </clipPath>\n",
       "</defs>\n",
       "<path clip-path=\"url(#clip120)\" d=\"M0 1600 L2400 1600 L2400 0 L0 0  Z\" fill=\"#ffffff\" fill-rule=\"evenodd\" fill-opacity=\"1\"/>\n",
       "<defs>\n",
       "  <clipPath id=\"clip121\">\n",
       "    <rect x=\"480\" y=\"0\" width=\"1681\" height=\"1600\"/>\n",
       "  </clipPath>\n",
       "</defs>\n",
       "<path clip-path=\"url(#clip120)\" d=\"M239.19 1486.45 L2352.76 1486.45 L2352.76 47.2441 L239.19 47.2441  Z\" fill=\"#ffffff\" fill-rule=\"evenodd\" fill-opacity=\"1\"/>\n",
       "<defs>\n",
       "  <clipPath id=\"clip122\">\n",
       "    <rect x=\"239\" y=\"47\" width=\"2115\" height=\"1440\"/>\n",
       "  </clipPath>\n",
       "</defs>\n",
       "<polyline clip-path=\"url(#clip122)\" style=\"stroke:#000000; stroke-linecap:round; stroke-linejoin:round; stroke-width:2; stroke-opacity:0.1; fill:none\" points=\"520.556,1486.45 520.556,47.2441 \"/>\n",
       "<polyline clip-path=\"url(#clip122)\" style=\"stroke:#000000; stroke-linecap:round; stroke-linejoin:round; stroke-width:2; stroke-opacity:0.1; fill:none\" points=\"963.652,1486.45 963.652,47.2441 \"/>\n",
       "<polyline clip-path=\"url(#clip122)\" style=\"stroke:#000000; stroke-linecap:round; stroke-linejoin:round; stroke-width:2; stroke-opacity:0.1; fill:none\" points=\"1406.75,1486.45 1406.75,47.2441 \"/>\n",
       "<polyline clip-path=\"url(#clip122)\" style=\"stroke:#000000; stroke-linecap:round; stroke-linejoin:round; stroke-width:2; stroke-opacity:0.1; fill:none\" points=\"1849.84,1486.45 1849.84,47.2441 \"/>\n",
       "<polyline clip-path=\"url(#clip122)\" style=\"stroke:#000000; stroke-linecap:round; stroke-linejoin:round; stroke-width:2; stroke-opacity:0.1; fill:none\" points=\"2292.94,1486.45 2292.94,47.2441 \"/>\n",
       "<polyline clip-path=\"url(#clip120)\" style=\"stroke:#000000; stroke-linecap:round; stroke-linejoin:round; stroke-width:4; stroke-opacity:1; fill:none\" points=\"239.19,1486.45 2352.76,1486.45 \"/>\n",
       "<polyline clip-path=\"url(#clip120)\" style=\"stroke:#000000; stroke-linecap:round; stroke-linejoin:round; stroke-width:4; stroke-opacity:1; fill:none\" points=\"520.556,1486.45 520.556,1467.55 \"/>\n",
       "<polyline clip-path=\"url(#clip120)\" style=\"stroke:#000000; stroke-linecap:round; stroke-linejoin:round; stroke-width:4; stroke-opacity:1; fill:none\" points=\"963.652,1486.45 963.652,1467.55 \"/>\n",
       "<polyline clip-path=\"url(#clip120)\" style=\"stroke:#000000; stroke-linecap:round; stroke-linejoin:round; stroke-width:4; stroke-opacity:1; fill:none\" points=\"1406.75,1486.45 1406.75,1467.55 \"/>\n",
       "<polyline clip-path=\"url(#clip120)\" style=\"stroke:#000000; stroke-linecap:round; stroke-linejoin:round; stroke-width:4; stroke-opacity:1; fill:none\" points=\"1849.84,1486.45 1849.84,1467.55 \"/>\n",
       "<polyline clip-path=\"url(#clip120)\" style=\"stroke:#000000; stroke-linecap:round; stroke-linejoin:round; stroke-width:4; stroke-opacity:1; fill:none\" points=\"2292.94,1486.45 2292.94,1467.55 \"/>\n",
       "<path clip-path=\"url(#clip120)\" d=\"M515.209 1544.91 L531.528 1544.91 L531.528 1548.85 L509.584 1548.85 L509.584 1544.91 Q512.246 1542.16 516.829 1537.53 Q521.436 1532.88 522.616 1531.53 Q524.862 1529.01 525.741 1527.27 Q526.644 1525.51 526.644 1523.82 Q526.644 1521.07 524.7 1519.33 Q522.778 1517.6 519.676 1517.6 Q517.477 1517.6 515.024 1518.36 Q512.593 1519.13 509.815 1520.68 L509.815 1515.95 Q512.639 1514.82 515.093 1514.24 Q517.547 1513.66 519.584 1513.66 Q524.954 1513.66 528.149 1516.35 Q531.343 1519.03 531.343 1523.52 Q531.343 1525.65 530.533 1527.57 Q529.746 1529.47 527.639 1532.07 Q527.061 1532.74 523.959 1535.95 Q520.857 1539.15 515.209 1544.91 Z\" fill=\"#000000\" fill-rule=\"nonzero\" fill-opacity=\"1\" /><path clip-path=\"url(#clip120)\" d=\"M966.661 1518.36 L954.855 1536.81 L966.661 1536.81 L966.661 1518.36 M965.434 1514.29 L971.314 1514.29 L971.314 1536.81 L976.244 1536.81 L976.244 1540.7 L971.314 1540.7 L971.314 1548.85 L966.661 1548.85 L966.661 1540.7 L951.059 1540.7 L951.059 1536.19 L965.434 1514.29 Z\" fill=\"#000000\" fill-rule=\"nonzero\" fill-opacity=\"1\" /><path clip-path=\"url(#clip120)\" d=\"M1407.15 1529.7 Q1404 1529.7 1402.15 1531.86 Q1400.32 1534.01 1400.32 1537.76 Q1400.32 1541.49 1402.15 1543.66 Q1404 1545.82 1407.15 1545.82 Q1410.3 1545.82 1412.13 1543.66 Q1413.98 1541.49 1413.98 1537.76 Q1413.98 1534.01 1412.13 1531.86 Q1410.3 1529.7 1407.15 1529.7 M1416.43 1515.05 L1416.43 1519.31 Q1414.68 1518.48 1412.87 1518.04 Q1411.09 1517.6 1409.33 1517.6 Q1404.7 1517.6 1402.24 1520.72 Q1399.81 1523.85 1399.47 1530.17 Q1400.83 1528.15 1402.89 1527.09 Q1404.95 1526 1407.43 1526 Q1412.64 1526 1415.65 1529.17 Q1418.68 1532.32 1418.68 1537.76 Q1418.68 1543.08 1415.53 1546.3 Q1412.38 1549.52 1407.15 1549.52 Q1401.16 1549.52 1397.99 1544.94 Q1394.81 1540.33 1394.81 1531.6 Q1394.81 1523.41 1398.7 1518.55 Q1402.59 1513.66 1409.14 1513.66 Q1410.9 1513.66 1412.68 1514.01 Q1414.49 1514.36 1416.43 1515.05 Z\" fill=\"#000000\" fill-rule=\"nonzero\" fill-opacity=\"1\" /><path clip-path=\"url(#clip120)\" d=\"M1849.84 1532.44 Q1846.51 1532.44 1844.59 1534.22 Q1842.69 1536 1842.69 1539.13 Q1842.69 1542.25 1844.59 1544.03 Q1846.51 1545.82 1849.84 1545.82 Q1853.18 1545.82 1855.1 1544.03 Q1857.02 1542.23 1857.02 1539.13 Q1857.02 1536 1855.1 1534.22 Q1853.2 1532.44 1849.84 1532.44 M1845.17 1530.45 Q1842.16 1529.7 1840.47 1527.64 Q1838.8 1525.58 1838.8 1522.62 Q1838.8 1518.48 1841.74 1516.07 Q1844.7 1513.66 1849.84 1513.66 Q1855 1513.66 1857.94 1516.07 Q1860.88 1518.48 1860.88 1522.62 Q1860.88 1525.58 1859.19 1527.64 Q1857.53 1529.7 1854.54 1530.45 Q1857.92 1531.23 1859.8 1533.52 Q1861.69 1535.82 1861.69 1539.13 Q1861.69 1544.15 1858.62 1546.83 Q1855.56 1549.52 1849.84 1549.52 Q1844.12 1549.52 1841.05 1546.83 Q1837.99 1544.15 1837.99 1539.13 Q1837.99 1535.82 1839.89 1533.52 Q1841.79 1531.23 1845.17 1530.45 M1843.45 1523.06 Q1843.45 1525.75 1845.12 1527.25 Q1846.81 1528.76 1849.84 1528.76 Q1852.85 1528.76 1854.54 1527.25 Q1856.25 1525.75 1856.25 1523.06 Q1856.25 1520.38 1854.54 1518.87 Q1852.85 1517.37 1849.84 1517.37 Q1846.81 1517.37 1845.12 1518.87 Q1843.45 1520.38 1843.45 1523.06 Z\" fill=\"#000000\" fill-rule=\"nonzero\" fill-opacity=\"1\" /><path clip-path=\"url(#clip120)\" d=\"M2267.63 1544.91 L2275.26 1544.91 L2275.26 1518.55 L2266.95 1520.21 L2266.95 1515.95 L2275.22 1514.29 L2279.89 1514.29 L2279.89 1544.91 L2287.53 1544.91 L2287.53 1548.85 L2267.63 1548.85 L2267.63 1544.91 Z\" fill=\"#000000\" fill-rule=\"nonzero\" fill-opacity=\"1\" /><path clip-path=\"url(#clip120)\" d=\"M2306.98 1517.37 Q2303.37 1517.37 2301.54 1520.93 Q2299.73 1524.47 2299.73 1531.6 Q2299.73 1538.71 2301.54 1542.27 Q2303.37 1545.82 2306.98 1545.82 Q2310.61 1545.82 2312.42 1542.27 Q2314.25 1538.71 2314.25 1531.6 Q2314.25 1524.47 2312.42 1520.93 Q2310.61 1517.37 2306.98 1517.37 M2306.98 1513.66 Q2312.79 1513.66 2315.84 1518.27 Q2318.92 1522.85 2318.92 1531.6 Q2318.92 1540.33 2315.84 1544.94 Q2312.79 1549.52 2306.98 1549.52 Q2301.17 1549.52 2298.09 1544.94 Q2295.03 1540.33 2295.03 1531.6 Q2295.03 1522.85 2298.09 1518.27 Q2301.17 1513.66 2306.98 1513.66 Z\" fill=\"#000000\" fill-rule=\"nonzero\" fill-opacity=\"1\" /><polyline clip-path=\"url(#clip122)\" style=\"stroke:#000000; stroke-linecap:round; stroke-linejoin:round; stroke-width:2; stroke-opacity:0.1; fill:none\" points=\"239.19,1375.98 2352.76,1375.98 \"/>\n",
       "<polyline clip-path=\"url(#clip122)\" style=\"stroke:#000000; stroke-linecap:round; stroke-linejoin:round; stroke-width:2; stroke-opacity:0.1; fill:none\" points=\"239.19,1135.41 2352.76,1135.41 \"/>\n",
       "<polyline clip-path=\"url(#clip122)\" style=\"stroke:#000000; stroke-linecap:round; stroke-linejoin:round; stroke-width:2; stroke-opacity:0.1; fill:none\" points=\"239.19,894.847 2352.76,894.847 \"/>\n",
       "<polyline clip-path=\"url(#clip122)\" style=\"stroke:#000000; stroke-linecap:round; stroke-linejoin:round; stroke-width:2; stroke-opacity:0.1; fill:none\" points=\"239.19,654.28 2352.76,654.28 \"/>\n",
       "<polyline clip-path=\"url(#clip122)\" style=\"stroke:#000000; stroke-linecap:round; stroke-linejoin:round; stroke-width:2; stroke-opacity:0.1; fill:none\" points=\"239.19,413.714 2352.76,413.714 \"/>\n",
       "<polyline clip-path=\"url(#clip122)\" style=\"stroke:#000000; stroke-linecap:round; stroke-linejoin:round; stroke-width:2; stroke-opacity:0.1; fill:none\" points=\"239.19,173.147 2352.76,173.147 \"/>\n",
       "<polyline clip-path=\"url(#clip120)\" style=\"stroke:#000000; stroke-linecap:round; stroke-linejoin:round; stroke-width:4; stroke-opacity:1; fill:none\" points=\"239.19,1486.45 239.19,47.2441 \"/>\n",
       "<polyline clip-path=\"url(#clip120)\" style=\"stroke:#000000; stroke-linecap:round; stroke-linejoin:round; stroke-width:4; stroke-opacity:1; fill:none\" points=\"239.19,1375.98 258.088,1375.98 \"/>\n",
       "<polyline clip-path=\"url(#clip120)\" style=\"stroke:#000000; stroke-linecap:round; stroke-linejoin:round; stroke-width:4; stroke-opacity:1; fill:none\" points=\"239.19,1135.41 258.088,1135.41 \"/>\n",
       "<polyline clip-path=\"url(#clip120)\" style=\"stroke:#000000; stroke-linecap:round; stroke-linejoin:round; stroke-width:4; stroke-opacity:1; fill:none\" points=\"239.19,894.847 258.088,894.847 \"/>\n",
       "<polyline clip-path=\"url(#clip120)\" style=\"stroke:#000000; stroke-linecap:round; stroke-linejoin:round; stroke-width:4; stroke-opacity:1; fill:none\" points=\"239.19,654.28 258.088,654.28 \"/>\n",
       "<polyline clip-path=\"url(#clip120)\" style=\"stroke:#000000; stroke-linecap:round; stroke-linejoin:round; stroke-width:4; stroke-opacity:1; fill:none\" points=\"239.19,413.714 258.088,413.714 \"/>\n",
       "<polyline clip-path=\"url(#clip120)\" style=\"stroke:#000000; stroke-linecap:round; stroke-linejoin:round; stroke-width:4; stroke-opacity:1; fill:none\" points=\"239.19,173.147 258.088,173.147 \"/>\n",
       "<path clip-path=\"url(#clip120)\" d=\"M50.9921 1376.43 L80.6679 1376.43 L80.6679 1380.37 L50.9921 1380.37 L50.9921 1376.43 Z\" fill=\"#000000\" fill-rule=\"nonzero\" fill-opacity=\"1\" /><path clip-path=\"url(#clip120)\" d=\"M91.5706 1389.32 L99.2095 1389.32 L99.2095 1362.96 L90.8993 1364.63 L90.8993 1360.37 L99.1632 1358.7 L103.839 1358.7 L103.839 1389.32 L111.478 1389.32 L111.478 1393.26 L91.5706 1393.26 L91.5706 1389.32 Z\" fill=\"#000000\" fill-rule=\"nonzero\" fill-opacity=\"1\" /><path clip-path=\"url(#clip120)\" d=\"M124.95 1389.32 L141.269 1389.32 L141.269 1393.26 L119.325 1393.26 L119.325 1389.32 Q121.987 1386.57 126.57 1381.94 Q131.177 1377.29 132.357 1375.94 Q134.603 1373.42 135.482 1371.69 Q136.385 1369.93 136.385 1368.24 Q136.385 1365.48 134.441 1363.75 Q132.519 1362.01 129.418 1362.01 Q127.219 1362.01 124.765 1362.77 Q122.334 1363.54 119.557 1365.09 L119.557 1360.37 Q122.381 1359.23 124.834 1358.65 Q127.288 1358.07 129.325 1358.07 Q134.695 1358.07 137.89 1360.76 Q141.084 1363.45 141.084 1367.94 Q141.084 1370.07 140.274 1371.99 Q139.487 1373.88 137.381 1376.48 Q136.802 1377.15 133.7 1380.37 Q130.598 1383.56 124.95 1389.32 Z\" fill=\"#000000\" fill-rule=\"nonzero\" fill-opacity=\"1\" /><path clip-path=\"url(#clip120)\" d=\"M161.084 1361.78 Q157.473 1361.78 155.644 1365.34 Q153.839 1368.88 153.839 1376.01 Q153.839 1383.12 155.644 1386.69 Q157.473 1390.23 161.084 1390.23 Q164.718 1390.23 166.524 1386.69 Q168.353 1383.12 168.353 1376.01 Q168.353 1368.88 166.524 1365.34 Q164.718 1361.78 161.084 1361.78 M161.084 1358.07 Q166.894 1358.07 169.95 1362.68 Q173.029 1367.26 173.029 1376.01 Q173.029 1384.74 169.95 1389.35 Q166.894 1393.93 161.084 1393.93 Q155.274 1393.93 152.195 1389.35 Q149.14 1384.74 149.14 1376.01 Q149.14 1367.26 152.195 1362.68 Q155.274 1358.07 161.084 1358.07 Z\" fill=\"#000000\" fill-rule=\"nonzero\" fill-opacity=\"1\" /><path clip-path=\"url(#clip120)\" d=\"M191.246 1361.78 Q187.635 1361.78 185.806 1365.34 Q184.001 1368.88 184.001 1376.01 Q184.001 1383.12 185.806 1386.69 Q187.635 1390.23 191.246 1390.23 Q194.88 1390.23 196.686 1386.69 Q198.514 1383.12 198.514 1376.01 Q198.514 1368.88 196.686 1365.34 Q194.88 1361.78 191.246 1361.78 M191.246 1358.07 Q197.056 1358.07 200.112 1362.68 Q203.19 1367.26 203.19 1376.01 Q203.19 1384.74 200.112 1389.35 Q197.056 1393.93 191.246 1393.93 Q185.436 1393.93 182.357 1389.35 Q179.302 1384.74 179.302 1376.01 Q179.302 1367.26 182.357 1362.68 Q185.436 1358.07 191.246 1358.07 Z\" fill=\"#000000\" fill-rule=\"nonzero\" fill-opacity=\"1\" /><path clip-path=\"url(#clip120)\" d=\"M50.9921 1135.86 L80.6679 1135.86 L80.6679 1139.8 L50.9921 1139.8 L50.9921 1135.86 Z\" fill=\"#000000\" fill-rule=\"nonzero\" fill-opacity=\"1\" /><path clip-path=\"url(#clip120)\" d=\"M91.5706 1148.76 L99.2095 1148.76 L99.2095 1122.39 L90.8993 1124.06 L90.8993 1119.8 L99.1632 1118.13 L103.839 1118.13 L103.839 1148.76 L111.478 1148.76 L111.478 1152.69 L91.5706 1152.69 L91.5706 1148.76 Z\" fill=\"#000000\" fill-rule=\"nonzero\" fill-opacity=\"1\" /><path clip-path=\"url(#clip120)\" d=\"M121.732 1148.76 L129.371 1148.76 L129.371 1122.39 L121.061 1124.06 L121.061 1119.8 L129.325 1118.13 L134.001 1118.13 L134.001 1148.76 L141.64 1148.76 L141.64 1152.69 L121.732 1152.69 L121.732 1148.76 Z\" fill=\"#000000\" fill-rule=\"nonzero\" fill-opacity=\"1\" /><path clip-path=\"url(#clip120)\" d=\"M161.084 1121.21 Q157.473 1121.21 155.644 1124.78 Q153.839 1128.32 153.839 1135.45 Q153.839 1142.55 155.644 1146.12 Q157.473 1149.66 161.084 1149.66 Q164.718 1149.66 166.524 1146.12 Q168.353 1142.55 168.353 1135.45 Q168.353 1128.32 166.524 1124.78 Q164.718 1121.21 161.084 1121.21 M161.084 1117.51 Q166.894 1117.51 169.95 1122.11 Q173.029 1126.7 173.029 1135.45 Q173.029 1144.17 169.95 1148.78 Q166.894 1153.36 161.084 1153.36 Q155.274 1153.36 152.195 1148.78 Q149.14 1144.17 149.14 1135.45 Q149.14 1126.7 152.195 1122.11 Q155.274 1117.51 161.084 1117.51 Z\" fill=\"#000000\" fill-rule=\"nonzero\" fill-opacity=\"1\" /><path clip-path=\"url(#clip120)\" d=\"M191.246 1121.21 Q187.635 1121.21 185.806 1124.78 Q184.001 1128.32 184.001 1135.45 Q184.001 1142.55 185.806 1146.12 Q187.635 1149.66 191.246 1149.66 Q194.88 1149.66 196.686 1146.12 Q198.514 1142.55 198.514 1135.45 Q198.514 1128.32 196.686 1124.78 Q194.88 1121.21 191.246 1121.21 M191.246 1117.51 Q197.056 1117.51 200.112 1122.11 Q203.19 1126.7 203.19 1135.45 Q203.19 1144.17 200.112 1148.78 Q197.056 1153.36 191.246 1153.36 Q185.436 1153.36 182.357 1148.78 Q179.302 1144.17 179.302 1135.45 Q179.302 1126.7 182.357 1122.11 Q185.436 1117.51 191.246 1117.51 Z\" fill=\"#000000\" fill-rule=\"nonzero\" fill-opacity=\"1\" /><path clip-path=\"url(#clip120)\" d=\"M50.9921 895.298 L80.6679 895.298 L80.6679 899.233 L50.9921 899.233 L50.9921 895.298 Z\" fill=\"#000000\" fill-rule=\"nonzero\" fill-opacity=\"1\" /><path clip-path=\"url(#clip120)\" d=\"M91.5706 908.191 L99.2095 908.191 L99.2095 881.826 L90.8993 883.492 L90.8993 879.233 L99.1632 877.567 L103.839 877.567 L103.839 908.191 L111.478 908.191 L111.478 912.127 L91.5706 912.127 L91.5706 908.191 Z\" fill=\"#000000\" fill-rule=\"nonzero\" fill-opacity=\"1\" /><path clip-path=\"url(#clip120)\" d=\"M130.922 880.645 Q127.311 880.645 125.482 884.21 Q123.677 887.752 123.677 894.881 Q123.677 901.988 125.482 905.553 Q127.311 909.094 130.922 909.094 Q134.556 909.094 136.362 905.553 Q138.191 901.988 138.191 894.881 Q138.191 887.752 136.362 884.21 Q134.556 880.645 130.922 880.645 M130.922 876.942 Q136.732 876.942 139.788 881.548 Q142.867 886.131 142.867 894.881 Q142.867 903.608 139.788 908.215 Q136.732 912.798 130.922 912.798 Q125.112 912.798 122.033 908.215 Q118.978 903.608 118.978 894.881 Q118.978 886.131 122.033 881.548 Q125.112 876.942 130.922 876.942 Z\" fill=\"#000000\" fill-rule=\"nonzero\" fill-opacity=\"1\" /><path clip-path=\"url(#clip120)\" d=\"M161.084 880.645 Q157.473 880.645 155.644 884.21 Q153.839 887.752 153.839 894.881 Q153.839 901.988 155.644 905.553 Q157.473 909.094 161.084 909.094 Q164.718 909.094 166.524 905.553 Q168.353 901.988 168.353 894.881 Q168.353 887.752 166.524 884.21 Q164.718 880.645 161.084 880.645 M161.084 876.942 Q166.894 876.942 169.95 881.548 Q173.029 886.131 173.029 894.881 Q173.029 903.608 169.95 908.215 Q166.894 912.798 161.084 912.798 Q155.274 912.798 152.195 908.215 Q149.14 903.608 149.14 894.881 Q149.14 886.131 152.195 881.548 Q155.274 876.942 161.084 876.942 Z\" fill=\"#000000\" fill-rule=\"nonzero\" fill-opacity=\"1\" /><path clip-path=\"url(#clip120)\" d=\"M191.246 880.645 Q187.635 880.645 185.806 884.21 Q184.001 887.752 184.001 894.881 Q184.001 901.988 185.806 905.553 Q187.635 909.094 191.246 909.094 Q194.88 909.094 196.686 905.553 Q198.514 901.988 198.514 894.881 Q198.514 887.752 196.686 884.21 Q194.88 880.645 191.246 880.645 M191.246 876.942 Q197.056 876.942 200.112 881.548 Q203.19 886.131 203.19 894.881 Q203.19 903.608 200.112 908.215 Q197.056 912.798 191.246 912.798 Q185.436 912.798 182.357 908.215 Q179.302 903.608 179.302 894.881 Q179.302 886.131 182.357 881.548 Q185.436 876.942 191.246 876.942 Z\" fill=\"#000000\" fill-rule=\"nonzero\" fill-opacity=\"1\" /><path clip-path=\"url(#clip120)\" d=\"M81.154 654.731 L110.83 654.731 L110.83 658.667 L81.154 658.667 L81.154 654.731 Z\" fill=\"#000000\" fill-rule=\"nonzero\" fill-opacity=\"1\" /><path clip-path=\"url(#clip120)\" d=\"M121.061 670.842 L121.061 666.583 Q122.82 667.417 124.626 667.856 Q126.432 668.296 128.168 668.296 Q132.797 668.296 135.228 665.194 Q137.681 662.069 138.029 655.727 Q136.686 657.718 134.626 658.782 Q132.566 659.847 130.066 659.847 Q124.881 659.847 121.848 656.722 Q118.839 653.574 118.839 648.134 Q118.839 642.81 121.987 639.593 Q125.135 636.375 130.367 636.375 Q136.362 636.375 139.51 640.982 Q142.681 645.565 142.681 654.315 Q142.681 662.486 138.793 667.37 Q134.927 672.231 128.376 672.231 Q126.617 672.231 124.811 671.884 Q123.006 671.537 121.061 670.842 M130.367 656.19 Q133.515 656.19 135.344 654.037 Q137.195 651.884 137.195 648.134 Q137.195 644.407 135.344 642.255 Q133.515 640.079 130.367 640.079 Q127.219 640.079 125.367 642.255 Q123.538 644.407 123.538 648.134 Q123.538 651.884 125.367 654.037 Q127.219 656.19 130.367 656.19 Z\" fill=\"#000000\" fill-rule=\"nonzero\" fill-opacity=\"1\" /><path clip-path=\"url(#clip120)\" d=\"M161.084 640.079 Q157.473 640.079 155.644 643.644 Q153.839 647.185 153.839 654.315 Q153.839 661.421 155.644 664.986 Q157.473 668.528 161.084 668.528 Q164.718 668.528 166.524 664.986 Q168.353 661.421 168.353 654.315 Q168.353 647.185 166.524 643.644 Q164.718 640.079 161.084 640.079 M161.084 636.375 Q166.894 636.375 169.95 640.982 Q173.029 645.565 173.029 654.315 Q173.029 663.042 169.95 667.648 Q166.894 672.231 161.084 672.231 Q155.274 672.231 152.195 667.648 Q149.14 663.042 149.14 654.315 Q149.14 645.565 152.195 640.982 Q155.274 636.375 161.084 636.375 Z\" fill=\"#000000\" fill-rule=\"nonzero\" fill-opacity=\"1\" /><path clip-path=\"url(#clip120)\" d=\"M191.246 640.079 Q187.635 640.079 185.806 643.644 Q184.001 647.185 184.001 654.315 Q184.001 661.421 185.806 664.986 Q187.635 668.528 191.246 668.528 Q194.88 668.528 196.686 664.986 Q198.514 661.421 198.514 654.315 Q198.514 647.185 196.686 643.644 Q194.88 640.079 191.246 640.079 M191.246 636.375 Q197.056 636.375 200.112 640.982 Q203.19 645.565 203.19 654.315 Q203.19 663.042 200.112 667.648 Q197.056 672.231 191.246 672.231 Q185.436 672.231 182.357 667.648 Q179.302 663.042 179.302 654.315 Q179.302 645.565 182.357 640.982 Q185.436 636.375 191.246 636.375 Z\" fill=\"#000000\" fill-rule=\"nonzero\" fill-opacity=\"1\" /><path clip-path=\"url(#clip120)\" d=\"M81.154 414.165 L110.83 414.165 L110.83 418.1 L81.154 418.1 L81.154 414.165 Z\" fill=\"#000000\" fill-rule=\"nonzero\" fill-opacity=\"1\" /><path clip-path=\"url(#clip120)\" d=\"M130.922 414.582 Q127.589 414.582 125.668 416.364 Q123.77 418.146 123.77 421.271 Q123.77 424.396 125.668 426.179 Q127.589 427.961 130.922 427.961 Q134.256 427.961 136.177 426.179 Q138.098 424.373 138.098 421.271 Q138.098 418.146 136.177 416.364 Q134.279 414.582 130.922 414.582 M126.246 412.591 Q123.237 411.85 121.547 409.79 Q119.881 407.73 119.881 404.767 Q119.881 400.623 122.82 398.216 Q125.783 395.809 130.922 395.809 Q136.084 395.809 139.024 398.216 Q141.964 400.623 141.964 404.767 Q141.964 407.73 140.274 409.79 Q138.607 411.85 135.621 412.591 Q139.001 413.378 140.876 415.67 Q142.774 417.961 142.774 421.271 Q142.774 426.294 139.695 428.98 Q136.64 431.665 130.922 431.665 Q125.205 431.665 122.126 428.98 Q119.07 426.294 119.07 421.271 Q119.07 417.961 120.969 415.67 Q122.867 413.378 126.246 412.591 M124.533 405.207 Q124.533 407.892 126.2 409.396 Q127.89 410.901 130.922 410.901 Q133.931 410.901 135.621 409.396 Q137.334 407.892 137.334 405.207 Q137.334 402.521 135.621 401.017 Q133.931 399.512 130.922 399.512 Q127.89 399.512 126.2 401.017 Q124.533 402.521 124.533 405.207 Z\" fill=\"#000000\" fill-rule=\"nonzero\" fill-opacity=\"1\" /><path clip-path=\"url(#clip120)\" d=\"M161.084 399.512 Q157.473 399.512 155.644 403.077 Q153.839 406.619 153.839 413.748 Q153.839 420.855 155.644 424.419 Q157.473 427.961 161.084 427.961 Q164.718 427.961 166.524 424.419 Q168.353 420.855 168.353 413.748 Q168.353 406.619 166.524 403.077 Q164.718 399.512 161.084 399.512 M161.084 395.809 Q166.894 395.809 169.95 400.415 Q173.029 404.998 173.029 413.748 Q173.029 422.475 169.95 427.082 Q166.894 431.665 161.084 431.665 Q155.274 431.665 152.195 427.082 Q149.14 422.475 149.14 413.748 Q149.14 404.998 152.195 400.415 Q155.274 395.809 161.084 395.809 Z\" fill=\"#000000\" fill-rule=\"nonzero\" fill-opacity=\"1\" /><path clip-path=\"url(#clip120)\" d=\"M191.246 399.512 Q187.635 399.512 185.806 403.077 Q184.001 406.619 184.001 413.748 Q184.001 420.855 185.806 424.419 Q187.635 427.961 191.246 427.961 Q194.88 427.961 196.686 424.419 Q198.514 420.855 198.514 413.748 Q198.514 406.619 196.686 403.077 Q194.88 399.512 191.246 399.512 M191.246 395.809 Q197.056 395.809 200.112 400.415 Q203.19 404.998 203.19 413.748 Q203.19 422.475 200.112 427.082 Q197.056 431.665 191.246 431.665 Q185.436 431.665 182.357 427.082 Q179.302 422.475 179.302 413.748 Q179.302 404.998 182.357 400.415 Q185.436 395.809 191.246 395.809 Z\" fill=\"#000000\" fill-rule=\"nonzero\" fill-opacity=\"1\" /><path clip-path=\"url(#clip120)\" d=\"M81.154 173.598 L110.83 173.598 L110.83 177.534 L81.154 177.534 L81.154 173.598 Z\" fill=\"#000000\" fill-rule=\"nonzero\" fill-opacity=\"1\" /><path clip-path=\"url(#clip120)\" d=\"M119.742 155.867 L141.964 155.867 L141.964 157.858 L129.418 190.427 L124.533 190.427 L136.339 159.802 L119.742 159.802 L119.742 155.867 Z\" fill=\"#000000\" fill-rule=\"nonzero\" fill-opacity=\"1\" /><path clip-path=\"url(#clip120)\" d=\"M161.084 158.946 Q157.473 158.946 155.644 162.51 Q153.839 166.052 153.839 173.182 Q153.839 180.288 155.644 183.853 Q157.473 187.395 161.084 187.395 Q164.718 187.395 166.524 183.853 Q168.353 180.288 168.353 173.182 Q168.353 166.052 166.524 162.51 Q164.718 158.946 161.084 158.946 M161.084 155.242 Q166.894 155.242 169.95 159.848 Q173.029 164.432 173.029 173.182 Q173.029 181.909 169.95 186.515 Q166.894 191.098 161.084 191.098 Q155.274 191.098 152.195 186.515 Q149.14 181.909 149.14 173.182 Q149.14 164.432 152.195 159.848 Q155.274 155.242 161.084 155.242 Z\" fill=\"#000000\" fill-rule=\"nonzero\" fill-opacity=\"1\" /><path clip-path=\"url(#clip120)\" d=\"M191.246 158.946 Q187.635 158.946 185.806 162.51 Q184.001 166.052 184.001 173.182 Q184.001 180.288 185.806 183.853 Q187.635 187.395 191.246 187.395 Q194.88 187.395 196.686 183.853 Q198.514 180.288 198.514 173.182 Q198.514 166.052 196.686 162.51 Q194.88 158.946 191.246 158.946 M191.246 155.242 Q197.056 155.242 200.112 159.848 Q203.19 164.432 203.19 173.182 Q203.19 181.909 200.112 186.515 Q197.056 191.098 191.246 191.098 Q185.436 191.098 182.357 186.515 Q179.302 181.909 179.302 173.182 Q179.302 164.432 182.357 159.848 Q185.436 155.242 191.246 155.242 Z\" fill=\"#000000\" fill-rule=\"nonzero\" fill-opacity=\"1\" /><polyline clip-path=\"url(#clip122)\" style=\"stroke:#009af9; stroke-linecap:round; stroke-linejoin:round; stroke-width:4; stroke-opacity:1; fill:none\" points=\"299.008,245.724 520.556,241.807 742.104,174.278 963.652,870.961 1185.2,251.701 1406.75,1445.72 1628.29,299.257 1849.84,87.9763 2071.39,360.751 2292.94,897.743 \"/>\n",
       "<path clip-path=\"url(#clip120)\" d=\"M2018.52 1438.47 L2282.3 1438.47 L2282.3 1334.79 L2018.52 1334.79  Z\" fill=\"#ffffff\" fill-rule=\"evenodd\" fill-opacity=\"1\"/>\n",
       "<polyline clip-path=\"url(#clip120)\" style=\"stroke:#000000; stroke-linecap:round; stroke-linejoin:round; stroke-width:4; stroke-opacity:1; fill:none\" points=\"2018.52,1438.47 2282.3,1438.47 2282.3,1334.79 2018.52,1334.79 2018.52,1438.47 \"/>\n",
       "<polyline clip-path=\"url(#clip120)\" style=\"stroke:#009af9; stroke-linecap:round; stroke-linejoin:round; stroke-width:4; stroke-opacity:1; fill:none\" points=\"2042,1386.63 2182.91,1386.63 \"/>\n",
       "<path clip-path=\"url(#clip120)\" d=\"M2220.23 1406.32 Q2218.43 1410.95 2216.71 1412.36 Q2215 1413.78 2212.13 1413.78 L2208.73 1413.78 L2208.73 1410.21 L2211.23 1410.21 Q2212.99 1410.21 2213.96 1409.38 Q2214.93 1408.54 2216.11 1405.44 L2216.88 1403.5 L2206.39 1377.99 L2210.9 1377.99 L2219.01 1398.27 L2227.11 1377.99 L2231.62 1377.99 L2220.23 1406.32 Z\" fill=\"#000000\" fill-rule=\"nonzero\" fill-opacity=\"1\" /><path clip-path=\"url(#clip120)\" d=\"M2238.91 1399.98 L2246.55 1399.98 L2246.55 1373.61 L2238.24 1375.28 L2238.24 1371.02 L2246.5 1369.35 L2251.18 1369.35 L2251.18 1399.98 L2258.82 1399.98 L2258.82 1403.91 L2238.91 1403.91 L2238.91 1399.98 Z\" fill=\"#000000\" fill-rule=\"nonzero\" fill-opacity=\"1\" /></svg>\n"
      ]
     },
     "execution_count": 23,
     "metadata": {},
     "output_type": "execute_result"
    }
   ],
   "source": [
    "lps = vec(collect(MCMCChains.group(chain, :lp).value))\n",
    "plot(lps)"
   ]
  },
  {
   "cell_type": "code",
   "execution_count": 34,
   "metadata": {},
   "outputs": [
    {
     "data": {
      "image/png": "[encoded data removed]",
      "image/svg+xml": [
       "<?xml version=\"1.0\" encoding=\"utf-8\"?>\n",
       "<svg xmlns=\"http://www.w3.org/2000/svg\" xmlns:xlink=\"http://www.w3.org/1999/xlink\" width=\"600\" height=\"400\" viewBox=\"0 0 2400 1600\">\n",
       "<defs>\n",
       "  <clipPath id=\"clip430\">\n",
       "    <rect x=\"0\" y=\"0\" width=\"2400\" height=\"1600\"/>\n",
       "  </clipPath>\n",
       "</defs>\n",
       "<path clip-path=\"url(#clip430)\" d=\"M0 1600 L2400 1600 L2400 0 L0 0  Z\" fill=\"#ffffff\" fill-rule=\"evenodd\" fill-opacity=\"1\"/>\n",
       "<defs>\n",
       "  <clipPath id=\"clip431\">\n",
       "    <rect x=\"480\" y=\"0\" width=\"1681\" height=\"1600\"/>\n",
       "  </clipPath>\n",
       "</defs>\n",
       "<path clip-path=\"url(#clip430)\" d=\"M112.177 1486.45 L2352.76 1486.45 L2352.76 47.2441 L112.177 47.2441  Z\" fill=\"#ffffff\" fill-rule=\"evenodd\" fill-opacity=\"1\"/>\n",
       "<defs>\n",
       "  <clipPath id=\"clip432\">\n",
       "    <rect x=\"112\" y=\"47\" width=\"2242\" height=\"1440\"/>\n",
       "  </clipPath>\n",
       "</defs>\n",
       "<polyline clip-path=\"url(#clip432)\" style=\"stroke:#000000; stroke-linecap:round; stroke-linejoin:round; stroke-width:2; stroke-opacity:0.1; fill:none\" points=\"467.142,1486.45 467.142,47.2441 \"/>\n",
       "<polyline clip-path=\"url(#clip432)\" style=\"stroke:#000000; stroke-linecap:round; stroke-linejoin:round; stroke-width:2; stroke-opacity:0.1; fill:none\" points=\"831.582,1486.45 831.582,47.2441 \"/>\n",
       "<polyline clip-path=\"url(#clip432)\" style=\"stroke:#000000; stroke-linecap:round; stroke-linejoin:round; stroke-width:2; stroke-opacity:0.1; fill:none\" points=\"1196.02,1486.45 1196.02,47.2441 \"/>\n",
       "<polyline clip-path=\"url(#clip432)\" style=\"stroke:#000000; stroke-linecap:round; stroke-linejoin:round; stroke-width:2; stroke-opacity:0.1; fill:none\" points=\"1560.46,1486.45 1560.46,47.2441 \"/>\n",
       "<polyline clip-path=\"url(#clip432)\" style=\"stroke:#000000; stroke-linecap:round; stroke-linejoin:round; stroke-width:2; stroke-opacity:0.1; fill:none\" points=\"1924.9,1486.45 1924.9,47.2441 \"/>\n",
       "<polyline clip-path=\"url(#clip432)\" style=\"stroke:#000000; stroke-linecap:round; stroke-linejoin:round; stroke-width:2; stroke-opacity:0.1; fill:none\" points=\"2289.34,1486.45 2289.34,47.2441 \"/>\n",
       "<polyline clip-path=\"url(#clip430)\" style=\"stroke:#000000; stroke-linecap:round; stroke-linejoin:round; stroke-width:4; stroke-opacity:1; fill:none\" points=\"112.177,1486.45 2352.76,1486.45 \"/>\n",
       "<polyline clip-path=\"url(#clip430)\" style=\"stroke:#000000; stroke-linecap:round; stroke-linejoin:round; stroke-width:4; stroke-opacity:1; fill:none\" points=\"467.142,1486.45 467.142,1467.55 \"/>\n",
       "<polyline clip-path=\"url(#clip430)\" style=\"stroke:#000000; stroke-linecap:round; stroke-linejoin:round; stroke-width:4; stroke-opacity:1; fill:none\" points=\"831.582,1486.45 831.582,1467.55 \"/>\n",
       "<polyline clip-path=\"url(#clip430)\" style=\"stroke:#000000; stroke-linecap:round; stroke-linejoin:round; stroke-width:4; stroke-opacity:1; fill:none\" points=\"1196.02,1486.45 1196.02,1467.55 \"/>\n",
       "<polyline clip-path=\"url(#clip430)\" style=\"stroke:#000000; stroke-linecap:round; stroke-linejoin:round; stroke-width:4; stroke-opacity:1; fill:none\" points=\"1560.46,1486.45 1560.46,1467.55 \"/>\n",
       "<polyline clip-path=\"url(#clip430)\" style=\"stroke:#000000; stroke-linecap:round; stroke-linejoin:round; stroke-width:4; stroke-opacity:1; fill:none\" points=\"1924.9,1486.45 1924.9,1467.55 \"/>\n",
       "<polyline clip-path=\"url(#clip430)\" style=\"stroke:#000000; stroke-linecap:round; stroke-linejoin:round; stroke-width:4; stroke-opacity:1; fill:none\" points=\"2289.34,1486.45 2289.34,1467.55 \"/>\n",
       "<path clip-path=\"url(#clip430)\" d=\"M457.42 1514.29 L475.776 1514.29 L475.776 1518.22 L461.702 1518.22 L461.702 1526.7 Q462.721 1526.35 463.739 1526.19 Q464.758 1526 465.776 1526 Q471.563 1526 474.943 1529.17 Q478.322 1532.34 478.322 1537.76 Q478.322 1543.34 474.85 1546.44 Q471.378 1549.52 465.059 1549.52 Q462.883 1549.52 460.614 1549.15 Q458.369 1548.78 455.961 1548.04 L455.961 1543.34 Q458.045 1544.47 460.267 1545.03 Q462.489 1545.58 464.966 1545.58 Q468.971 1545.58 471.309 1543.48 Q473.647 1541.37 473.647 1537.76 Q473.647 1534.15 471.309 1532.04 Q468.971 1529.94 464.966 1529.94 Q463.091 1529.94 461.216 1530.35 Q459.364 1530.77 457.42 1531.65 L457.42 1514.29 Z\" fill=\"#000000\" fill-rule=\"nonzero\" fill-opacity=\"1\" /><path clip-path=\"url(#clip430)\" d=\"M806.27 1544.91 L813.909 1544.91 L813.909 1518.55 L805.599 1520.21 L805.599 1515.95 L813.862 1514.29 L818.538 1514.29 L818.538 1544.91 L826.177 1544.91 L826.177 1548.85 L806.27 1548.85 L806.27 1544.91 Z\" fill=\"#000000\" fill-rule=\"nonzero\" fill-opacity=\"1\" /><path clip-path=\"url(#clip430)\" d=\"M845.622 1517.37 Q842.01 1517.37 840.182 1520.93 Q838.376 1524.47 838.376 1531.6 Q838.376 1538.71 840.182 1542.27 Q842.01 1545.82 845.622 1545.82 Q849.256 1545.82 851.061 1542.27 Q852.89 1538.71 852.89 1531.6 Q852.89 1524.47 851.061 1520.93 Q849.256 1517.37 845.622 1517.37 M845.622 1513.66 Q851.432 1513.66 854.487 1518.27 Q857.566 1522.85 857.566 1531.6 Q857.566 1540.33 854.487 1544.94 Q851.432 1549.52 845.622 1549.52 Q839.811 1549.52 836.733 1544.94 Q833.677 1540.33 833.677 1531.6 Q833.677 1522.85 836.733 1518.27 Q839.811 1513.66 845.622 1513.66 Z\" fill=\"#000000\" fill-rule=\"nonzero\" fill-opacity=\"1\" /><path clip-path=\"url(#clip430)\" d=\"M1171.21 1544.91 L1178.85 1544.91 L1178.85 1518.55 L1170.54 1520.21 L1170.54 1515.95 L1178.8 1514.29 L1183.48 1514.29 L1183.48 1544.91 L1191.12 1544.91 L1191.12 1548.85 L1171.21 1548.85 L1171.21 1544.91 Z\" fill=\"#000000\" fill-rule=\"nonzero\" fill-opacity=\"1\" /><path clip-path=\"url(#clip430)\" d=\"M1200.61 1514.29 L1218.96 1514.29 L1218.96 1518.22 L1204.89 1518.22 L1204.89 1526.7 Q1205.91 1526.35 1206.93 1526.19 Q1207.94 1526 1208.96 1526 Q1214.75 1526 1218.13 1529.17 Q1221.51 1532.34 1221.51 1537.76 Q1221.51 1543.34 1218.04 1546.44 Q1214.56 1549.52 1208.24 1549.52 Q1206.07 1549.52 1203.8 1549.15 Q1201.55 1548.78 1199.15 1548.04 L1199.15 1543.34 Q1201.23 1544.47 1203.45 1545.03 Q1205.68 1545.58 1208.15 1545.58 Q1212.16 1545.58 1214.49 1543.48 Q1216.83 1541.37 1216.83 1537.76 Q1216.83 1534.15 1214.49 1532.04 Q1212.16 1529.94 1208.15 1529.94 Q1206.28 1529.94 1204.4 1530.35 Q1202.55 1530.77 1200.61 1531.65 L1200.61 1514.29 Z\" fill=\"#000000\" fill-rule=\"nonzero\" fill-opacity=\"1\" /><path clip-path=\"url(#clip430)\" d=\"M1539.24 1544.91 L1555.56 1544.91 L1555.56 1548.85 L1533.61 1548.85 L1533.61 1544.91 Q1536.27 1542.16 1540.86 1537.53 Q1545.46 1532.88 1546.64 1531.53 Q1548.89 1529.01 1549.77 1527.27 Q1550.67 1525.51 1550.67 1523.82 Q1550.67 1521.07 1548.73 1519.33 Q1546.81 1517.6 1543.7 1517.6 Q1541.5 1517.6 1539.05 1518.36 Q1536.62 1519.13 1533.84 1520.68 L1533.84 1515.95 Q1536.67 1514.82 1539.12 1514.24 Q1541.57 1513.66 1543.61 1513.66 Q1548.98 1513.66 1552.18 1516.35 Q1555.37 1519.03 1555.37 1523.52 Q1555.37 1525.65 1554.56 1527.57 Q1553.77 1529.47 1551.67 1532.07 Q1551.09 1532.74 1547.99 1535.95 Q1544.88 1539.15 1539.24 1544.91 Z\" fill=\"#000000\" fill-rule=\"nonzero\" fill-opacity=\"1\" /><path clip-path=\"url(#clip430)\" d=\"M1575.37 1517.37 Q1571.76 1517.37 1569.93 1520.93 Q1568.12 1524.47 1568.12 1531.6 Q1568.12 1538.71 1569.93 1542.27 Q1571.76 1545.82 1575.37 1545.82 Q1579 1545.82 1580.81 1542.27 Q1582.64 1538.71 1582.64 1531.6 Q1582.64 1524.47 1580.81 1520.93 Q1579 1517.37 1575.37 1517.37 M1575.37 1513.66 Q1581.18 1513.66 1584.24 1518.27 Q1587.31 1522.85 1587.31 1531.6 Q1587.31 1540.33 1584.24 1544.94 Q1581.18 1549.52 1575.37 1549.52 Q1569.56 1549.52 1566.48 1544.94 Q1563.43 1540.33 1563.43 1531.6 Q1563.43 1522.85 1566.48 1518.27 Q1569.56 1513.66 1575.37 1513.66 Z\" fill=\"#000000\" fill-rule=\"nonzero\" fill-opacity=\"1\" /><path clip-path=\"url(#clip430)\" d=\"M1904.17 1544.91 L1920.49 1544.91 L1920.49 1548.85 L1898.55 1548.85 L1898.55 1544.91 Q1901.21 1542.16 1905.79 1537.53 Q1910.4 1532.88 1911.58 1531.53 Q1913.83 1529.01 1914.71 1527.27 Q1915.61 1525.51 1915.61 1523.82 Q1915.61 1521.07 1913.66 1519.33 Q1911.74 1517.6 1908.64 1517.6 Q1906.44 1517.6 1903.99 1518.36 Q1901.56 1519.13 1898.78 1520.68 L1898.78 1515.95 Q1901.6 1514.82 1904.06 1514.24 Q1906.51 1513.66 1908.55 1513.66 Q1913.92 1513.66 1917.11 1516.35 Q1920.31 1519.03 1920.31 1523.52 Q1920.31 1525.65 1919.5 1527.57 Q1918.71 1529.47 1916.6 1532.07 Q1916.03 1532.74 1912.92 1535.95 Q1909.82 1539.15 1904.17 1544.91 Z\" fill=\"#000000\" fill-rule=\"nonzero\" fill-opacity=\"1\" /><path clip-path=\"url(#clip430)\" d=\"M1930.35 1514.29 L1948.71 1514.29 L1948.71 1518.22 L1934.64 1518.22 L1934.64 1526.7 Q1935.66 1526.35 1936.67 1526.19 Q1937.69 1526 1938.71 1526 Q1944.5 1526 1947.88 1529.17 Q1951.26 1532.34 1951.26 1537.76 Q1951.26 1543.34 1947.78 1546.44 Q1944.31 1549.52 1937.99 1549.52 Q1935.82 1549.52 1933.55 1549.15 Q1931.3 1548.78 1928.9 1548.04 L1928.9 1543.34 Q1930.98 1544.47 1933.2 1545.03 Q1935.42 1545.58 1937.9 1545.58 Q1941.91 1545.58 1944.24 1543.48 Q1946.58 1541.37 1946.58 1537.76 Q1946.58 1534.15 1944.24 1532.04 Q1941.91 1529.94 1937.9 1529.94 Q1936.03 1529.94 1934.15 1530.35 Q1932.3 1530.77 1930.35 1531.65 L1930.35 1514.29 Z\" fill=\"#000000\" fill-rule=\"nonzero\" fill-opacity=\"1\" /><path clip-path=\"url(#clip430)\" d=\"M2278.19 1530.21 Q2281.54 1530.93 2283.42 1533.2 Q2285.32 1535.47 2285.32 1538.8 Q2285.32 1543.92 2281.8 1546.72 Q2278.28 1549.52 2271.8 1549.52 Q2269.62 1549.52 2267.31 1549.08 Q2265.01 1548.66 2262.56 1547.81 L2262.56 1543.29 Q2264.51 1544.43 2266.82 1545.01 Q2269.14 1545.58 2271.66 1545.58 Q2276.06 1545.58 2278.35 1543.85 Q2280.66 1542.11 2280.66 1538.8 Q2280.66 1535.75 2278.51 1534.03 Q2276.38 1532.3 2272.56 1532.3 L2268.53 1532.3 L2268.53 1528.45 L2272.75 1528.45 Q2276.2 1528.45 2278.02 1527.09 Q2279.85 1525.7 2279.85 1523.11 Q2279.85 1520.45 2277.95 1519.03 Q2276.08 1517.6 2272.56 1517.6 Q2270.64 1517.6 2268.44 1518.01 Q2266.24 1518.43 2263.6 1519.31 L2263.6 1515.14 Q2266.26 1514.4 2268.58 1514.03 Q2270.92 1513.66 2272.98 1513.66 Q2278.3 1513.66 2281.4 1516.09 Q2284.51 1518.5 2284.51 1522.62 Q2284.51 1525.49 2282.86 1527.48 Q2281.22 1529.45 2278.19 1530.21 Z\" fill=\"#000000\" fill-rule=\"nonzero\" fill-opacity=\"1\" /><path clip-path=\"url(#clip430)\" d=\"M2304.18 1517.37 Q2300.57 1517.37 2298.74 1520.93 Q2296.94 1524.47 2296.94 1531.6 Q2296.94 1538.71 2298.74 1542.27 Q2300.57 1545.82 2304.18 1545.82 Q2307.82 1545.82 2309.62 1542.27 Q2311.45 1538.71 2311.45 1531.6 Q2311.45 1524.47 2309.62 1520.93 Q2307.82 1517.37 2304.18 1517.37 M2304.18 1513.66 Q2309.99 1513.66 2313.05 1518.27 Q2316.13 1522.85 2316.13 1531.6 Q2316.13 1540.33 2313.05 1544.94 Q2309.99 1549.52 2304.18 1549.52 Q2298.37 1549.52 2295.29 1544.94 Q2292.24 1540.33 2292.24 1531.6 Q2292.24 1522.85 2295.29 1518.27 Q2298.37 1513.66 2304.18 1513.66 Z\" fill=\"#000000\" fill-rule=\"nonzero\" fill-opacity=\"1\" /><polyline clip-path=\"url(#clip432)\" style=\"stroke:#000000; stroke-linecap:round; stroke-linejoin:round; stroke-width:2; stroke-opacity:0.1; fill:none\" points=\"112.177,1452.93 2352.76,1452.93 \"/>\n",
       "<polyline clip-path=\"url(#clip432)\" style=\"stroke:#000000; stroke-linecap:round; stroke-linejoin:round; stroke-width:2; stroke-opacity:0.1; fill:none\" points=\"112.177,1163.01 2352.76,1163.01 \"/>\n",
       "<polyline clip-path=\"url(#clip432)\" style=\"stroke:#000000; stroke-linecap:round; stroke-linejoin:round; stroke-width:2; stroke-opacity:0.1; fill:none\" points=\"112.177,873.077 2352.76,873.077 \"/>\n",
       "<polyline clip-path=\"url(#clip432)\" style=\"stroke:#000000; stroke-linecap:round; stroke-linejoin:round; stroke-width:2; stroke-opacity:0.1; fill:none\" points=\"112.177,583.149 2352.76,583.149 \"/>\n",
       "<polyline clip-path=\"url(#clip432)\" style=\"stroke:#000000; stroke-linecap:round; stroke-linejoin:round; stroke-width:2; stroke-opacity:0.1; fill:none\" points=\"112.177,293.221 2352.76,293.221 \"/>\n",
       "<polyline clip-path=\"url(#clip430)\" style=\"stroke:#000000; stroke-linecap:round; stroke-linejoin:round; stroke-width:4; stroke-opacity:1; fill:none\" points=\"112.177,1486.45 112.177,47.2441 \"/>\n",
       "<polyline clip-path=\"url(#clip430)\" style=\"stroke:#000000; stroke-linecap:round; stroke-linejoin:round; stroke-width:4; stroke-opacity:1; fill:none\" points=\"112.177,1452.93 131.075,1452.93 \"/>\n",
       "<polyline clip-path=\"url(#clip430)\" style=\"stroke:#000000; stroke-linecap:round; stroke-linejoin:round; stroke-width:4; stroke-opacity:1; fill:none\" points=\"112.177,1163.01 131.075,1163.01 \"/>\n",
       "<polyline clip-path=\"url(#clip430)\" style=\"stroke:#000000; stroke-linecap:round; stroke-linejoin:round; stroke-width:4; stroke-opacity:1; fill:none\" points=\"112.177,873.077 131.075,873.077 \"/>\n",
       "<polyline clip-path=\"url(#clip430)\" style=\"stroke:#000000; stroke-linecap:round; stroke-linejoin:round; stroke-width:4; stroke-opacity:1; fill:none\" points=\"112.177,583.149 131.075,583.149 \"/>\n",
       "<polyline clip-path=\"url(#clip430)\" style=\"stroke:#000000; stroke-linecap:round; stroke-linejoin:round; stroke-width:4; stroke-opacity:1; fill:none\" points=\"112.177,293.221 131.075,293.221 \"/>\n",
       "<path clip-path=\"url(#clip430)\" d=\"M64.2328 1438.73 Q60.6217 1438.73 58.793 1442.3 Q56.9875 1445.84 56.9875 1452.97 Q56.9875 1460.08 58.793 1463.64 Q60.6217 1467.18 64.2328 1467.18 Q67.867 1467.18 69.6726 1463.64 Q71.5013 1460.08 71.5013 1452.97 Q71.5013 1445.84 69.6726 1442.3 Q67.867 1438.73 64.2328 1438.73 M64.2328 1435.03 Q70.0429 1435.03 73.0985 1439.64 Q76.1772 1444.22 76.1772 1452.97 Q76.1772 1461.7 73.0985 1466.3 Q70.0429 1470.89 64.2328 1470.89 Q58.4226 1470.89 55.344 1466.3 Q52.2884 1461.7 52.2884 1452.97 Q52.2884 1444.22 55.344 1439.64 Q58.4226 1435.03 64.2328 1435.03 Z\" fill=\"#000000\" fill-rule=\"nonzero\" fill-opacity=\"1\" /><path clip-path=\"url(#clip430)\" d=\"M56.2699 1176.35 L63.9087 1176.35 L63.9087 1149.98 L55.5986 1151.65 L55.5986 1147.39 L63.8624 1145.73 L68.5383 1145.73 L68.5383 1176.35 L76.1772 1176.35 L76.1772 1180.29 L56.2699 1180.29 L56.2699 1176.35 Z\" fill=\"#000000\" fill-rule=\"nonzero\" fill-opacity=\"1\" /><path clip-path=\"url(#clip430)\" d=\"M59.8578 886.422 L76.1772 886.422 L76.1772 890.357 L54.2328 890.357 L54.2328 886.422 Q56.8949 883.668 61.4782 879.038 Q66.0846 874.385 67.2652 873.043 Q69.5105 870.52 70.3902 868.783 Q71.2929 867.024 71.2929 865.334 Q71.2929 862.58 69.3485 860.844 Q67.4272 859.108 64.3254 859.108 Q62.1263 859.108 59.6726 859.871 Q57.2421 860.635 54.4643 862.186 L54.4643 857.464 Q57.2884 856.33 59.7421 855.751 Q62.1958 855.172 64.2328 855.172 Q69.6031 855.172 72.7976 857.858 Q75.992 860.543 75.992 865.033 Q75.992 867.163 75.1818 869.084 Q74.3948 870.983 72.2883 873.575 Q71.7096 874.246 68.6078 877.464 Q65.5059 880.658 59.8578 886.422 Z\" fill=\"#000000\" fill-rule=\"nonzero\" fill-opacity=\"1\" /><path clip-path=\"url(#clip430)\" d=\"M69.0476 581.795 Q72.404 582.513 74.279 584.781 Q76.1772 587.05 76.1772 590.383 Q76.1772 595.499 72.6587 598.3 Q69.1402 601.1 62.6587 601.1 Q60.4828 601.1 58.168 600.661 Q55.8764 600.244 53.4227 599.387 L53.4227 594.874 Q55.3671 596.008 57.6819 596.587 Q59.9967 597.165 62.5198 597.165 Q66.918 597.165 69.2096 595.429 Q71.5244 593.693 71.5244 590.383 Q71.5244 587.327 69.3717 585.614 Q67.242 583.878 63.4226 583.878 L59.3949 583.878 L59.3949 580.036 L63.6078 580.036 Q67.0569 580.036 68.8855 578.67 Q70.7142 577.281 70.7142 574.689 Q70.7142 572.027 68.8161 570.614 Q66.9411 569.179 63.4226 569.179 Q61.5013 569.179 59.3023 569.596 Q57.1032 570.013 54.4643 570.892 L54.4643 566.726 Q57.1264 565.985 59.4412 565.615 Q61.7791 565.244 63.8393 565.244 Q69.1633 565.244 72.2652 567.675 Q75.367 570.082 75.367 574.202 Q75.367 577.073 73.7235 579.064 Q72.08 581.031 69.0476 581.795 Z\" fill=\"#000000\" fill-rule=\"nonzero\" fill-opacity=\"1\" /><path clip-path=\"url(#clip430)\" d=\"M66.5939 280.015 L54.7884 298.464 L66.5939 298.464 L66.5939 280.015 M65.367 275.941 L71.2466 275.941 L71.2466 298.464 L76.1772 298.464 L76.1772 302.353 L71.2466 302.353 L71.2466 310.501 L66.5939 310.501 L66.5939 302.353 L50.9921 302.353 L50.9921 297.839 L65.367 275.941 Z\" fill=\"#000000\" fill-rule=\"nonzero\" fill-opacity=\"1\" /><polyline clip-path=\"url(#clip432)\" style=\"stroke:#009af9; stroke-linecap:round; stroke-linejoin:round; stroke-width:4; stroke-opacity:1; fill:none\" points=\"175.59,1381.91 248.478,1381.91 321.366,1381.91 394.254,1381.91 467.142,1381.91 540.03,1381.91 612.918,1381.91 685.806,1381.91 758.694,1381.91 831.582,1381.91 904.47,1111.96 977.358,1111.96 1050.25,1111.96 1123.13,1111.96 1196.02,1111.96 1268.91,1111.96 1341.8,1111.96 1414.69,1111.96 1487.57,1238.96 1560.46,1238.96 1633.35,949.448 1706.24,949.448 1779.13,949.448 1852.01,979.884 1924.9,979.884 1997.79,979.884 2070.68,979.884 2143.57,979.884 2216.46,962.939 2289.34,962.939 \"/>\n",
       "<polyline clip-path=\"url(#clip432)\" style=\"stroke:#e26f46; stroke-linecap:round; stroke-linejoin:round; stroke-width:4; stroke-opacity:1; fill:none\" points=\"175.59,167.979 248.478,167.979 321.366,167.979 394.254,167.979 467.142,167.979 540.03,167.979 612.918,167.979 685.806,167.979 758.694,167.979 831.582,167.979 904.47,87.9763 977.358,87.9763 1050.25,87.9763 1123.13,87.9763 1196.02,87.9763 1268.91,87.9763 1341.8,87.9763 1414.69,87.9763 1487.57,103.833 1560.46,103.833 1633.35,1387.63 1706.24,1387.63 1779.13,1387.63 1852.01,1248.4 1924.9,1248.4 1997.79,1248.4 2070.68,1248.4 2143.57,1248.4 2216.46,1201.91 2289.34,1201.91 \"/>\n",
       "<polyline clip-path=\"url(#clip432)\" style=\"stroke:#3da44d; stroke-linecap:round; stroke-linejoin:round; stroke-width:4; stroke-opacity:1; fill:none\" points=\"175.59,1445.72 248.478,1445.72 321.366,1445.72 394.254,1445.72 467.142,1445.72 540.03,1445.72 612.918,1445.72 685.806,1445.72 758.694,1445.72 831.582,1445.72 904.47,1413.2 977.358,1413.2 1050.25,1413.2 1123.13,1413.2 1196.02,1413.2 1268.91,1413.2 1341.8,1413.2 1414.69,1413.2 1487.57,1441.1 1560.46,1441.1 1633.35,695.932 1706.24,695.932 1779.13,695.932 1852.01,657.093 1924.9,657.093 1997.79,657.093 2070.68,657.093 2143.57,657.093 2216.46,674.275 2289.34,674.275 \"/>\n",
       "<path clip-path=\"url(#clip430)\" d=\"M1967.67 302.578 L2278.07 302.578 L2278.07 95.2176 L1967.67 95.2176  Z\" fill=\"#ffffff\" fill-rule=\"evenodd\" fill-opacity=\"1\"/>\n",
       "<polyline clip-path=\"url(#clip430)\" style=\"stroke:#000000; stroke-linecap:round; stroke-linejoin:round; stroke-width:4; stroke-opacity:1; fill:none\" points=\"1967.67,302.578 2278.07,302.578 2278.07,95.2176 1967.67,95.2176 1967.67,302.578 \"/>\n",
       "<polyline clip-path=\"url(#clip430)\" style=\"stroke:#009af9; stroke-linecap:round; stroke-linejoin:round; stroke-width:4; stroke-opacity:1; fill:none\" points=\"1992.57,147.058 2141.94,147.058 \"/>\n",
       "<path clip-path=\"url(#clip430)\" d=\"M2174.24 131.051 L2174.24 138.412 L2183.01 138.412 L2183.01 141.722 L2174.24 141.722 L2174.24 155.796 Q2174.24 158.967 2175.1 159.87 Q2175.98 160.773 2178.64 160.773 L2183.01 160.773 L2183.01 164.338 L2178.64 164.338 Q2173.71 164.338 2171.83 162.509 Q2169.96 160.657 2169.96 155.796 L2169.96 141.722 L2166.83 141.722 L2166.83 138.412 L2169.96 138.412 L2169.96 131.051 L2174.24 131.051 Z\" fill=\"#000000\" fill-rule=\"nonzero\" fill-opacity=\"1\" /><path clip-path=\"url(#clip430)\" d=\"M2208.31 172.208 L2208.31 175.518 L2183.68 175.518 L2183.68 172.208 L2208.31 172.208 Z\" fill=\"#000000\" fill-rule=\"nonzero\" fill-opacity=\"1\" /><path clip-path=\"url(#clip430)\" d=\"M2210.51 129.778 L2237.67 129.778 L2237.67 133.342 L2215.81 160.402 L2238.2 160.402 L2238.2 164.338 L2209.98 164.338 L2209.98 160.773 L2231.83 133.713 L2210.51 133.713 L2210.51 129.778 Z\" fill=\"#000000\" fill-rule=\"nonzero\" fill-opacity=\"1\" /><polyline clip-path=\"url(#clip430)\" style=\"stroke:#e26f46; stroke-linecap:round; stroke-linejoin:round; stroke-width:4; stroke-opacity:1; fill:none\" points=\"1992.57,198.898 2141.94,198.898 \"/>\n",
       "<path clip-path=\"url(#clip430)\" d=\"M2174.24 182.891 L2174.24 190.252 L2183.01 190.252 L2183.01 193.562 L2174.24 193.562 L2174.24 207.636 Q2174.24 210.807 2175.1 211.71 Q2175.98 212.613 2178.64 212.613 L2183.01 212.613 L2183.01 216.178 L2178.64 216.178 Q2173.71 216.178 2171.83 214.349 Q2169.96 212.497 2169.96 207.636 L2169.96 193.562 L2166.83 193.562 L2166.83 190.252 L2169.96 190.252 L2169.96 182.891 L2174.24 182.891 Z\" fill=\"#000000\" fill-rule=\"nonzero\" fill-opacity=\"1\" /><path clip-path=\"url(#clip430)\" d=\"M2208.31 224.048 L2208.31 227.358 L2183.68 227.358 L2183.68 224.048 L2208.31 224.048 Z\" fill=\"#000000\" fill-rule=\"nonzero\" fill-opacity=\"1\" /><path clip-path=\"url(#clip430)\" d=\"M2209.42 181.618 L2214.15 181.618 L2221.42 210.83 L2228.66 181.618 L2233.92 181.618 L2241.18 210.83 L2248.43 181.618 L2253.17 181.618 L2244.49 216.178 L2238.61 216.178 L2231.32 186.178 L2223.96 216.178 L2218.08 216.178 L2209.42 181.618 Z\" fill=\"#000000\" fill-rule=\"nonzero\" fill-opacity=\"1\" /><polyline clip-path=\"url(#clip430)\" style=\"stroke:#3da44d; stroke-linecap:round; stroke-linejoin:round; stroke-width:4; stroke-opacity:1; fill:none\" points=\"1992.57,250.738 2141.94,250.738 \"/>\n",
       "<path clip-path=\"url(#clip430)\" d=\"M2174.24 234.731 L2174.24 242.092 L2183.01 242.092 L2183.01 245.402 L2174.24 245.402 L2174.24 259.476 Q2174.24 262.647 2175.1 263.55 Q2175.98 264.453 2178.64 264.453 L2183.01 264.453 L2183.01 268.018 L2178.64 268.018 Q2173.71 268.018 2171.83 266.189 Q2169.96 264.337 2169.96 259.476 L2169.96 245.402 L2166.83 245.402 L2166.83 242.092 L2169.96 242.092 L2169.96 234.731 L2174.24 234.731 Z\" fill=\"#000000\" fill-rule=\"nonzero\" fill-opacity=\"1\" /><path clip-path=\"url(#clip430)\" d=\"M2208.31 275.888 L2208.31 279.198 L2183.68 279.198 L2183.68 275.888 L2208.31 275.888 Z\" fill=\"#000000\" fill-rule=\"nonzero\" fill-opacity=\"1\" /><path clip-path=\"url(#clip430)\" d=\"M2207.76 233.458 L2212.78 233.458 L2222.36 247.67 L2231.88 233.458 L2236.9 233.458 L2224.68 251.559 L2224.68 268.018 L2219.98 268.018 L2219.98 251.559 L2207.76 233.458 Z\" fill=\"#000000\" fill-rule=\"nonzero\" fill-opacity=\"1\" /></svg>\n"
      ],
      "text/html": [
       "<?xml version=\"1.0\" encoding=\"utf-8\"?>\n",
       "<svg xmlns=\"http://www.w3.org/2000/svg\" xmlns:xlink=\"http://www.w3.org/1999/xlink\" width=\"600\" height=\"400\" viewBox=\"0 0 2400 1600\">\n",
       "<defs>\n",
       "  <clipPath id=\"clip480\">\n",
       "    <rect x=\"0\" y=\"0\" width=\"2400\" height=\"1600\"/>\n",
       "  </clipPath>\n",
       "</defs>\n",
       "<path clip-path=\"url(#clip480)\" d=\"M0 1600 L2400 1600 L2400 0 L0 0  Z\" fill=\"#ffffff\" fill-rule=\"evenodd\" fill-opacity=\"1\"/>\n",
       "<defs>\n",
       "  <clipPath id=\"clip481\">\n",
       "    <rect x=\"480\" y=\"0\" width=\"1681\" height=\"1600\"/>\n",
       "  </clipPath>\n",
       "</defs>\n",
       "<path clip-path=\"url(#clip480)\" d=\"M112.177 1486.45 L2352.76 1486.45 L2352.76 47.2441 L112.177 47.2441  Z\" fill=\"#ffffff\" fill-rule=\"evenodd\" fill-opacity=\"1\"/>\n",
       "<defs>\n",
       "  <clipPath id=\"clip482\">\n",
       "    <rect x=\"112\" y=\"47\" width=\"2242\" height=\"1440\"/>\n",
       "  </clipPath>\n",
       "</defs>\n",
       "<polyline clip-path=\"url(#clip482)\" style=\"stroke:#000000; stroke-linecap:round; stroke-linejoin:round; stroke-width:2; stroke-opacity:0.1; fill:none\" points=\"467.142,1486.45 467.142,47.2441 \"/>\n",
       "<polyline clip-path=\"url(#clip482)\" style=\"stroke:#000000; stroke-linecap:round; stroke-linejoin:round; stroke-width:2; stroke-opacity:0.1; fill:none\" points=\"831.582,1486.45 831.582,47.2441 \"/>\n",
       "<polyline clip-path=\"url(#clip482)\" style=\"stroke:#000000; stroke-linecap:round; stroke-linejoin:round; stroke-width:2; stroke-opacity:0.1; fill:none\" points=\"1196.02,1486.45 1196.02,47.2441 \"/>\n",
       "<polyline clip-path=\"url(#clip482)\" style=\"stroke:#000000; stroke-linecap:round; stroke-linejoin:round; stroke-width:2; stroke-opacity:0.1; fill:none\" points=\"1560.46,1486.45 1560.46,47.2441 \"/>\n",
       "<polyline clip-path=\"url(#clip482)\" style=\"stroke:#000000; stroke-linecap:round; stroke-linejoin:round; stroke-width:2; stroke-opacity:0.1; fill:none\" points=\"1924.9,1486.45 1924.9,47.2441 \"/>\n",
       "<polyline clip-path=\"url(#clip482)\" style=\"stroke:#000000; stroke-linecap:round; stroke-linejoin:round; stroke-width:2; stroke-opacity:0.1; fill:none\" points=\"2289.34,1486.45 2289.34,47.2441 \"/>\n",
       "<polyline clip-path=\"url(#clip480)\" style=\"stroke:#000000; stroke-linecap:round; stroke-linejoin:round; stroke-width:4; stroke-opacity:1; fill:none\" points=\"112.177,1486.45 2352.76,1486.45 \"/>\n",
       "<polyline clip-path=\"url(#clip480)\" style=\"stroke:#000000; stroke-linecap:round; stroke-linejoin:round; stroke-width:4; stroke-opacity:1; fill:none\" points=\"467.142,1486.45 467.142,1467.55 \"/>\n",
       "<polyline clip-path=\"url(#clip480)\" style=\"stroke:#000000; stroke-linecap:round; stroke-linejoin:round; stroke-width:4; stroke-opacity:1; fill:none\" points=\"831.582,1486.45 831.582,1467.55 \"/>\n",
       "<polyline clip-path=\"url(#clip480)\" style=\"stroke:#000000; stroke-linecap:round; stroke-linejoin:round; stroke-width:4; stroke-opacity:1; fill:none\" points=\"1196.02,1486.45 1196.02,1467.55 \"/>\n",
       "<polyline clip-path=\"url(#clip480)\" style=\"stroke:#000000; stroke-linecap:round; stroke-linejoin:round; stroke-width:4; stroke-opacity:1; fill:none\" points=\"1560.46,1486.45 1560.46,1467.55 \"/>\n",
       "<polyline clip-path=\"url(#clip480)\" style=\"stroke:#000000; stroke-linecap:round; stroke-linejoin:round; stroke-width:4; stroke-opacity:1; fill:none\" points=\"1924.9,1486.45 1924.9,1467.55 \"/>\n",
       "<polyline clip-path=\"url(#clip480)\" style=\"stroke:#000000; stroke-linecap:round; stroke-linejoin:round; stroke-width:4; stroke-opacity:1; fill:none\" points=\"2289.34,1486.45 2289.34,1467.55 \"/>\n",
       "<path clip-path=\"url(#clip480)\" d=\"M457.42 1514.29 L475.776 1514.29 L475.776 1518.22 L461.702 1518.22 L461.702 1526.7 Q462.721 1526.35 463.739 1526.19 Q464.758 1526 465.776 1526 Q471.563 1526 474.943 1529.17 Q478.322 1532.34 478.322 1537.76 Q478.322 1543.34 474.85 1546.44 Q471.378 1549.52 465.059 1549.52 Q462.883 1549.52 460.614 1549.15 Q458.369 1548.78 455.961 1548.04 L455.961 1543.34 Q458.045 1544.47 460.267 1545.03 Q462.489 1545.58 464.966 1545.58 Q468.971 1545.58 471.309 1543.48 Q473.647 1541.37 473.647 1537.76 Q473.647 1534.15 471.309 1532.04 Q468.971 1529.94 464.966 1529.94 Q463.091 1529.94 461.216 1530.35 Q459.364 1530.77 457.42 1531.65 L457.42 1514.29 Z\" fill=\"#000000\" fill-rule=\"nonzero\" fill-opacity=\"1\" /><path clip-path=\"url(#clip480)\" d=\"M806.27 1544.91 L813.909 1544.91 L813.909 1518.55 L805.599 1520.21 L805.599 1515.95 L813.862 1514.29 L818.538 1514.29 L818.538 1544.91 L826.177 1544.91 L826.177 1548.85 L806.27 1548.85 L806.27 1544.91 Z\" fill=\"#000000\" fill-rule=\"nonzero\" fill-opacity=\"1\" /><path clip-path=\"url(#clip480)\" d=\"M845.622 1517.37 Q842.01 1517.37 840.182 1520.93 Q838.376 1524.47 838.376 1531.6 Q838.376 1538.71 840.182 1542.27 Q842.01 1545.82 845.622 1545.82 Q849.256 1545.82 851.061 1542.27 Q852.89 1538.71 852.89 1531.6 Q852.89 1524.47 851.061 1520.93 Q849.256 1517.37 845.622 1517.37 M845.622 1513.66 Q851.432 1513.66 854.487 1518.27 Q857.566 1522.85 857.566 1531.6 Q857.566 1540.33 854.487 1544.94 Q851.432 1549.52 845.622 1549.52 Q839.811 1549.52 836.733 1544.94 Q833.677 1540.33 833.677 1531.6 Q833.677 1522.85 836.733 1518.27 Q839.811 1513.66 845.622 1513.66 Z\" fill=\"#000000\" fill-rule=\"nonzero\" fill-opacity=\"1\" /><path clip-path=\"url(#clip480)\" d=\"M1171.21 1544.91 L1178.85 1544.91 L1178.85 1518.55 L1170.54 1520.21 L1170.54 1515.95 L1178.8 1514.29 L1183.48 1514.29 L1183.48 1544.91 L1191.12 1544.91 L1191.12 1548.85 L1171.21 1548.85 L1171.21 1544.91 Z\" fill=\"#000000\" fill-rule=\"nonzero\" fill-opacity=\"1\" /><path clip-path=\"url(#clip480)\" d=\"M1200.61 1514.29 L1218.96 1514.29 L1218.96 1518.22 L1204.89 1518.22 L1204.89 1526.7 Q1205.91 1526.35 1206.93 1526.19 Q1207.94 1526 1208.96 1526 Q1214.75 1526 1218.13 1529.17 Q1221.51 1532.34 1221.51 1537.76 Q1221.51 1543.34 1218.04 1546.44 Q1214.56 1549.52 1208.24 1549.52 Q1206.07 1549.52 1203.8 1549.15 Q1201.55 1548.78 1199.15 1548.04 L1199.15 1543.34 Q1201.23 1544.47 1203.45 1545.03 Q1205.68 1545.58 1208.15 1545.58 Q1212.16 1545.58 1214.49 1543.48 Q1216.83 1541.37 1216.83 1537.76 Q1216.83 1534.15 1214.49 1532.04 Q1212.16 1529.94 1208.15 1529.94 Q1206.28 1529.94 1204.4 1530.35 Q1202.55 1530.77 1200.61 1531.65 L1200.61 1514.29 Z\" fill=\"#000000\" fill-rule=\"nonzero\" fill-opacity=\"1\" /><path clip-path=\"url(#clip480)\" d=\"M1539.24 1544.91 L1555.56 1544.91 L1555.56 1548.85 L1533.61 1548.85 L1533.61 1544.91 Q1536.27 1542.16 1540.86 1537.53 Q1545.46 1532.88 1546.64 1531.53 Q1548.89 1529.01 1549.77 1527.27 Q1550.67 1525.51 1550.67 1523.82 Q1550.67 1521.07 1548.73 1519.33 Q1546.81 1517.6 1543.7 1517.6 Q1541.5 1517.6 1539.05 1518.36 Q1536.62 1519.13 1533.84 1520.68 L1533.84 1515.95 Q1536.67 1514.82 1539.12 1514.24 Q1541.57 1513.66 1543.61 1513.66 Q1548.98 1513.66 1552.18 1516.35 Q1555.37 1519.03 1555.37 1523.52 Q1555.37 1525.65 1554.56 1527.57 Q1553.77 1529.47 1551.67 1532.07 Q1551.09 1532.74 1547.99 1535.95 Q1544.88 1539.15 1539.24 1544.91 Z\" fill=\"#000000\" fill-rule=\"nonzero\" fill-opacity=\"1\" /><path clip-path=\"url(#clip480)\" d=\"M1575.37 1517.37 Q1571.76 1517.37 1569.93 1520.93 Q1568.12 1524.47 1568.12 1531.6 Q1568.12 1538.71 1569.93 1542.27 Q1571.76 1545.82 1575.37 1545.82 Q1579 1545.82 1580.81 1542.27 Q1582.64 1538.71 1582.64 1531.6 Q1582.64 1524.47 1580.81 1520.93 Q1579 1517.37 1575.37 1517.37 M1575.37 1513.66 Q1581.18 1513.66 1584.24 1518.27 Q1587.31 1522.85 1587.31 1531.6 Q1587.31 1540.33 1584.24 1544.94 Q1581.18 1549.52 1575.37 1549.52 Q1569.56 1549.52 1566.48 1544.94 Q1563.43 1540.33 1563.43 1531.6 Q1563.43 1522.85 1566.48 1518.27 Q1569.56 1513.66 1575.37 1513.66 Z\" fill=\"#000000\" fill-rule=\"nonzero\" fill-opacity=\"1\" /><path clip-path=\"url(#clip480)\" d=\"M1904.17 1544.91 L1920.49 1544.91 L1920.49 1548.85 L1898.55 1548.85 L1898.55 1544.91 Q1901.21 1542.16 1905.79 1537.53 Q1910.4 1532.88 1911.58 1531.53 Q1913.83 1529.01 1914.71 1527.27 Q1915.61 1525.51 1915.61 1523.82 Q1915.61 1521.07 1913.66 1519.33 Q1911.74 1517.6 1908.64 1517.6 Q1906.44 1517.6 1903.99 1518.36 Q1901.56 1519.13 1898.78 1520.68 L1898.78 1515.95 Q1901.6 1514.82 1904.06 1514.24 Q1906.51 1513.66 1908.55 1513.66 Q1913.92 1513.66 1917.11 1516.35 Q1920.31 1519.03 1920.31 1523.52 Q1920.31 1525.65 1919.5 1527.57 Q1918.71 1529.47 1916.6 1532.07 Q1916.03 1532.74 1912.92 1535.95 Q1909.82 1539.15 1904.17 1544.91 Z\" fill=\"#000000\" fill-rule=\"nonzero\" fill-opacity=\"1\" /><path clip-path=\"url(#clip480)\" d=\"M1930.35 1514.29 L1948.71 1514.29 L1948.71 1518.22 L1934.64 1518.22 L1934.64 1526.7 Q1935.66 1526.35 1936.67 1526.19 Q1937.69 1526 1938.71 1526 Q1944.5 1526 1947.88 1529.17 Q1951.26 1532.34 1951.26 1537.76 Q1951.26 1543.34 1947.78 1546.44 Q1944.31 1549.52 1937.99 1549.52 Q1935.82 1549.52 1933.55 1549.15 Q1931.3 1548.78 1928.9 1548.04 L1928.9 1543.34 Q1930.98 1544.47 1933.2 1545.03 Q1935.42 1545.58 1937.9 1545.58 Q1941.91 1545.58 1944.24 1543.48 Q1946.58 1541.37 1946.58 1537.76 Q1946.58 1534.15 1944.24 1532.04 Q1941.91 1529.94 1937.9 1529.94 Q1936.03 1529.94 1934.15 1530.35 Q1932.3 1530.77 1930.35 1531.65 L1930.35 1514.29 Z\" fill=\"#000000\" fill-rule=\"nonzero\" fill-opacity=\"1\" /><path clip-path=\"url(#clip480)\" d=\"M2278.19 1530.21 Q2281.54 1530.93 2283.42 1533.2 Q2285.32 1535.47 2285.32 1538.8 Q2285.32 1543.92 2281.8 1546.72 Q2278.28 1549.52 2271.8 1549.52 Q2269.62 1549.52 2267.31 1549.08 Q2265.01 1548.66 2262.56 1547.81 L2262.56 1543.29 Q2264.51 1544.43 2266.82 1545.01 Q2269.14 1545.58 2271.66 1545.58 Q2276.06 1545.58 2278.35 1543.85 Q2280.66 1542.11 2280.66 1538.8 Q2280.66 1535.75 2278.51 1534.03 Q2276.38 1532.3 2272.56 1532.3 L2268.53 1532.3 L2268.53 1528.45 L2272.75 1528.45 Q2276.2 1528.45 2278.02 1527.09 Q2279.85 1525.7 2279.85 1523.11 Q2279.85 1520.45 2277.95 1519.03 Q2276.08 1517.6 2272.56 1517.6 Q2270.64 1517.6 2268.44 1518.01 Q2266.24 1518.43 2263.6 1519.31 L2263.6 1515.14 Q2266.26 1514.4 2268.58 1514.03 Q2270.92 1513.66 2272.98 1513.66 Q2278.3 1513.66 2281.4 1516.09 Q2284.51 1518.5 2284.51 1522.62 Q2284.51 1525.49 2282.86 1527.48 Q2281.22 1529.45 2278.19 1530.21 Z\" fill=\"#000000\" fill-rule=\"nonzero\" fill-opacity=\"1\" /><path clip-path=\"url(#clip480)\" d=\"M2304.18 1517.37 Q2300.57 1517.37 2298.74 1520.93 Q2296.94 1524.47 2296.94 1531.6 Q2296.94 1538.71 2298.74 1542.27 Q2300.57 1545.82 2304.18 1545.82 Q2307.82 1545.82 2309.62 1542.27 Q2311.45 1538.71 2311.45 1531.6 Q2311.45 1524.47 2309.62 1520.93 Q2307.82 1517.37 2304.18 1517.37 M2304.18 1513.66 Q2309.99 1513.66 2313.05 1518.27 Q2316.13 1522.85 2316.13 1531.6 Q2316.13 1540.33 2313.05 1544.94 Q2309.99 1549.52 2304.18 1549.52 Q2298.37 1549.52 2295.29 1544.94 Q2292.24 1540.33 2292.24 1531.6 Q2292.24 1522.85 2295.29 1518.27 Q2298.37 1513.66 2304.18 1513.66 Z\" fill=\"#000000\" fill-rule=\"nonzero\" fill-opacity=\"1\" /><polyline clip-path=\"url(#clip482)\" style=\"stroke:#000000; stroke-linecap:round; stroke-linejoin:round; stroke-width:2; stroke-opacity:0.1; fill:none\" points=\"112.177,1452.93 2352.76,1452.93 \"/>\n",
       "<polyline clip-path=\"url(#clip482)\" style=\"stroke:#000000; stroke-linecap:round; stroke-linejoin:round; stroke-width:2; stroke-opacity:0.1; fill:none\" points=\"112.177,1163.01 2352.76,1163.01 \"/>\n",
       "<polyline clip-path=\"url(#clip482)\" style=\"stroke:#000000; stroke-linecap:round; stroke-linejoin:round; stroke-width:2; stroke-opacity:0.1; fill:none\" points=\"112.177,873.077 2352.76,873.077 \"/>\n",
       "<polyline clip-path=\"url(#clip482)\" style=\"stroke:#000000; stroke-linecap:round; stroke-linejoin:round; stroke-width:2; stroke-opacity:0.1; fill:none\" points=\"112.177,583.149 2352.76,583.149 \"/>\n",
       "<polyline clip-path=\"url(#clip482)\" style=\"stroke:#000000; stroke-linecap:round; stroke-linejoin:round; stroke-width:2; stroke-opacity:0.1; fill:none\" points=\"112.177,293.221 2352.76,293.221 \"/>\n",
       "<polyline clip-path=\"url(#clip480)\" style=\"stroke:#000000; stroke-linecap:round; stroke-linejoin:round; stroke-width:4; stroke-opacity:1; fill:none\" points=\"112.177,1486.45 112.177,47.2441 \"/>\n",
       "<polyline clip-path=\"url(#clip480)\" style=\"stroke:#000000; stroke-linecap:round; stroke-linejoin:round; stroke-width:4; stroke-opacity:1; fill:none\" points=\"112.177,1452.93 131.075,1452.93 \"/>\n",
       "<polyline clip-path=\"url(#clip480)\" style=\"stroke:#000000; stroke-linecap:round; stroke-linejoin:round; stroke-width:4; stroke-opacity:1; fill:none\" points=\"112.177,1163.01 131.075,1163.01 \"/>\n",
       "<polyline clip-path=\"url(#clip480)\" style=\"stroke:#000000; stroke-linecap:round; stroke-linejoin:round; stroke-width:4; stroke-opacity:1; fill:none\" points=\"112.177,873.077 131.075,873.077 \"/>\n",
       "<polyline clip-path=\"url(#clip480)\" style=\"stroke:#000000; stroke-linecap:round; stroke-linejoin:round; stroke-width:4; stroke-opacity:1; fill:none\" points=\"112.177,583.149 131.075,583.149 \"/>\n",
       "<polyline clip-path=\"url(#clip480)\" style=\"stroke:#000000; stroke-linecap:round; stroke-linejoin:round; stroke-width:4; stroke-opacity:1; fill:none\" points=\"112.177,293.221 131.075,293.221 \"/>\n",
       "<path clip-path=\"url(#clip480)\" d=\"M64.2328 1438.73 Q60.6217 1438.73 58.793 1442.3 Q56.9875 1445.84 56.9875 1452.97 Q56.9875 1460.08 58.793 1463.64 Q60.6217 1467.18 64.2328 1467.18 Q67.867 1467.18 69.6726 1463.64 Q71.5013 1460.08 71.5013 1452.97 Q71.5013 1445.84 69.6726 1442.3 Q67.867 1438.73 64.2328 1438.73 M64.2328 1435.03 Q70.0429 1435.03 73.0985 1439.64 Q76.1772 1444.22 76.1772 1452.97 Q76.1772 1461.7 73.0985 1466.3 Q70.0429 1470.89 64.2328 1470.89 Q58.4226 1470.89 55.344 1466.3 Q52.2884 1461.7 52.2884 1452.97 Q52.2884 1444.22 55.344 1439.64 Q58.4226 1435.03 64.2328 1435.03 Z\" fill=\"#000000\" fill-rule=\"nonzero\" fill-opacity=\"1\" /><path clip-path=\"url(#clip480)\" d=\"M56.2699 1176.35 L63.9087 1176.35 L63.9087 1149.98 L55.5986 1151.65 L55.5986 1147.39 L63.8624 1145.73 L68.5383 1145.73 L68.5383 1176.35 L76.1772 1176.35 L76.1772 1180.29 L56.2699 1180.29 L56.2699 1176.35 Z\" fill=\"#000000\" fill-rule=\"nonzero\" fill-opacity=\"1\" /><path clip-path=\"url(#clip480)\" d=\"M59.8578 886.422 L76.1772 886.422 L76.1772 890.357 L54.2328 890.357 L54.2328 886.422 Q56.8949 883.668 61.4782 879.038 Q66.0846 874.385 67.2652 873.043 Q69.5105 870.52 70.3902 868.783 Q71.2929 867.024 71.2929 865.334 Q71.2929 862.58 69.3485 860.844 Q67.4272 859.108 64.3254 859.108 Q62.1263 859.108 59.6726 859.871 Q57.2421 860.635 54.4643 862.186 L54.4643 857.464 Q57.2884 856.33 59.7421 855.751 Q62.1958 855.172 64.2328 855.172 Q69.6031 855.172 72.7976 857.858 Q75.992 860.543 75.992 865.033 Q75.992 867.163 75.1818 869.084 Q74.3948 870.983 72.2883 873.575 Q71.7096 874.246 68.6078 877.464 Q65.5059 880.658 59.8578 886.422 Z\" fill=\"#000000\" fill-rule=\"nonzero\" fill-opacity=\"1\" /><path clip-path=\"url(#clip480)\" d=\"M69.0476 581.795 Q72.404 582.513 74.279 584.781 Q76.1772 587.05 76.1772 590.383 Q76.1772 595.499 72.6587 598.3 Q69.1402 601.1 62.6587 601.1 Q60.4828 601.1 58.168 600.661 Q55.8764 600.244 53.4227 599.387 L53.4227 594.874 Q55.3671 596.008 57.6819 596.587 Q59.9967 597.165 62.5198 597.165 Q66.918 597.165 69.2096 595.429 Q71.5244 593.693 71.5244 590.383 Q71.5244 587.327 69.3717 585.614 Q67.242 583.878 63.4226 583.878 L59.3949 583.878 L59.3949 580.036 L63.6078 580.036 Q67.0569 580.036 68.8855 578.67 Q70.7142 577.281 70.7142 574.689 Q70.7142 572.027 68.8161 570.614 Q66.9411 569.179 63.4226 569.179 Q61.5013 569.179 59.3023 569.596 Q57.1032 570.013 54.4643 570.892 L54.4643 566.726 Q57.1264 565.985 59.4412 565.615 Q61.7791 565.244 63.8393 565.244 Q69.1633 565.244 72.2652 567.675 Q75.367 570.082 75.367 574.202 Q75.367 577.073 73.7235 579.064 Q72.08 581.031 69.0476 581.795 Z\" fill=\"#000000\" fill-rule=\"nonzero\" fill-opacity=\"1\" /><path clip-path=\"url(#clip480)\" d=\"M66.5939 280.015 L54.7884 298.464 L66.5939 298.464 L66.5939 280.015 M65.367 275.941 L71.2466 275.941 L71.2466 298.464 L76.1772 298.464 L76.1772 302.353 L71.2466 302.353 L71.2466 310.501 L66.5939 310.501 L66.5939 302.353 L50.9921 302.353 L50.9921 297.839 L65.367 275.941 Z\" fill=\"#000000\" fill-rule=\"nonzero\" fill-opacity=\"1\" /><polyline clip-path=\"url(#clip482)\" style=\"stroke:#009af9; stroke-linecap:round; stroke-linejoin:round; stroke-width:4; stroke-opacity:1; fill:none\" points=\"175.59,1381.91 248.478,1381.91 321.366,1381.91 394.254,1381.91 467.142,1381.91 540.03,1381.91 612.918,1381.91 685.806,1381.91 758.694,1381.91 831.582,1381.91 904.47,1111.96 977.358,1111.96 1050.25,1111.96 1123.13,1111.96 1196.02,1111.96 1268.91,1111.96 1341.8,1111.96 1414.69,1111.96 1487.57,1238.96 1560.46,1238.96 1633.35,949.448 1706.24,949.448 1779.13,949.448 1852.01,979.884 1924.9,979.884 1997.79,979.884 2070.68,979.884 2143.57,979.884 2216.46,962.939 2289.34,962.939 \"/>\n",
       "<polyline clip-path=\"url(#clip482)\" style=\"stroke:#e26f46; stroke-linecap:round; stroke-linejoin:round; stroke-width:4; stroke-opacity:1; fill:none\" points=\"175.59,167.979 248.478,167.979 321.366,167.979 394.254,167.979 467.142,167.979 540.03,167.979 612.918,167.979 685.806,167.979 758.694,167.979 831.582,167.979 904.47,87.9763 977.358,87.9763 1050.25,87.9763 1123.13,87.9763 1196.02,87.9763 1268.91,87.9763 1341.8,87.9763 1414.69,87.9763 1487.57,103.833 1560.46,103.833 1633.35,1387.63 1706.24,1387.63 1779.13,1387.63 1852.01,1248.4 1924.9,1248.4 1997.79,1248.4 2070.68,1248.4 2143.57,1248.4 2216.46,1201.91 2289.34,1201.91 \"/>\n",
       "<polyline clip-path=\"url(#clip482)\" style=\"stroke:#3da44d; stroke-linecap:round; stroke-linejoin:round; stroke-width:4; stroke-opacity:1; fill:none\" points=\"175.59,1445.72 248.478,1445.72 321.366,1445.72 394.254,1445.72 467.142,1445.72 540.03,1445.72 612.918,1445.72 685.806,1445.72 758.694,1445.72 831.582,1445.72 904.47,1413.2 977.358,1413.2 1050.25,1413.2 1123.13,1413.2 1196.02,1413.2 1268.91,1413.2 1341.8,1413.2 1414.69,1413.2 1487.57,1441.1 1560.46,1441.1 1633.35,695.932 1706.24,695.932 1779.13,695.932 1852.01,657.093 1924.9,657.093 1997.79,657.093 2070.68,657.093 2143.57,657.093 2216.46,674.275 2289.34,674.275 \"/>\n",
       "<path clip-path=\"url(#clip480)\" d=\"M1967.67 302.578 L2278.07 302.578 L2278.07 95.2176 L1967.67 95.2176  Z\" fill=\"#ffffff\" fill-rule=\"evenodd\" fill-opacity=\"1\"/>\n",
       "<polyline clip-path=\"url(#clip480)\" style=\"stroke:#000000; stroke-linecap:round; stroke-linejoin:round; stroke-width:4; stroke-opacity:1; fill:none\" points=\"1967.67,302.578 2278.07,302.578 2278.07,95.2176 1967.67,95.2176 1967.67,302.578 \"/>\n",
       "<polyline clip-path=\"url(#clip480)\" style=\"stroke:#009af9; stroke-linecap:round; stroke-linejoin:round; stroke-width:4; stroke-opacity:1; fill:none\" points=\"1992.57,147.058 2141.94,147.058 \"/>\n",
       "<path clip-path=\"url(#clip480)\" d=\"M2174.24 131.051 L2174.24 138.412 L2183.01 138.412 L2183.01 141.722 L2174.24 141.722 L2174.24 155.796 Q2174.24 158.967 2175.1 159.87 Q2175.98 160.773 2178.64 160.773 L2183.01 160.773 L2183.01 164.338 L2178.64 164.338 Q2173.71 164.338 2171.83 162.509 Q2169.96 160.657 2169.96 155.796 L2169.96 141.722 L2166.83 141.722 L2166.83 138.412 L2169.96 138.412 L2169.96 131.051 L2174.24 131.051 Z\" fill=\"#000000\" fill-rule=\"nonzero\" fill-opacity=\"1\" /><path clip-path=\"url(#clip480)\" d=\"M2208.31 172.208 L2208.31 175.518 L2183.68 175.518 L2183.68 172.208 L2208.31 172.208 Z\" fill=\"#000000\" fill-rule=\"nonzero\" fill-opacity=\"1\" /><path clip-path=\"url(#clip480)\" d=\"M2210.51 129.778 L2237.67 129.778 L2237.67 133.342 L2215.81 160.402 L2238.2 160.402 L2238.2 164.338 L2209.98 164.338 L2209.98 160.773 L2231.83 133.713 L2210.51 133.713 L2210.51 129.778 Z\" fill=\"#000000\" fill-rule=\"nonzero\" fill-opacity=\"1\" /><polyline clip-path=\"url(#clip480)\" style=\"stroke:#e26f46; stroke-linecap:round; stroke-linejoin:round; stroke-width:4; stroke-opacity:1; fill:none\" points=\"1992.57,198.898 2141.94,198.898 \"/>\n",
       "<path clip-path=\"url(#clip480)\" d=\"M2174.24 182.891 L2174.24 190.252 L2183.01 190.252 L2183.01 193.562 L2174.24 193.562 L2174.24 207.636 Q2174.24 210.807 2175.1 211.71 Q2175.98 212.613 2178.64 212.613 L2183.01 212.613 L2183.01 216.178 L2178.64 216.178 Q2173.71 216.178 2171.83 214.349 Q2169.96 212.497 2169.96 207.636 L2169.96 193.562 L2166.83 193.562 L2166.83 190.252 L2169.96 190.252 L2169.96 182.891 L2174.24 182.891 Z\" fill=\"#000000\" fill-rule=\"nonzero\" fill-opacity=\"1\" /><path clip-path=\"url(#clip480)\" d=\"M2208.31 224.048 L2208.31 227.358 L2183.68 227.358 L2183.68 224.048 L2208.31 224.048 Z\" fill=\"#000000\" fill-rule=\"nonzero\" fill-opacity=\"1\" /><path clip-path=\"url(#clip480)\" d=\"M2209.42 181.618 L2214.15 181.618 L2221.42 210.83 L2228.66 181.618 L2233.92 181.618 L2241.18 210.83 L2248.43 181.618 L2253.17 181.618 L2244.49 216.178 L2238.61 216.178 L2231.32 186.178 L2223.96 216.178 L2218.08 216.178 L2209.42 181.618 Z\" fill=\"#000000\" fill-rule=\"nonzero\" fill-opacity=\"1\" /><polyline clip-path=\"url(#clip480)\" style=\"stroke:#3da44d; stroke-linecap:round; stroke-linejoin:round; stroke-width:4; stroke-opacity:1; fill:none\" points=\"1992.57,250.738 2141.94,250.738 \"/>\n",
       "<path clip-path=\"url(#clip480)\" d=\"M2174.24 234.731 L2174.24 242.092 L2183.01 242.092 L2183.01 245.402 L2174.24 245.402 L2174.24 259.476 Q2174.24 262.647 2175.1 263.55 Q2175.98 264.453 2178.64 264.453 L2183.01 264.453 L2183.01 268.018 L2178.64 268.018 Q2173.71 268.018 2171.83 266.189 Q2169.96 264.337 2169.96 259.476 L2169.96 245.402 L2166.83 245.402 L2166.83 242.092 L2169.96 242.092 L2169.96 234.731 L2174.24 234.731 Z\" fill=\"#000000\" fill-rule=\"nonzero\" fill-opacity=\"1\" /><path clip-path=\"url(#clip480)\" d=\"M2208.31 275.888 L2208.31 279.198 L2183.68 279.198 L2183.68 275.888 L2208.31 275.888 Z\" fill=\"#000000\" fill-rule=\"nonzero\" fill-opacity=\"1\" /><path clip-path=\"url(#clip480)\" d=\"M2207.76 233.458 L2212.78 233.458 L2222.36 247.67 L2231.88 233.458 L2236.9 233.458 L2224.68 251.559 L2224.68 268.018 L2219.98 268.018 L2219.98 251.559 L2207.76 233.458 Z\" fill=\"#000000\" fill-rule=\"nonzero\" fill-opacity=\"1\" /></svg>\n"
      ]
     },
     "execution_count": 34,
     "metadata": {},
     "output_type": "execute_result"
    }
   ],
   "source": [
    "t_Y = vec(collect(get(chain, :t).t[1]))\n",
    "t_Z = vec(collect(get(chain, :t).t[2]))\n",
    "t_W = vec(collect(get(chain, :t).t[3]))\n",
    "plot(t_Z, label=\"t_Z\")\n",
    "plot!(t_W, label=\"t_W\")\n",
    "plot!(t_Y, label=\"t_Y\")"
   ]
  },
  {
   "cell_type": "markdown",
   "metadata": {},
   "source": [
    "# 4. Sample trajectory"
   ]
  },
  {
   "cell_type": "code",
   "execution_count": 26,
   "metadata": {},
   "outputs": [
    {
     "name": "stdout",
     "output_type": "stream",
     "text": [
      "-1329.9780347237333\n",
      "#-###################---#####################---##########--###############\n",
      "-#################---#############################-----#####------#########\n",
      "\n",
      "#################----###--#################################################\n",
      "###########----######-#-#################################################--\n",
      "\n",
      "##############----####\n",
      "--#---#############---\n",
      "\n",
      "\n"
     ]
    }
   ],
   "source": [
    "scale = 100\n",
    "t = 1.0\n",
    "λ, μ, r = Λ\n",
    "τ = TKF92([t], λ, μ, r)\n",
    "Γ = ChainJointDistribution(ξ, τ)\n",
    "\n",
    "α_YZ = get_α(τ, (Y, Z))\n",
    "lp = logpdfα!(α_YZ, Γ, (Y, Z)); print(lp)\n",
    "M_YZ = Alignment(rand(ConditionedAlignmentDistribution(τ, α_YZ; max_length=num_sites(Y) + num_sites(Z))), τ)\n",
    "print(M_YZ)"
   ]
  },
  {
   "cell_type": "code",
   "execution_count": 31,
   "metadata": {},
   "outputs": [
    {
     "name": "stderr",
     "output_type": "stream",
     "text": [
      "\u001b[36m\u001b[1m[ \u001b[22m\u001b[39m\u001b[36m\u001b[1mInfo: \u001b[22m\u001b[39m[Turing]: progress logging is disabled globally\n",
      "\u001b[36m\u001b[1m[ \u001b[22m\u001b[39m\u001b[36m\u001b[1mInfo: \u001b[22m\u001b[39m[AdvancedVI]: global PROGRESS is set as false\n",
      "\u001b[36m\u001b[1m[ \u001b[22m\u001b[39m\u001b[36m\u001b[1mInfo: \u001b[22m\u001b[39mreconstructing ancestor...\n",
      "\u001b[36m\u001b[1m[ \u001b[22m\u001b[39m\u001b[36m\u001b[1mInfo: \u001b[22m\u001b[39mreconstructing ancestor...\n",
      "\u001b[36m\u001b[1m[ \u001b[22m\u001b[39m\u001b[36m\u001b[1mInfo: \u001b[22m\u001b[39mreconstructing ancestor...\n",
      "\u001b[36m\u001b[1m[ \u001b[22m\u001b[39m\u001b[36m\u001b[1mInfo: \u001b[22m\u001b[39mreconstructing ancestor...\n",
      "\u001b[36m\u001b[1m[ \u001b[22m\u001b[39m\u001b[36m\u001b[1mInfo: \u001b[22m\u001b[39mreconstructing ancestor...\n",
      "\u001b[36m\u001b[1m[ \u001b[22m\u001b[39m\u001b[36m\u001b[1mInfo: \u001b[22m\u001b[39mreconstructing ancestor...\n",
      "\u001b[36m\u001b[1m[ \u001b[22m\u001b[39m\u001b[36m\u001b[1mInfo: \u001b[22m\u001b[39mreconstructing ancestor...\n"
     ]
    },
    {
     "data": {
      "text/plain": [
       "9-element Vector{Polypeptide}:\n",
       " Polypeptide from chain A of protein 1MBN.pdb with 153 sites\n",
       "and internal coordinates given by: [\"aminoacid\", \"ramachadran angles\"]\n",
       " Polypeptide from chain X of protein  with 152 sites\n",
       "and internal coordinates given by: [\"aminoacid\", \"ramachadran angles\"]\n",
       " Polypeptide from chain X of protein  with 151 sites\n",
       "and internal coordinates given by: [\"aminoacid\", \"ramachadran angles\"]\n",
       " Polypeptide from chain X of protein  with 145 sites\n",
       "and internal coordinates given by: [\"aminoacid\", \"ramachadran angles\"]\n",
       " Polypeptide from chain X of protein  with 141 sites\n",
       "and internal coordinates given by: [\"aminoacid\", \"ramachadran angles\"]\n",
       " Polypeptide from chain X of protein  with 140 sites\n",
       "and internal coordinates given by: [\"aminoacid\", \"ramachadran angles\"]\n",
       " Polypeptide from chain X of protein  with 142 sites\n",
       "and internal coordinates given by: [\"aminoacid\", \"ramachadran angles\"]\n",
       " Polypeptide from chain X of protein  with 142 sites\n",
       "and internal coordinates given by: [\"aminoacid\", \"ramachadran angles\"]\n",
       " Polypeptide from chain A of protein 1A3N.pdb with 141 sites\n",
       "and internal coordinates given by: [\"aminoacid\", \"ramachadran angles\"]"
      ]
     },
     "execution_count": 31,
     "metadata": {},
     "output_type": "execute_result"
    }
   ],
   "source": [
    "Turing.setprogress!(false)\n",
    "traj, M = trajectory_reconstruction(M_YZ, Y, Z, ξ, 0.01, Λ; levels=3)\n",
    "polys = write_trajectory(traj, M, alphaglobin, myoglobin, \"traj\")"
   ]
  },
  {
   "cell_type": "code",
   "execution_count": 64,
   "metadata": {},
   "outputs": [
    {
     "name": "stdout",
     "output_type": "stream",
     "text": [
      "\n",
      "-VLSPADKTNVKAAWGKV---GAHAGEYGAEALERMFLSFPTTKTYFPHF-----DLSHG------SAQVKGHGK\n",
      "-#################---#############################-----#####------#########\n",
      "-#################------##########################-----#####------#########\n",
      "--################------###################################################\n",
      "V-LSEGEWQLVLHVWAKVEAD---VAGHGQDILIRLFKSHPETLE---KFDRFKHLKT--EAEMKASEDLKKHGV\n",
      "\n",
      "KVADALTNAVA----HVDDMP-N-ALSALSDLHAHKLRVDPVNFKLLSHCLLVTLAAHLPAEFTPAVHASLDK--\n",
      "#################----##-#################################################--\n",
      "#################----###--###############################################--\n",
      "#################----###--#################################################\n",
      "TVLTALGAILKKKGHHE----AEL--KPLAQSHATKHKIPIKYLEFISEAIIHVLHSRHPGDFGADAQGAMNKAL\n",
      "\n",
      "--F---LASVSTVLTSKYR---\n",
      "--#---#############---\n",
      "--#################---\n",
      "##############----#---\n",
      "ELFRKDIAAKYKEL----GYQG\n",
      "\n"
     ]
    }
   ],
   "source": [
    "MM = subalignment(M, [9, 7, 5, 3, 1])\n",
    "aaa(chain) = id_to_aa.(Int.(chain.data[1]))\n",
    "bbb(chain) = fill('#', length(chain.data[1]))\n",
    "contents = vec.([aaa(traj[9]), bbb(traj[7]),bbb(traj[5]), bbb(traj[3]), aaa(traj[1])])\n",
    "show_filled_alignment(MM, contents...)"
   ]
  },
  {
   "cell_type": "code",
   "execution_count": null,
   "metadata": {},
   "outputs": [],
   "source": []
  }
 ],
 "metadata": {
  "kernelspec": {
   "display_name": "Julia 1.9.0-rc2",
   "language": "julia",
   "name": "julia-1.9"
  },
  "language_info": {
   "file_extension": ".jl",
   "mimetype": "application/julia",
   "name": "julia",
   "version": "1.9.0"
  }
 },
 "nbformat": 4,
 "nbformat_minor": 2
}
