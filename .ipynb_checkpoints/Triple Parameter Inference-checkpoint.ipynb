{
 "cells": [
  {
   "cell_type": "markdown",
   "metadata": {},
   "source": [
    "## 1. Prepare data"
   ]
  },
  {
   "cell_type": "markdown",
   "metadata": {},
   "source": [
    "### 1.1 Load real data example"
   ]
  },
  {
   "cell_type": "code",
   "execution_count": 1,
   "metadata": {
    "scrolled": false
   },
   "outputs": [
    {
     "name": "stderr",
     "output_type": "stream",
     "text": [
      "\u001b[36m\u001b[1m[ \u001b[22m\u001b[39m\u001b[36m\u001b[1mInfo: \u001b[22m\u001b[39mPrecompiling TorusEvol [4b860a26-b3bc-4b38-a9ed-83c1dc5d19b0]\n",
      "\u001b[36m\u001b[1m[ \u001b[22m\u001b[39m\u001b[36m\u001b[1mInfo: \u001b[22m\u001b[39mFile exists: 1A3N\n",
      "\u001b[36m\u001b[1m[ \u001b[22m\u001b[39m\u001b[36m\u001b[1mInfo: \u001b[22m\u001b[39mFile exists: 1MBN\n",
      "\u001b[36m\u001b[1m[ \u001b[22m\u001b[39m\u001b[36m\u001b[1mInfo: \u001b[22m\u001b[39mFile exists: 1A3N\n"
     ]
    },
    {
     "data": {
      "text/plain": [
       "ObservedChain(\n",
       "num sites: 145\n",
       "num coords: 2\n",
       ")"
      ]
     },
     "execution_count": 1,
     "metadata": {},
     "output_type": "execute_result"
    }
   ],
   "source": [
    "using TorusEvol\n",
    "using Distributions\n",
    "\n",
    "# Underlying evolutionary process\n",
    "t_Y = 0.5; t_Z=0.3; t_W=0.9\n",
    "λ=0.03; μ=0.0308; r=0.4\n",
    "τ = TKF92([t_Y+t_Z], λ, μ, r)\n",
    "S = WAG_SubstitutionProcess()\n",
    "μ_𝜙=-1.0; μ_𝜓=-0.8; σ_𝜙=0.8; σ_𝜓=0.8; α_𝜙=0.5; α_𝜓=1.0; α_cov=0.1; γ=0.2\n",
    "Θ = JumpingWrappedDiffusion(μ_𝜙, μ_𝜓, σ_𝜙, σ_𝜓, α_𝜙, α_𝜓, α_cov, γ)\n",
    "ξ = ProductProcess(S, Θ)\n",
    "Γ = ChainJointDistribution(ξ, τ)\n",
    "\n",
    "chainY = from_pdb(\"1A3N\", \"A\"); Y = data(chainY)\n",
    "chainZ = from_pdb(\"1MBN\", \"A\"); Z = data(chainZ)\n",
    "chainW = from_pdb(\"1A3N\", \"B\"); W = data(chainW)"
   ]
  },
  {
   "cell_type": "code",
   "execution_count": 2,
   "metadata": {},
   "outputs": [
    {
     "name": "stdout",
     "output_type": "stream",
     "text": [
      "-1490.1530021439378-15.664424982328992"
     ]
    },
    {
     "data": {
      "text/plain": [
       "20-element Vector{Categorical{Float64, Vector{Float64}}}:\n",
       " Categorical{Float64, Vector{Float64}}(\n",
       "support: Base.OneTo(20)\n",
       "p: [0.43842795928959943, 0.018050510333022438, 0.019082557419108356, 0.02883225299510754, 0.011543750823981156, 0.020101863400060996, 0.04337982569520048, 0.06323448576269769, 0.007128195443570772, 0.01669290656038508, 0.026132211041939572, 0.03358664589271356, 0.009546733133746824, 0.0073237385641029065, 0.03535303126390308, 0.09010200646806005, 0.06171981563172002, 0.0020282218861113906, 0.00740150476359826, 0.060331783631370386]\n",
       ")\n",
       "\n",
       " Categorical{Float64, Vector{Float64}}(\n",
       "support: Base.OneTo(20)\n",
       "p: [0.03556076148635573, 0.4781371323756064, 0.0212533713263456, 0.013996292291816165, 0.00641044977747932, 0.049912679838724314, 0.027742955811916277, 0.031944065469263636, 0.025648865227737055, 0.009411688858413852, 0.027427340014714707, 0.13350398511328868, 0.008187088814435915, 0.0053508406820469085, 0.02052766575051549, 0.043602722651130306, 0.026866114586048668, 0.008966538472247848, 0.009952858023827256, 0.015596583428085925]\n",
       ")\n",
       "\n",
       " Categorical{Float64, Vector{Float64}}(\n",
       "support: Base.OneTo(20)\n",
       "p: [0.04228977359199106, 0.023908098972152778, 0.33707986526884987, 0.11301699030031238, 0.004629751242868618, 0.029543034523294494, 0.0451983251789952, 0.05260105570532344, 0.037031519973328805, 0.013882462263568918, 0.013823953122383544, 0.07312418531963608, 0.004621428904076213, 0.0062213760507836505, 0.012986096829935248, 0.09594966851507583, 0.05691209695700625, 0.0019055681317019253, 0.01969465051321882, 0.015580098635496871]\n",
       ")\n",
       "\n",
       " Categorical{Float64, Vector{Float64}}(\n",
       "support: Base.OneTo(20)\n",
       "p: [0.043784260685578176, 0.010788743724802664, 0.07744339725313885, 0.4868227620726415, 0.0018212096541384173, 0.023777347191972827, 0.13585905022857273, 0.046347986726111054, 0.015047537806037363, 0.005032220798882466, 0.008954157947818352, 0.03194341790451465, 0.0028046947913467823, 0.0032281317220265128, 0.015186105954966453, 0.04484388646614773, 0.023601511631376932, 0.0017190204539864894, 0.008894935467280566, 0.012099621518659343]\n",
       ")\n",
       "\n",
       " Categorical{Float64, Vector{Float64}}(\n",
       "support: Base.OneTo(20)\n",
       "p: [0.05179310392715676, 0.014599296533800876, 0.00937311336521968, 0.005380783250359514, 0.6789306364003708, 0.00522571422230509, 0.005900549555258698, 0.021073061385750665, 0.0050271794305930245, 0.011868605614894638, 0.024800517091540138, 0.00869239652540051, 0.005769227730615939, 0.011459639092554109, 0.007066573064352465, 0.04939209926734692, 0.024086389418112954, 0.0067916720241904625, 0.012852229211470514, 0.03991721288870625]\n",
       ")\n",
       "\n",
       " Categorical{Float64, Vector{Float64}}(\n",
       "support: Base.OneTo(20)\n",
       "p: [0.0474128041590538, 0.059756980564428464, 0.031442396794140404, 0.03693033803275447, 0.0027471348929408884, 0.3535114167324444, 0.1106203363189404, 0.02424829698713291, 0.04036363258409026, 0.009788594784327394, 0.03813267023028092, 0.09831591032652968, 0.01273509117850867, 0.005625558182207388, 0.02484493550302873, 0.04052410440458615, 0.032741301725932696, 0.0027337835696944926, 0.008723986912179536, 0.018800726116798287]\n",
       ")\n",
       "\n",
       " Categorical{Float64, Vector{Float64}}(\n",
       "support: Base.OneTo(20)\n",
       "p: [0.06472570445429138, 0.02101164942776358, 0.0304307420955584, 0.1334867368516103, 0.0019622595451003018, 0.06997850070110999, 0.40830327760374197, 0.034374653912934275, 0.012385897237049437, 0.008419867656561159, 0.01472560117436723, 0.07075077554876714, 0.005314414609812114, 0.0038304512222208753, 0.02064545886034148, 0.03624106026648843, 0.03130776831163713, 0.001946406797049522, 0.00636742249240486, 0.023791351231190427]\n",
       ")\n",
       "\n",
       " Categorical{Float64, Vector{Float64}}(\n",
       "support: Base.OneTo(20)\n",
       "p: [0.06579882608186728, 0.016872241162526946, 0.02469788889714901, 0.03175817865307028, 0.0048872751655074965, 0.010697593043911557, 0.023972509832407937, 0.680686140869271, 0.005770644190648878, 0.004003814910293284, 0.007368339324923069, 0.019595826714059992, 0.0029977461661327273, 0.002721916205346533, 0.010954106720909655, 0.049863889627648, 0.017375114715666294, 0.0033583404487400265, 0.004191701530161008, 0.012427905739758932]\n",
       ")\n",
       "\n",
       " Categorical{Float64, Vector{Float64}}(\n",
       "support: Base.OneTo(20)\n",
       "p: [0.02527497931203433, 0.04616340112045015, 0.05924940125353294, 0.03513477788325558, 0.0039729271471433784, 0.06067951905595381, 0.029434028033552422, 0.0196639767851511, 0.46190307324403684, 0.008191055798533993, 0.027819748045358045, 0.040722614278929654, 0.005998544336359657, 0.01984651953599731, 0.01992522244404072, 0.03525580296293051, 0.023018089965320825, 0.0038753671839430845, 0.06261455913801449, 0.011256392475461098]\n",
       ")\n",
       "\n",
       " Categorical{Float64, Vector{Float64}}(\n",
       "support: Base.OneTo(20)\n",
       "p: [0.029836822519341045, 0.008538991921804436, 0.011196655808309969, 0.005922988047173899, 0.004728194270029768, 0.0074179112800366225, 0.010086416338990604, 0.006877497589005785, 0.004129041834084173, 0.4155132687528824, 0.13330709283197126, 0.015123915903481668, 0.034786297240231245, 0.02535285789026714, 0.0070365263710759525, 0.019156793316272076, 0.04335385881552864, 0.003172664184459289, 0.011214275639410248, 0.20324792944564385]\n",
       ")\n",
       "\n",
       " Categorical{Float64, Vector{Float64}}(\n",
       "support: Base.OneTo(20)\n",
       "p: [0.026259190628821087, 0.013989664595657475, 0.006268139442309961, 0.005925029121658906, 0.0055544481887046466, 0.01624587369630527, 0.009917203610092558, 0.0071155855167167065, 0.00788400991103662, 0.0749441654722166, 0.5851429127084317, 0.014234841116004187, 0.040338147745558176, 0.0434831623307123, 0.01269152588452249, 0.01754127273151003, 0.018698219469538997, 0.0063287780920278204, 0.013004097893418219, 0.0744337318447561]\n",
       ")\n",
       "\n",
       " Categorical{Float64, Vector{Float64}}(\n",
       "support: Base.OneTo(20)\n",
       "p: [0.04690643673610882, 0.09464081461457348, 0.04608165474689713, 0.029377020740510473, 0.0027057043627153926, 0.05821438152825979, 0.06622287464989242, 0.02630057499981589, 0.016039478663597343, 0.011817060326658068, 0.01978396123352138, 0.4367941923123587, 0.009360099866690657, 0.004302510669069737, 0.01853037132409899, 0.04263087802972517, 0.043333960666813595, 0.0023981528131573173, 0.006153756085503077, 0.01840611563003252]\n",
       ")\n",
       "\n",
       " Categorical{Float64, Vector{Float64}}(\n",
       "support: Base.OneTo(20)\n",
       "p: [0.04240507433518982, 0.018459119473117874, 0.009262762745824767, 0.00820368948103885, 0.005711573022052662, 0.023983125532022965, 0.01582083846798753, 0.012796575052359345, 0.007514458831079988, 0.0864471422954282, 0.1783092279016149, 0.02976992368190087, 0.35893577963802786, 0.027820905005865232, 0.009332203151119206, 0.024933800117526755, 0.042844708700464584, 0.00504409089479904, 0.011747119699590825, 0.08065788197298877]\n",
       ")\n",
       "\n",
       " Categorical{Float64, Vector{Float64}}(\n",
       "support: Base.OneTo(20)\n",
       "p: [0.0165081635817446, 0.006122184083299725, 0.00632781249429517, 0.004791568902296651, 0.005757207415485995, 0.005376160519566588, 0.005786645585198745, 0.005896258669081375, 0.012616505370273423, 0.031972179634878535, 0.09753980264749795, 0.006944197744255664, 0.0141180312203635, 0.5814443906931462, 0.006906585298818902, 0.021629546909021493, 0.011703047354873375, 0.01415479342307372, 0.11107905170279567, 0.03332586675003274]\n",
       ")\n",
       "\n",
       " Categorical{Float64, Vector{Float64}}(\n",
       "support: Base.OneTo(20)\n",
       "p: [0.06692201483348528, 0.019724243296054395, 0.011092315280740835, 0.01892994427413477, 0.0029814409297426203, 0.019939804682130125, 0.02619255757207619, 0.019927607655683865, 0.010637371312194586, 0.007452123809369716, 0.023908427422504142, 0.025116589363788876, 0.003977072322358678, 0.0058001576716979, 0.6219045149716007, 0.0562707521093953, 0.03248626333343886, 0.0019130134908323848, 0.006602751412297894, 0.018221034256472875]\n",
       ")\n",
       "\n",
       " Categorical{Float64, Vector{Float64}}(\n",
       "support: Base.OneTo(20)\n",
       "p: [0.11227824209469016, 0.02757993150563383, 0.05395178756051615, 0.03679806190707781, 0.013718089502618472, 0.021409929801994607, 0.030267256259265955, 0.05971495926233426, 0.012390263499447543, 0.013355598268452335, 0.021752895022875387, 0.03803816975131025, 0.006994981487531832, 0.011957561776935485, 0.037042604219308536, 0.3634873141169448, 0.09745284062781767, 0.0043979904691805434, 0.015201451861144077, 0.022210071004920444]\n",
       ")\n",
       "\n",
       " Categorical{Float64, Vector{Float64}}(\n",
       "support: Base.OneTo(20)\n",
       "p: [0.08763188674756368, 0.01936247356005769, 0.036462240202305415, 0.022066726946407225, 0.007622268635989577, 0.01970943432957776, 0.029792069349963347, 0.02370833572822883, 0.009217127931885371, 0.03443853691696009, 0.026419988006586945, 0.044055498488306755, 0.013695304426333382, 0.007371749580624333, 0.024366601011830264, 0.11103781392202873, 0.4214729856019193, 0.00201835923102083, 0.008723567181984481, 0.05082703220042587]\n",
       ")\n",
       "\n",
       " Categorical{Float64, Vector{Float64}}(\n",
       "support: Base.OneTo(20)\n",
       "p: [0.012213389689061434, 0.02740715768229186, 0.0051778140350863845, 0.006816514343885659, 0.00911533133892663, 0.006979519969282167, 0.007855347082158116, 0.01943485547448647, 0.006581462284672403, 0.010688684223024205, 0.03792586008074756, 0.010340268011470257, 0.006838181239546867, 0.03781449929140524, 0.006085502310061343, 0.021252689205224978, 0.008560155864735929, 0.6901205035048321, 0.05042040176533899, 0.01837186260376129]\n",
       ")\n",
       "\n",
       " Categorical{Float64, Vector{Float64}}(\n",
       "support: Base.OneTo(20)\n",
       "p: [0.018176934261032538, 0.012407002087183613, 0.021824791824376338, 0.014384804849566163, 0.007034837676523652, 0.009083564296545957, 0.010480338200279089, 0.009892972695303032, 0.04336753430747043, 0.015408176036300103, 0.031781593212424124, 0.010821191542975781, 0.006494847547647007, 0.1210227023472303, 0.00856610137596685, 0.029958808713956026, 0.015088886137864624, 0.020562985347817683, 0.5753161112201917, 0.01832581631934497]\n",
       ")\n",
       "\n",
       " Categorical{Float64, Vector{Float64}}(\n",
       "support: Base.OneTo(20)\n",
       "p: [0.07371988838855993, 0.009673561779571573, 0.008590331524133955, 0.00973578218527065, 0.01087110572465093, 0.009739884405948734, 0.01948357418509134, 0.014593931401458803, 0.0038790602165117843, 0.13894535272305436, 0.09051136584787459, 0.016104040081035133, 0.02218821019576121, 0.018065668085897893, 0.011761675093833662, 0.021778467142008227, 0.04374170565641484, 0.003727957422342846, 0.009118034264634728, 0.4637704036759446]\n",
       ")\n"
      ]
     },
     "execution_count": 2,
     "metadata": {},
     "output_type": "execute_result"
    }
   ],
   "source": [
    "τ_XYZ = TKF92([t_Y, t_Z], λ, μ, r; known_ancestor=false)\n",
    "Γ = ChainJointDistribution(ξ, τ_XYZ)\n",
    "α_YZ = get_α(τ_XYZ, (Y, Z))\n",
    "lp = logpdfα!(α_YZ, Γ, (Y, Z)); print(lp)\n",
    "\n",
    "c = ConditionedAlignmentDistribution(τ_XYZ, α_YZ)\n",
    "M_XYZ_data = rand(ConditionedAlignmentDistribution(τ_XYZ, α_YZ)); M_XYZ = Alignment(M_XYZ_data)\n",
    "print(logpdf(c, M_XYZ_data))\n",
    "data(M_XYZ)\n",
    "transdist.(Ref(S), Ref(t_Y + t_Z), eachcol(data(domain(S))))"
   ]
  },
  {
   "cell_type": "code",
   "execution_count": 3,
   "metadata": {},
   "outputs": [
    {
     "name": "stderr",
     "output_type": "stream",
     "text": [
      "\u001b[36m\u001b[1m[ \u001b[22m\u001b[39m\u001b[36m\u001b[1mInfo: \u001b[22m\u001b[39m20\n",
      "\u001b[36m\u001b[1m[ \u001b[22m\u001b[39m\u001b[36m\u001b[1mInfo: \u001b[22m\u001b[39m0\n",
      "\u001b[36m\u001b[1m[ \u001b[22m\u001b[39m\u001b[36m\u001b[1mInfo: \u001b[22m\u001b[39m(20, 0)\n",
      "\u001b[36m\u001b[1m[ \u001b[22m\u001b[39m\u001b[36m\u001b[1mInfo: \u001b[22m\u001b[39m(20,)\n",
      "\u001b[36m\u001b[1m┌ \u001b[22m\u001b[39m\u001b[36m\u001b[1mInfo: \u001b[22m\u001b[39m(1, 133)\n",
      "\u001b[36m\u001b[1m└ \u001b[22m\u001b[39m  dataY111 = \"dataY111\"\n",
      "\u001b[36m\u001b[1m┌ \u001b[22m\u001b[39m\u001b[36m\u001b[1mInfo: \u001b[22m\u001b[39m(1, 133)\n",
      "\u001b[36m\u001b[1m└ \u001b[22m\u001b[39m  dataZ111 = \"dataZ111\"\n",
      "\u001b[36m\u001b[1m┌ \u001b[22m\u001b[39m\u001b[36m\u001b[1mInfo: \u001b[22m\u001b[39m(20, 133)\n",
      "\u001b[36m\u001b[1m└ \u001b[22m\u001b[39m  dataX111 = \"dataX111\"\n",
      "\u001b[36m\u001b[1m┌ \u001b[22m\u001b[39m\u001b[36m\u001b[1mInfo: \u001b[22m\u001b[39mCTMC(\n",
      "\u001b[36m\u001b[1m│ \u001b[22m\u001b[39mnum states: 20\n",
      "\u001b[36m\u001b[1m│ \u001b[22m\u001b[39mstat dist: [0.087, 0.044, 0.039, 0.057, 0.019, 0.037, 0.058, 0.083, 0.024, 0.048, 0.086, 0.062, 0.02, 0.038, 0.046, 0.07, 0.061, 0.014, 0.035, 0.071]\n",
      "\u001b[36m\u001b[1m│ \u001b[22m\u001b[39mQ matrix: [-1.117 0.025 0.021 0.044 0.021 0.035 0.096 0.124 0.008 0.01 0.036 0.059 0.018 0.008 0.069 0.246 0.136 0.002 0.009 0.149; 0.05 -0.974 0.026 0.009 0.011 0.117 0.027 0.051 0.055 0.01 0.045 0.348 0.014 0.004 0.033 0.089 0.036 0.018 0.014 0.019; 0.046 0.029 -1.452 0.325 0.005 0.06 0.058 0.098 0.101 0.028 0.012 0.196 0.004 0.004 0.009 0.29 0.13 0.001 0.04 0.015; 0.067 0.007 0.223 -0.99 0.001 0.024 0.376 0.076 0.024 0.002 0.008 0.031 0.002 0.002 0.02 0.078 0.024 0.002 0.012 0.011; 0.093 0.024 0.011 0.002 -0.487 0.004 0.001 0.027 0.006 0.009 0.035 0.005 0.008 0.016 0.005 0.103 0.033 0.011 0.02 0.075; 0.083 0.14 0.063 0.037 0.002 -1.38 0.333 0.029 0.11 0.006 0.079 0.254 0.032 0.004 0.045 0.075 0.055 0.003 0.008 0.022; 0.144 0.02 0.039 0.37 0.0 0.211 -1.237 0.05 0.015 0.006 0.014 0.168 0.006 0.003 0.033 0.051 0.053 0.002 0.007 0.044; 0.129 0.027 0.046 0.052 0.006 0.013 0.035 -0.498 0.006 0.002 0.006 0.024 0.004 0.002 0.012 0.098 0.014 0.005 0.004 0.014; 0.029 0.099 0.162 0.056 0.005 0.166 0.035 0.022 -0.992 0.007 0.045 0.058 0.008 0.027 0.033 0.054 0.03 0.004 0.143 0.009; 0.018 0.009 0.023 0.002 0.003 0.004 0.008 0.003 0.004 -1.233 0.287 0.021 0.087 0.043 0.005 0.023 0.093 0.003 0.016 0.582; 0.036 0.023 0.005 0.005 0.008 0.034 0.009 0.005 0.013 0.161 -0.726 0.017 0.099 0.085 0.02 0.025 0.021 0.01 0.015 0.134; 0.082 0.247 0.124 0.029 0.002 0.15 0.157 0.033 0.023 0.016 0.023 -1.125 0.019 0.004 0.027 0.071 0.089 0.002 0.005 0.023; 0.081 0.032 0.008 0.006 0.008 0.06 0.019 0.015 0.01 0.217 0.439 0.061 -1.322 0.048 0.008 0.036 0.097 0.008 0.016 0.153; 0.019 0.005 0.004 0.003 0.008 0.004 0.005 0.004 0.017 0.054 0.191 0.006 0.024 -0.714 0.008 0.04 0.011 0.023 0.239 0.048; 0.131 0.031 0.008 0.025 0.002 0.036 0.042 0.021 0.018 0.005 0.038 0.036 0.004 0.007 -0.606 0.118 0.051 0.002 0.008 0.023; 0.306 0.056 0.163 0.064 0.029 0.04 0.043 0.117 0.019 0.016 0.031 0.063 0.01 0.022 0.077 -1.392 0.28 0.008 0.029 0.017; 0.193 0.026 0.083 0.022 0.01 0.033 0.05 0.02 0.012 0.074 0.03 0.09 0.031 0.007 0.038 0.319 -1.155 0.002 0.011 0.103; 0.01 0.054 0.003 0.008 0.015 0.008 0.01 0.029 0.007 0.011 0.06 0.009 0.011 0.062 0.007 0.038 0.007 -0.467 0.092 0.027; 0.022 0.018 0.045 0.02 0.011 0.009 0.012 0.009 0.099 0.021 0.036 0.009 0.009 0.26 0.01 0.057 0.019 0.038 -0.726 0.023; 0.182 0.012 0.008 0.009 0.02 0.012 0.036 0.016 0.003 0.398 0.163 0.02 0.042 0.026 0.015 0.017 0.089 0.006 0.012 -1.085]\n",
      "\u001b[36m\u001b[1m│ \u001b[22m\u001b[39m)\n",
      "\u001b[36m\u001b[1m└ \u001b[22m\u001b[39m  1 = \"1\"\n",
      "\u001b[36m\u001b[1m┌ \u001b[22m\u001b[39m\u001b[36m\u001b[1mInfo: \u001b[22m\u001b[39m0.8\n",
      "\u001b[36m\u001b[1m└ \u001b[22m\u001b[39m  2 = \"2\"\n",
      "\u001b[36m\u001b[1m┌ \u001b[22m\u001b[39m\u001b[36m\u001b[1mInfo: \u001b[22m\u001b[39mReal[20]\n",
      "\u001b[36m\u001b[1m└ \u001b[22m\u001b[39m  3 = \"3\"\n",
      "\u001b[36m\u001b[1m[ \u001b[22m\u001b[39m\u001b[36m\u001b[1mInfo: \u001b[22m\u001b[39mnothing\n",
      "\u001b[36m\u001b[1m[ \u001b[22m\u001b[39m\u001b[36m\u001b[1mInfo: \u001b[22m\u001b[39mSubArray{Real, 1, Matrix{Real}, Tuple{Base.Slice{Base.OneTo{Int64}}, Int64}, true}[[20], [11], [16], [15], [1], [4], [12], [17], [3], [20], [12], [1], [1], [18], [8], [12], [20], [1], [9], [1], [8], [7], [19], [8], [1], [7], [1], [11], [7], [2], [13], [14], [11], [16], [14], [15], [17], [17], [15], [9], [14], [4], [11], [16], [9], [16], [1], [6], [20], [12], [8], [9], [8], [12], [12], [20], [1], [4], [1], [11], [17], [3], [1], [20], [1], [9], [4], [13], [15], [3], [1], [11], [16], [1], [11], [16], [4], [11], [9], [1], [9], [12], [11], [2], [20], [4], [15], [20], [3], [14], [12], [11], [11], [16], [9], [5], [11], [11], [20], [17], [11], [1], [1], [9], [11], [15], [1], [7], [14], [17], [15], [1], [20], [9], [1], [16], [11], [4], [12], [14], [11], [1], [16], [20], [16], [17], [20], [11], [17], [16], [12], [19], [2]]\n",
      "\u001b[36m\u001b[1m[ \u001b[22m\u001b[39m\u001b[36m\u001b[1mInfo: \u001b[22m\u001b[39m[nothing, nothing, nothing, nothing, nothing, nothing, nothing, nothing, nothing, nothing, nothing, nothing, nothing, nothing, nothing, nothing, nothing, nothing, nothing, nothing, nothing, nothing, nothing, nothing, nothing, nothing, nothing, nothing, nothing, nothing, nothing, nothing, nothing, nothing, nothing, nothing, nothing, nothing, nothing, nothing, nothing, nothing, nothing, nothing, nothing, nothing, nothing, nothing, nothing, nothing, nothing, nothing, nothing, nothing, nothing, nothing, nothing, nothing, nothing, nothing, nothing, nothing, nothing, nothing, nothing, nothing, nothing, nothing, nothing, nothing, nothing, nothing, nothing, nothing, nothing, nothing, nothing, nothing, nothing, nothing, nothing, nothing, nothing, nothing, nothing, nothing, nothing, nothing, nothing, nothing, nothing, nothing, nothing, nothing, nothing, nothing, nothing, nothing, nothing, nothing, nothing, nothing, nothing, nothing, nothing, nothing, nothing, nothing, nothing, nothing, nothing, nothing, nothing, nothing, nothing, nothing, nothing, nothing, nothing, nothing, nothing, nothing, nothing, nothing, nothing, nothing, nothing, nothing, nothing, nothing, nothing, nothing, nothing]\n"
     ]
    },
    {
     "ename": "LoadError",
     "evalue": "MethodError: no method matching logpdf(::Nothing, ::SubArray{Real, 1, Matrix{Real}, Tuple{Base.Slice{Base.OneTo{Int64}}, Int64}, true})\n\n\u001b[0mClosest candidates are:\n\u001b[0m  logpdf(\u001b[91m::Categorical{P} where P<:Real\u001b[39m, ::AbstractArray{<:Real})\n\u001b[0m\u001b[90m   @\u001b[39m \u001b[35mTorusEvol\u001b[39m \u001b[90mC:\\Users\\stefa\\Dropbox\\Jotun Hein - Part C Projects\\Manolache\\Code\\TorusEvol\\src\\distributions\\\u001b[39m\u001b[90m\u001b[4mCommon.jl:14\u001b[24m\u001b[39m\n\u001b[0m  logpdf(\u001b[91m::UnivariateDistribution\u001b[39m, ::AbstractArray)\n\u001b[0m\u001b[90m   @\u001b[39m \u001b[36mDistributions\u001b[39m \u001b[90m\u001b[4mdeprecated.jl:103\u001b[24m\u001b[39m\n\u001b[0m  logpdf(\u001b[91m::Distribution{ArrayLikeVariate{N}}\u001b[39m, ::AbstractArray{<:Real, N}) where N\n\u001b[0m\u001b[90m   @\u001b[39m \u001b[36mDistributions\u001b[39m \u001b[90mD:\\Programs\\julia_depot\\packages\\Distributions\\Spcmv\\src\\\u001b[39m\u001b[90m\u001b[4mcommon.jl:243\u001b[24m\u001b[39m\n\u001b[0m  ...\n",
     "output_type": "error",
     "traceback": [
      "MethodError: no method matching logpdf(::Nothing, ::SubArray{Real, 1, Matrix{Real}, Tuple{Base.Slice{Base.OneTo{Int64}}, Int64}, true})\n\n\u001b[0mClosest candidates are:\n\u001b[0m  logpdf(\u001b[91m::Categorical{P} where P<:Real\u001b[39m, ::AbstractArray{<:Real})\n\u001b[0m\u001b[90m   @\u001b[39m \u001b[35mTorusEvol\u001b[39m \u001b[90mC:\\Users\\stefa\\Dropbox\\Jotun Hein - Part C Projects\\Manolache\\Code\\TorusEvol\\src\\distributions\\\u001b[39m\u001b[90m\u001b[4mCommon.jl:14\u001b[24m\u001b[39m\n\u001b[0m  logpdf(\u001b[91m::UnivariateDistribution\u001b[39m, ::AbstractArray)\n\u001b[0m\u001b[90m   @\u001b[39m \u001b[36mDistributions\u001b[39m \u001b[90m\u001b[4mdeprecated.jl:103\u001b[24m\u001b[39m\n\u001b[0m  logpdf(\u001b[91m::Distribution{ArrayLikeVariate{N}}\u001b[39m, ::AbstractArray{<:Real, N}) where N\n\u001b[0m\u001b[90m   @\u001b[39m \u001b[36mDistributions\u001b[39m \u001b[90mD:\\Programs\\julia_depot\\packages\\Distributions\\Spcmv\\src\\\u001b[39m\u001b[90m\u001b[4mcommon.jl:243\u001b[24m\u001b[39m\n\u001b[0m  ...\n",
      "",
      "Stacktrace:",
      " [1] _broadcast_getindex_evalf",
      "   @ .\\broadcast.jl:683 [inlined]",
      " [2] _broadcast_getindex",
      "   @ .\\broadcast.jl:656 [inlined]",
      " [3] getindex",
      "   @ .\\broadcast.jl:610 [inlined]",
      " [4] copy",
      "   @ .\\broadcast.jl:912 [inlined]",
      " [5] materialize(bc::Base.Broadcast.Broadcasted{Base.Broadcast.DefaultArrayStyle{1}, Nothing, typeof(logpdf), Tuple{Vector{Nothing}, ColumnSlices{SubArray{Real, 2, Matrix{Real}, Tuple{Base.Slice{Base.OneTo{Int64}}, Vector{Int64}}, false}, Tuple{Base.OneTo{Int64}}, SubArray{Real, 1, Matrix{Real}, Tuple{Base.Slice{Base.OneTo{Int64}}, Int64}, true}}}})",
      "   @ Base.Broadcast .\\broadcast.jl:873",
      " [6] hiddenchain_from_alignment(Y::ObservedChain, Z::ObservedChain, t_Y::Float64, t_Z::Float64, M_XYZ::Alignment, ξ::MixtureProductProcess)",
      "   @ TorusEvol C:\\Users\\stefa\\Dropbox\\Jotun Hein - Part C Projects\\Manolache\\Code\\TorusEvol\\src\\distributions\\MixtureProductProcess.jl:331",
      " [7] top-level scope",
      "   @ In[3]:1"
     ]
    }
   ],
   "source": [
    "X = hiddenchain_from_alignment(Y, Z, t_Y, t_Z, M_XYZ, ξ)\n",
    "#LengthEquilibriumDefinition(λ, μ, r)\n"
   ]
  },
  {
   "cell_type": "markdown",
   "metadata": {},
   "source": [
    "## 2. Parameter Inference Bayesian Model"
   ]
  },
  {
   "cell_type": "markdown",
   "metadata": {},
   "source": [
    "### 2.1 Set up priors for evolutionary processes"
   ]
  },
  {
   "cell_type": "code",
   "execution_count": null,
   "metadata": {},
   "outputs": [],
   "source": [
    "using Turing, DynamicPPL\n",
    "using LinearAlgebra\n",
    "using LogExpFunctions \n",
    "using Plots, StatsPlots\n",
    "using Random\n",
    "\n",
    "import Base: length, eltype\n",
    "import Distributions: _rand!, logpdf\n",
    "\n",
    "Turing.setprogress!(true)\n",
    "\n",
    "struct ScaledBeta <: ContinuousUnivariateDistribution \n",
    "    be::Beta \n",
    "    function ScaledBeta(α::Real, β::Real)\n",
    "        new(Beta(α, β))\n",
    "    end\n",
    "end\n",
    "Distributions.rand(rng::AbstractRNG, d::ScaledBeta) = rand(d.be)*2 - 1\n",
    "Distributions.logpdf(d::ScaledBeta, x::Real) = logpdf(d.be, (x+1) / 2)\n",
    "\n",
    "\n",
    "struct CompetingExponential <: ContinuousMultivariateDistribution \n",
    "    ex::Exponential\n",
    "    function CompetingExponential(rate::Real)\n",
    "        new(Exponential(rate))\n",
    "    end\n",
    "end \n",
    "Base.eltype(d::CompetingExponential) = Float64 \n",
    "Base.length(d::CompetingExponential) = 2\n",
    "\n",
    "function Distributions._rand!(rng::AbstractRNG, d::CompetingExponential, x::AbstractVector{<:Real})\n",
    "    λ = rand(rng, d.ex)\n",
    "    μ = rand(rng, d.ex)\n",
    "    if λ > μ \n",
    "        tmp = λ; λ = μ; μ=tmp \n",
    "    end\n",
    "    x .= [λ, μ]\n",
    "    return x\n",
    "end\n",
    "\n",
    "function Distributions._logpdf(d::CompetingExponential, x::AbstractArray)\n",
    "    if x[1] > x[2]\n",
    "        return -Inf\n",
    "    end\n",
    "    return log(2) + logpdf(d.ex, x[1]) + logpdf(d.ex, x[2])\n",
    "end\n",
    "\n",
    "@model function tkf92_prior()\n",
    "    λμ ~ CompetingExponential(1.0)\n",
    "    λ = λμ[1]; μ = λμ[2]\n",
    "    r ~ Uniform(0.0, 1.0)\n",
    "\n",
    "    # Require birth rate lower than death rate\n",
    "    if λ > μ || λ ≤ 0 || μ ≤ 0 || r ≤ 0 || r ≥ 1\n",
    "        μ = NaN; λ = NaN\n",
    "    end\n",
    "    return λ, μ, r\n",
    "end;\n",
    "\n",
    "@model function jwndiff_prior()\n",
    "    μ ~ filldist(Uniform(-π, π), 2)\n",
    "    σ² ~ filldist(Gamma(π * 0.1), 2)\n",
    "    α ~ filldist(Gamma(π * 0.1), 2)\n",
    "    γ ~ Exponential(1.0)   # jumping rate\n",
    "    α_corr ~ ScaledBeta(3, 3)\n",
    "    \n",
    "    # Require valid covariance matrices\n",
    "    if any(σ² .≤ 0) || any(α .≤ 0) || γ ≤ 0 \n",
    "        σ² .= NaN; α .= NaN; γ = NaN\n",
    "    end\n",
    "    α_cov = α_corr * sqrt(α[1] * α[2])\n",
    "    if α_cov^2 > α[1]*α[2]\n",
    "         α_cov = NaN\n",
    "    end\n",
    "    \n",
    "    return μ[1], μ[2], sqrt(σ²[1]), sqrt(σ²[2]), α[1], α[2], α_cov, γ\n",
    "end;"
   ]
  },
  {
   "cell_type": "markdown",
   "metadata": {},
   "source": [
    "### 2.2 Set up sampler"
   ]
  },
  {
   "cell_type": "code",
   "execution_count": null,
   "metadata": {},
   "outputs": [],
   "source": [
    "torus_proposal(v) = MixtureModel([WrappedNormal(v, I), WrappedNormal(v, 20*I)], [0.8, 0.2])\n",
    "mv_rw_proposal(v::AbstractVector, cov) = MvNormal(v, cov)\n",
    "rw_proposal(x, var) = Normal(x, var)\n",
    "\n",
    "\n",
    "sampler = Gibbs(MH(:t => v -> rw_proposal(v, 0.2)),\n",
    "                MH(Symbol(\"Θ.μ\") => v -> torus_proposal(v)),\n",
    "                MH(Symbol(\"Θ.σ²\") => v -> mv_rw_proposal(v, 0.4*I)),\n",
    "                MH(Symbol(\"Θ.α\") => v -> mv_rw_proposal(v, 0.4*I)),\n",
    "                MH(Symbol(\"Θ.α_corr\") => x -> rw_proposal(x, 0.5)),\n",
    "                MH(Symbol(\"Θ.γ\") => x -> rw_proposal(x, 0.5)),\n",
    "                MH(Symbol(\"τ.λμ\") => v -> mv_rw_proposal(v, [0.4 0.1; 0.1 0.6])),\n",
    "                MH(Symbol(\"τ.r\") => x -> rw_proposal(x, 0.5))\n",
    "               );"
   ]
  },
  {
   "cell_type": "code",
   "execution_count": null,
   "metadata": {},
   "outputs": [],
   "source": [
    "using Memoization \n",
    "\n",
    "@memoize get_αs(pairs) = get_α.(Ref(TKF92([1.0], 0.2, 0.3, 0.4)), pairs)\n",
    "@memoize get_Bs(pairs) = get_B.(pairs)"
   ]
  },
  {
   "cell_type": "markdown",
   "metadata": {},
   "source": [
    "### 2.3 Prepare probabilistic model"
   ]
  },
  {
   "cell_type": "code",
   "execution_count": null,
   "metadata": {},
   "outputs": [],
   "source": [
    "using TimerOutputs\n",
    "\n",
    "@model function pair_param_inference_simple(pairs)\n",
    "    # ____________________________________________________________________________________________________\n",
    "    # Step 1 - Sample prior parameters\n",
    "    \n",
    "    # Time parameter\n",
    "    t ~ Exponential(1.0) \n",
    "    # Alignment parameters\n",
    "    @submodel prefix=\"τ\" Λ = tkf92_prior()\n",
    "    # Dihedral parameters \n",
    "    @submodel prefix=\"Θ\" Ξ = jwndiff_prior()\n",
    "    # Check parameter validity \n",
    "    if t ≤ 0 || any(isnan.(Ξ)) || any(isnan.(Λ))\n",
    "        Turing.@addlogprob! -Inf; return\n",
    "    end\n",
    "    \n",
    "    # ____________________________________________________________________________________________________\n",
    "    # Step 2 - Construct processes \n",
    "    \n",
    "    # Substitution Process - no parameters for simplicity, use fully empirical model\n",
    "    S = WAG_SubstitutionProcess()\n",
    "    # Dihedral Process\n",
    "    Θ = JumpingWrappedDiffusion(Ξ...)\n",
    "    # Joint sequence-structure site level process with one regime\n",
    "    ξ = MixtureProductProcess([1.0], hcat([S, Θ]))\n",
    "    \n",
    "    # Alignment model\n",
    "    τ = TKF92([t], Λ...)\n",
    "    \n",
    "    # Chain level model\n",
    "    Γ = ChainJointDistribution(ξ, τ)\n",
    "    \n",
    "    # ____________________________________________________________________________________________________\n",
    "    # Step 3 - Observe each pair X, Y by proxy of their joint probability, marginalising over alignments\n",
    "    α = get_αs(pairs)\n",
    "    B = get_Bs(pairs)\n",
    "    for i ∈ eachindex(pairs)\n",
    "        X, Y = pairs[i]\n",
    "        # (X, Y) ~ ChainJointDistribution(ξ, τ)\n",
    "        fulljointlogpdf!(B[i], ξ, t, X, Y)\n",
    "        Turing.@addlogprob! logpdfαB!(α[i], B[i], Γ, (X, Y))\n",
    "    end\n",
    "        \n",
    "    return Γ\n",
    "end;"
   ]
  },
  {
   "cell_type": "markdown",
   "metadata": {},
   "source": [
    "### 2.4 Sample from the model and check results"
   ]
  },
  {
   "cell_type": "code",
   "execution_count": null,
   "metadata": {},
   "outputs": [],
   "source": [
    "num_samples = 200\n",
    "num_chains = 3\n",
    "model = pair_param_inference_simple(simulated_data)"
   ]
  },
  {
   "cell_type": "code",
   "execution_count": null,
   "metadata": {},
   "outputs": [],
   "source": [
    "chain = sample(model, sampler, MCMCThreads(), num_samples, num_chains)\n",
    "p = plot(chain, fontfamily=\"JuliaMono\")"
   ]
  },
  {
   "cell_type": "code",
   "execution_count": null,
   "metadata": {},
   "outputs": [],
   "source": [
    "chain"
   ]
  },
  {
   "cell_type": "code",
   "execution_count": null,
   "metadata": {},
   "outputs": [],
   "source": []
  }
 ],
 "metadata": {
  "kernelspec": {
   "display_name": "Julia 1.9.0-rc2",
   "language": "julia",
   "name": "julia-1.9"
  },
  "language_info": {
   "file_extension": ".jl",
   "mimetype": "application/julia",
   "name": "julia",
   "version": "1.9.0"
  }
 },
 "nbformat": 4,
 "nbformat_minor": 2
}
