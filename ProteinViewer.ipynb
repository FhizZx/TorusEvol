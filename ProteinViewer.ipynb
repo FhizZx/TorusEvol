{
 "cells": [
  {
   "cell_type": "code",
   "execution_count": 1,
   "metadata": {},
   "outputs": [
    {
     "data": {
      "application/vnd.jupyter.widget-view+json": {
       "model_id": "5c7b2f8e3a274d1c89c6ce833bbaac71",
       "version_major": 2,
       "version_minor": 0
      },
      "text/plain": [
       "A Jupyter Widget"
      ]
     },
     "metadata": {},
     "output_type": "display_data"
    },
    {
     "name": "stdout",
     "output_type": "stream",
     "text": [
      "<Chain id=A>\n"
     ]
    },
    {
     "ename": "ValueError",
     "evalue": "I/O operation on closed file",
     "output_type": "error",
     "traceback": [
      "\u001b[1;31m---------------------------------------------------------------------------\u001b[0m",
      "\u001b[1;31mValueError\u001b[0m                                Traceback (most recent call last)",
      "Cell \u001b[1;32mIn [1], line 11\u001b[0m\n\u001b[0;32m      8\u001b[0m chain \u001b[39m=\u001b[39m \u001b[39mlist\u001b[39m(structure\u001b[39m.\u001b[39mget_chains())[\u001b[39m0\u001b[39m]\n\u001b[0;32m      9\u001b[0m \u001b[39mprint\u001b[39m(chain)\n\u001b[1;32m---> 11\u001b[0m nv\u001b[39m.\u001b[39;49mshow_biopython(structure)\n",
      "File \u001b[1;32mc:\\Users\\stefa\\Dropbox\\Jotun Hein - Part C Projects\\Manolache\\Code\\Evolutionary Toroidal Difussions\\TorusEvol\\.venv\\lib\\site-packages\\nglview\\show.py:452\u001b[0m, in \u001b[0;36mshow_biopython\u001b[1;34m(entity, **kwargs)\u001b[0m\n\u001b[0;32m    437\u001b[0m \u001b[39m'''Show NGL widget with Biopython structural entity.\u001b[39;00m\n\u001b[0;32m    438\u001b[0m \n\u001b[0;32m    439\u001b[0m \u001b[39mTakes a Structure, Model, Chain, Residue or Atom\u001b[39;00m\n\u001b[1;32m   (...)\u001b[0m\n\u001b[0;32m    449\u001b[0m \u001b[39m... w\u001b[39;00m\n\u001b[0;32m    450\u001b[0m \u001b[39m'''\u001b[39;00m\n\u001b[0;32m    451\u001b[0m entity \u001b[39m=\u001b[39m BiopythonStructure(entity)\n\u001b[1;32m--> 452\u001b[0m \u001b[39mreturn\u001b[39;00m NGLWidget(entity, \u001b[39m*\u001b[39m\u001b[39m*\u001b[39mkwargs)\n",
      "File \u001b[1;32mc:\\Users\\stefa\\Dropbox\\Jotun Hein - Part C Projects\\Manolache\\Code\\Evolutionary Toroidal Difussions\\TorusEvol\\.venv\\lib\\site-packages\\nglview\\widget.py:245\u001b[0m, in \u001b[0;36mNGLWidget.__init__\u001b[1;34m(self, structure, representations, parameters, **kwargs)\u001b[0m\n\u001b[0;32m    243\u001b[0m \u001b[39melse\u001b[39;00m:\n\u001b[0;32m    244\u001b[0m     \u001b[39mif\u001b[39;00m structure \u001b[39mis\u001b[39;00m \u001b[39mnot\u001b[39;00m \u001b[39mNone\u001b[39;00m:\n\u001b[1;32m--> 245\u001b[0m         \u001b[39mself\u001b[39m\u001b[39m.\u001b[39madd_structure(structure, \u001b[39m*\u001b[39m\u001b[39m*\u001b[39mkwargs)\n\u001b[0;32m    247\u001b[0m \u001b[39mif\u001b[39;00m representations:\n\u001b[0;32m    248\u001b[0m     \u001b[39m# If initial representations are provided,\u001b[39;00m\n\u001b[0;32m    249\u001b[0m     \u001b[39m# we need to set defaultRepresentation to False\u001b[39;00m\n\u001b[0;32m    250\u001b[0m     \u001b[39mself\u001b[39m\u001b[39m.\u001b[39mrepresentations \u001b[39m=\u001b[39m representations\n",
      "File \u001b[1;32mc:\\Users\\stefa\\Dropbox\\Jotun Hein - Part C Projects\\Manolache\\Code\\Evolutionary Toroidal Difussions\\TorusEvol\\.venv\\lib\\site-packages\\nglview\\widget.py:1113\u001b[0m, in \u001b[0;36mNGLWidget.add_structure\u001b[1;34m(self, structure, **kwargs)\u001b[0m\n\u001b[0;32m   1111\u001b[0m \u001b[39mif\u001b[39;00m \u001b[39mnot\u001b[39;00m \u001b[39misinstance\u001b[39m(structure, Structure):\n\u001b[0;32m   1112\u001b[0m     \u001b[39mraise\u001b[39;00m \u001b[39mValueError\u001b[39;00m(\u001b[39mf\u001b[39m\u001b[39m'\u001b[39m\u001b[39m{\u001b[39;00mstructure\u001b[39m}\u001b[39;00m\u001b[39m is not an instance of Structure\u001b[39m\u001b[39m'\u001b[39m)\n\u001b[1;32m-> 1113\u001b[0m \u001b[39mself\u001b[39m\u001b[39m.\u001b[39m_load_data(structure, \u001b[39m*\u001b[39m\u001b[39m*\u001b[39mkwargs)\n\u001b[0;32m   1114\u001b[0m \u001b[39mself\u001b[39m\u001b[39m.\u001b[39m_ngl_component_ids\u001b[39m.\u001b[39mappend(structure\u001b[39m.\u001b[39mid)\n\u001b[0;32m   1115\u001b[0m \u001b[39mif\u001b[39;00m \u001b[39mself\u001b[39m\u001b[39m.\u001b[39mn_components \u001b[39m>\u001b[39m \u001b[39m1\u001b[39m:\n",
      "File \u001b[1;32mc:\\Users\\stefa\\Dropbox\\Jotun Hein - Part C Projects\\Manolache\\Code\\Evolutionary Toroidal Difussions\\TorusEvol\\.venv\\lib\\site-packages\\nglview\\widget.py:1231\u001b[0m, in \u001b[0;36mNGLWidget._load_data\u001b[1;34m(self, obj, **kwargs)\u001b[0m\n\u001b[0;32m   1229\u001b[0m \u001b[39mif\u001b[39;00m \u001b[39mnot\u001b[39;00m is_url:\n\u001b[0;32m   1230\u001b[0m     \u001b[39mif\u001b[39;00m \u001b[39mhasattr\u001b[39m(obj, \u001b[39m'\u001b[39m\u001b[39mget_structure_string\u001b[39m\u001b[39m'\u001b[39m):\n\u001b[1;32m-> 1231\u001b[0m         blob \u001b[39m=\u001b[39m obj\u001b[39m.\u001b[39;49mget_structure_string()\n\u001b[0;32m   1232\u001b[0m         kwargs2[\u001b[39m'\u001b[39m\u001b[39mext\u001b[39m\u001b[39m'\u001b[39m] \u001b[39m=\u001b[39m obj\u001b[39m.\u001b[39mext\n\u001b[0;32m   1233\u001b[0m         passing_buffer \u001b[39m=\u001b[39m \u001b[39mTrue\u001b[39;00m\n",
      "File \u001b[1;32mc:\\Users\\stefa\\Dropbox\\Jotun Hein - Part C Projects\\Manolache\\Code\\Evolutionary Toroidal Difussions\\TorusEvol\\.venv\\lib\\site-packages\\nglview\\adaptor.py:200\u001b[0m, in \u001b[0;36mBiopythonStructure.get_structure_string\u001b[1;34m(self)\u001b[0m\n\u001b[0;32m    198\u001b[0m io_str \u001b[39m=\u001b[39m StringIO()\n\u001b[0;32m    199\u001b[0m io_pdb\u001b[39m.\u001b[39msave(io_str)\n\u001b[1;32m--> 200\u001b[0m \u001b[39mreturn\u001b[39;00m io_str\u001b[39m.\u001b[39;49mgetvalue()\n",
      "\u001b[1;31mValueError\u001b[0m: I/O operation on closed file"
     ]
    }
   ],
   "source": [
    "import nglview as nv\n",
    "from Bio.PDB import PDBParser\n",
    "\n",
    "parser = PDBParser()\n",
    "\n",
    "with open(\"data/m1A3N.pdb\") as handle:\n",
    "    record = next(SeqIO.parse(handle, \"fasta\"))\n",
    "    human_a = record.seq\n",
    "    print(human_a)\n",
    "structure = parser.get_structure(\"m1A3N\", \"m1A3N.pdb\")\n",
    "\n",
    "chain = list(structure.get_chains())[0]\n",
    "print(chain)\n",
    "\n",
    "nv.show_biopython(structure)\n",
    "\n"
   ]
  },
  {
   "cell_type": "code",
   "execution_count": 10,
   "metadata": {},
   "outputs": [],
   "source": [
    "import nglview as nv\n",
    "\n",
    "\n",
    "w = nv.show_structure_file(\"output/n1A3N.pdb\")\n",
    "w.clear()\n",
    "w.add_representation(\"backbone\")\n",
    "\n",
    "for i in range(10):\n",
    "    if i % 2 == 0:\n",
    "        w = nv.show_structure_file(\"output/n1A3N.pdb\")\n",
    "    else:\n",
    "        w = nv.show_structure_file(\"output/m1A3N.pdb\")\n",
    "    w.clear()\n",
    "    w.add_representation(\"backbone\")\n",
    "    w"
   ]
  },
  {
   "cell_type": "code",
   "execution_count": 12,
   "metadata": {},
   "outputs": [
    {
     "data": {
      "application/vnd.jupyter.widget-view+json": {
       "model_id": "abbeed12461a445698b89c1caa5e72ec",
       "version_major": 2,
       "version_minor": 0
      },
      "text/plain": [
       "A Jupyter Widget"
      ]
     },
     "metadata": {},
     "output_type": "display_data"
    }
   ],
   "source": [
    "u = nv.show_structure_file(\"output/n1A3N.pdb\")\n",
    "u"
   ]
  },
  {
   "cell_type": "code",
   "execution_count": null,
   "metadata": {},
   "outputs": [],
   "source": []
  }
 ],
 "metadata": {
  "kernelspec": {
   "display_name": "Python 3.9.6 ('.venv': venv)",
   "language": "python",
   "name": "python3"
  },
  "language_info": {
   "codemirror_mode": {
    "name": "ipython",
    "version": 3
   },
   "file_extension": ".py",
   "mimetype": "text/x-python",
   "name": "python",
   "nbconvert_exporter": "python",
   "pygments_lexer": "ipython3",
   "version": "3.9.6 (tags/v3.9.6:db3ff76, Jun 28 2021, 15:26:21) [MSC v.1929 64 bit (AMD64)]"
  },
  "orig_nbformat": 4,
  "vscode": {
   "interpreter": {
    "hash": "9f23c5b2d7923a9bf6ddcca76ea127105863b859cb6fc4879d608de940540fb9"
   }
  }
 },
 "nbformat": 4,
 "nbformat_minor": 2
}
