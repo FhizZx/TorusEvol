{
 "cells": [
  {
   "cell_type": "code",
   "execution_count": null,
   "metadata": {},
   "outputs": [],
   "source": [
    "import nglview as nv\n",
    "import time\n",
    "import threading\n",
    "import os\n",
    "from IPython.display import display, clear_output\n",
    "\n",
    "def save_image(name):\n",
    "    img = view[name].render_image()\n",
    "    while not img.value:\n",
    "        time.sleep(0.1)\n",
    "    # insert your code here to do something with img.value\n",
    "    # You don’t need to save to disk and read the value again\n",
    "    with open(\"./images/evol/\"+os.path.splitext(name)[0] + \".png\", \"wb\") as f:\n",
    "        f.write(img.value)\n",
    "\n",
    "files = os.listdir(\"./output/evol\")\n",
    "view = dict()\n",
    "thread = dict()\n",
    "n = len(files)\n",
    "ranges=[slice(5*i, 5*(i+1)) for i in range(int(n/5))]\n",
    "\n",
    "for name in files[ranges[60]]:\n",
    "    print(name)\n",
    "    view[name] = nv.show_file(\"output/evol/\"+name)\n",
    "    thread[name] = threading.Thread(target=save_image, args=(name, ), daemon=False)\n",
    "    thread[name].start()\n",
    "    display(view[name])"
   ]
  },
  {
   "cell_type": "code",
   "execution_count": null,
   "metadata": {},
   "outputs": [],
   "source": [
    "import imageio\n",
    "import os\n",
    "images = []\n",
    "\n",
    "files = os.listdir(\"./images/evol\")\n",
    "for name in files:\n",
    "    images.append(imageio.imread(\"./images/evol/\"+name))\n",
    "imageio.mimsave('./images/evolution.gif', images)"
   ]
  },
  {
   "cell_type": "code",
   "execution_count": 8,
   "metadata": {},
   "outputs": [
    {
     "data": {
      "text/plain": [
       "<PDBReader ./output/struc.pdb with 101 frames of 563 atoms>"
      ]
     },
     "execution_count": 8,
     "metadata": {},
     "output_type": "execute_result"
    }
   ],
   "source": [
    "import MDAnalysis\n",
    "from MDAnalysis.coordinates.PDB import PDBReader\n",
    "\n",
    "traj = PDBReader(\"./output/struc.pdb\")\n",
    "traj\n"
   ]
  }
 ],
 "metadata": {
  "kernelspec": {
   "display_name": ".venv",
   "language": "python",
   "name": "python3"
  },
  "language_info": {
   "codemirror_mode": {
    "name": "ipython",
    "version": 3
   },
   "file_extension": ".py",
   "mimetype": "text/x-python",
   "name": "python",
   "nbconvert_exporter": "python",
   "pygments_lexer": "ipython3",
   "version": "3.9.6"
  },
  "orig_nbformat": 4
 },
 "nbformat": 4,
 "nbformat_minor": 2
}
