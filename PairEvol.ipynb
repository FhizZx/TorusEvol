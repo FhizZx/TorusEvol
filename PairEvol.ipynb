{
 "cells": [
  {
   "cell_type": "markdown",
   "metadata": {},
   "source": [
    "## 1. Load Data"
   ]
  },
  {
   "cell_type": "code",
   "execution_count": 8,
   "metadata": {
    "scrolled": false
   },
   "outputs": [
    {
     "name": "stderr",
     "output_type": "stream",
     "text": [
      "\u001b[36m\u001b[1m[ \u001b[22m\u001b[39m\u001b[36m\u001b[1mInfo: \u001b[22m\u001b[39mFile exists: 1A3N\n",
      "\u001b[36m\u001b[1m[ \u001b[22m\u001b[39m\u001b[36m\u001b[1mInfo: \u001b[22m\u001b[39mFile exists: 1MBN\n"
     ]
    },
    {
     "data": {
      "text/plain": [
       "ObservedData(\n",
       "num sites: 153\n",
       "num coords: 1\n",
       ")"
      ]
     },
     "execution_count": 8,
     "metadata": {},
     "output_type": "execute_result"
    }
   ],
   "source": [
    "using TorusEvol\n",
    "using Distributions\n",
    "using TimerOutputs\n",
    "\n",
    "chainX = from_pdb(\"1A3N\", \"A\")\n",
    "chainY = from_pdb(\"1MBN\", \"A\")\n",
    "X = data(chainX)\n",
    "Y = data(chainY)\n",
    "\n",
    "data(X)[2][isnan.(data(X)[2])] .= 0.0\n",
    "data(Y)[2][isnan.(data(Y)[2])] .= 0.0\n",
    "\n",
    "my_diff = jumping(WrappedDiffusion(-1.0, -0.8, 0.1, 0.1, 1.0, 1.0, 0.2), 10.0)\n",
    "my_diff2 = jumping(WrappedDiffusion(-1.0, -0.8, 2.0, 2.0, 1.0, 1.0, 0.1), 10.0)\n",
    "\n",
    "w = WAG_SubstitutionProcess\n",
    "processes = [w w; my_diff my_diff2]\n",
    "weights = [0.8, 0.2]\n",
    "ξ = MixtureProductProcess(weights, processes)\n",
    "\n",
    "t = 1.58\n",
    "λ = 0.03; μ = 0.032; r = 0.3\n",
    "align_model = TKF92([t], λ, μ, r)\n",
    "pair_hmm = PairDataHMM(align_model, num_sites(X), num_sites(Y));\n",
    "X = slice(X, :, 1:1)\n",
    "Y = slice(Y, :, 1:1)"
   ]
  },
  {
   "cell_type": "markdown",
   "metadata": {},
   "source": [
    "## 2. Inference Model"
   ]
  },
  {
   "cell_type": "code",
   "execution_count": 9,
   "metadata": {},
   "outputs": [
    {
     "name": "stderr",
     "output_type": "stream",
     "text": [
      "\u001b[36m\u001b[1m[ \u001b[22m\u001b[39m\u001b[36m\u001b[1mInfo: \u001b[22m\u001b[39m[Turing]: progress logging is enabled globally\n",
      "\u001b[36m\u001b[1m[ \u001b[22m\u001b[39m\u001b[36m\u001b[1mInfo: \u001b[22m\u001b[39m[AdvancedVI]: global PROGRESS is set as true\n"
     ]
    },
    {
     "data": {
      "text/plain": [
       "pair_param_inference (generic function with 2 methods)"
      ]
     },
     "execution_count": 9,
     "metadata": {},
     "output_type": "execute_result"
    }
   ],
   "source": [
    "using Turing \n",
    "using ReverseDiff\n",
    "#Turing.setadbackend(:reversediff)\n",
    "Turing.setrdcache(true)\n",
    "Turing.setadbackend(:forwarddiff)\n",
    "Turing.setprogress!(true)\n",
    "\n",
    "@model function pair_param_inference(X, Y; E=1)\n",
    "    # Sample branch length a.k.a. time\n",
    "    t ~ Exponential(1.0)\n",
    "    \n",
    "    \n",
    "    # Sample alignment parameters \n",
    "    # todo - do this in a stand-alone submodel\n",
    "    #λ_a ~ Exponential(0.01)\n",
    "    λ_a ~ Uniform(0, 1.0)\n",
    "    #seq_length ~ Exponential(100)\n",
    "    seq_inv_length = 1 / 145\n",
    "    μ_a = (seq_inv_length+1) * λ_a\n",
    "    r_a ~ Uniform(0,1)\n",
    "    align_model = TKF92([t], λ_a, μ_a, r_a)\n",
    "    \n",
    "    \n",
    "    # Sample site-level evolutionary processes \n",
    "    \n",
    "    # Sample the weight of each regime\n",
    "    #proc_weights ~ Dirichlet(E, 1.0)\n",
    "    proc_weights=[1.0]\n",
    "    \n",
    "    # Sample aminoacid substitution parameters\n",
    "    # todo - construct custom substitution process\n",
    "    sub_procs = reshape(fill(WAG_SubstitutionProcess, E), 1, E)\n",
    "    \n",
    "    # Sample dihedral angle evolution parameters\n",
    "    #todo - do this in a stand-alone submodel\n",
    "    μ_𝜙 = Vector(undef, E); μ_𝜓 = Vector(undef, E)\n",
    "    σ_𝜙 = Vector(undef, E); σ_𝜓 = Vector(undef, E)\n",
    "    for e ∈ 1:E \n",
    "        pp = 0\n",
    "        #μ_𝜙[e] ~ Uniform(-π, π)\n",
    "        #μ_𝜓[e] ~ Uniform(-π, π)\n",
    "        #σ_𝜙[e] ~ Exponential(0.5)\n",
    "        #σ_𝜓[e] ~ Exponential(0.5)\n",
    "    end\n",
    "    μ_𝜙 = fill(0.3, E); μ_𝜓 = fill(0.3, E)\n",
    "    σ_𝜙 = fill(0.3, E); σ_𝜓 = fill(0.3, E)\n",
    "    α_𝜙 = fill(1.0, E); α_𝜙 = fill(1.0, E); α_cov = fill(0.1, E)\n",
    "    γ = fill(20.0, E)\n",
    "    #diff_procs = reshape(jumping.(WrappedDiffusion.(μ_𝜙, μ_𝜓, σ_𝜙, σ_𝜓, α_𝜙, α_𝜙, α_cov), γ), 1, E)\n",
    "    diff_procs = reshape(WrappedDiffusion.(μ_𝜙, μ_𝜓, σ_𝜙, σ_𝜓, α_𝜙, α_𝜙, α_cov), 1, E)\n",
    "            \n",
    "    # Construct mixture product process\n",
    "    #ξ = MixtureProductProcess(proc_weights, vcat(sub_procs, diff_procs))\n",
    "    ξ = MixtureProductProcess(proc_weights, sub_procs)\n",
    "\n",
    "    # Observe X, Y by proxy of their joint probabilities \n",
    "    emission_lps = fulllogpdf(ξ, t, X, Y)\n",
    "    pair_hmm = PairDataHMM(align_model, num_sites(X), num_sites(Y))\n",
    "    Turing.@addlogprob! logpdf(pair_hmm, emission_lps)\n",
    "end"
   ]
  },
  {
   "cell_type": "code",
   "execution_count": null,
   "metadata": {},
   "outputs": [
    {
     "name": "stderr",
     "output_type": "stream",
     "text": [
      "\u001b[32mSampling:  30%|████████████▎                            |  ETA: 0:01:18\u001b[39m"
     ]
    }
   ],
   "source": [
    "using TorusEvol\n",
    "using StatsPlots\n",
    "\n",
    "model = pair_param_inference(X, Y)\n",
    "alg = Gibbs(HMC(0.1, 5, :t), HMC(0.03, 10, :λ_a), HMC(0.2, 5, :μ_𝜙), HMC(0.2, 5, :μ_𝜓),\n",
    "            HMC(0.03, 5, :r_a))\n",
    "\n",
    "hmc1 = Gibbs(HMC(0.1, 5, :t), HMC(0.03, 5, :r_a), HMC(0.03, 5, :λ_a))\n",
    "mh1 = Gibbs(MH(:t), MH(:μ_𝜙), MH(:μ_𝜓))\n",
    "        \n",
    "algmh = Gibbs(MH(:t), MH(:λ_a), MH(:μ_𝜙), MH(:μ_𝜓), MH(:r_a))\n",
    "numsamples = 10\n",
    "reset_timer!(to)\n",
    "ch = sample(model, hmc1, numsamples)"
   ]
  },
  {
   "cell_type": "code",
   "execution_count": 4,
   "metadata": {},
   "outputs": [
    {
     "name": "stdout",
     "output_type": "stream",
     "text": [
      "\u001b[0m\u001b[1m ────────────────────────────────────────────────────────────────────────\u001b[22m\n",
      "\u001b[0m\u001b[1m                       \u001b[22m         Time                    Allocations      \n",
      "                       ───────────────────────   ────────────────────────\n",
      "   Tot / % measured:        77.4s /  16.6%           10.5GiB /  19.1%    \n",
      "\n",
      " Section       ncalls     time    %tot     avg     alloc    %tot      avg\n",
      " ────────────────────────────────────────────────────────────────────────\n",
      " jointlogpdf       19    9.27s   72.1%   488ms   1.41GiB   70.6%  76.1MiB\n",
      " statlogpdf        38    3.00s   23.3%  78.8ms    542MiB   26.5%  14.3MiB\n",
      " logsumexp α    1.57M    488ms    3.8%   311ns   50.7MiB    2.5%    33.9B\n",
      " logsumexp         57    103ms    0.8%  1.81ms   8.81MiB    0.4%   158KiB\n",
      "\u001b[0m\u001b[1m ────────────────────────────────────────────────────────────────────────\u001b[22m"
     ]
    }
   ],
   "source": [
    "print(to)"
   ]
  },
  {
   "cell_type": "code",
   "execution_count": 5,
   "metadata": {},
   "outputs": [
    {
     "ename": "LoadError",
     "evalue": "UndefVarError: `ch` not defined",
     "output_type": "error",
     "traceback": [
      "UndefVarError: `ch` not defined",
      "",
      "Stacktrace:",
      " [1] top-level scope",
      "   @ In[5]:1"
     ]
    }
   ],
   "source": [
    "p = plot(ch, fontfamily=\"JuliaMono\")\n",
    "#savefig(p, \"images/pairinfer2mh.svg\")"
   ]
  },
  {
   "cell_type": "code",
   "execution_count": 6,
   "metadata": {},
   "outputs": [
    {
     "ename": "LoadError",
     "evalue": "UndefVarError: `ch` not defined",
     "output_type": "error",
     "traceback": [
      "UndefVarError: `ch` not defined",
      "",
      "Stacktrace:",
      " [1] top-level scope",
      "   @ In[6]:1"
     ]
    }
   ],
   "source": [
    "p = plot(get(ch, :lp).lp, xlabel=\"Iterations\", label=\"Sequence joint log probability\")\n",
    "#savefig(p, \"images/pairinferlp2mh.svg\")"
   ]
  }
 ],
 "metadata": {
  "kernelspec": {
   "display_name": "Julia 1.9.0-rc2",
   "language": "julia",
   "name": "julia-1.9"
  },
  "language_info": {
   "file_extension": ".jl",
   "mimetype": "application/julia",
   "name": "julia",
   "version": "1.9.0"
  }
 },
 "nbformat": 4,
 "nbformat_minor": 2
}
