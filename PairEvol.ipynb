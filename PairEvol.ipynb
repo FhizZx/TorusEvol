{
 "cells": [
  {
   "cell_type": "markdown",
   "metadata": {},
   "source": [
    "## 1. Load Data"
   ]
  },
  {
   "cell_type": "code",
   "execution_count": 1,
   "metadata": {},
   "outputs": [
    {
     "ename": "LoadError",
     "evalue": "SystemError: opening file \"C:\\\\Users\\\\stefa\\\\Dropbox\\\\Jotun Hein - Part C Projects\\\\Manolache\\\\Code\\\\Evolutionary Toroidal Difussions\\\\TorusEvol\\\\src\\\\model\\\\Polypeptide.jl\": No such file or directory",
     "output_type": "error",
     "traceback": [
      "SystemError: opening file \"C:\\\\Users\\\\stefa\\\\Dropbox\\\\Jotun Hein - Part C Projects\\\\Manolache\\\\Code\\\\Evolutionary Toroidal Difussions\\\\TorusEvol\\\\src\\\\model\\\\Polypeptide.jl\": No such file or directory",
      "",
      "Stacktrace:",
      "  [1] systemerror(p::String, errno::Int32; extrainfo::Nothing)",
      "    @ Base .\\error.jl:176",
      "  [2] #systemerror#82",
      "    @ .\\error.jl:175 [inlined]",
      "  [3] systemerror",
      "    @ .\\error.jl:175 [inlined]",
      "  [4] open(fname::String; lock::Bool, read::Nothing, write::Nothing, create::Nothing, truncate::Nothing, append::Nothing)",
      "    @ Base .\\iostream.jl:293",
      "  [5] open",
      "    @ .\\iostream.jl:275 [inlined]",
      "  [6] open(f::Base.var\"#418#419\"{String}, args::String; kwargs::Base.Pairs{Symbol, Union{}, Tuple{}, NamedTuple{(), Tuple{}}})",
      "    @ Base .\\io.jl:393",
      "  [7] open",
      "    @ .\\io.jl:392 [inlined]",
      "  [8] read",
      "    @ .\\io.jl:473 [inlined]",
      "  [9] _include(mapexpr::Function, mod::Module, _path::String)",
      "    @ Base .\\loading.jl:1922",
      " [10] include(fname::String)",
      "    @ Base.MainInclude .\\client.jl:478",
      " [11] top-level scope",
      "    @ In[1]:1"
     ]
    }
   ],
   "source": [
    "include(\"src/model/Polypeptide.jl\")\n",
    "\n",
    "X = from_pdb(\"1A3N\", \"A\")\n",
    "Y = from_pdb(\"1A3N\", \"B\")\n",
    "render_aligned(X, Y)"
   ]
  },
  {
   "cell_type": "markdown",
   "metadata": {},
   "source": [
    "## 2. Prepare Evolutionary Regimes"
   ]
  },
  {
   "cell_type": "code",
   "execution_count": null,
   "metadata": {},
   "outputs": [],
   "source": [
    "include(\"src/distributions/WrappedNormal.jl\")\n",
    "include(\"src/distributions/WrappedDiffusion.jl\")\n",
    "\n",
    "diff = WrappedDiffusion([0.0, 1.0], 1.0, 1.0, 4.0, 1.0, 1.0)\n",
    "t = 1.0\n",
    "x = rand(statdist(diff), 200)\n",
    "y = rand.(transdist.(Ref(diff), Ref(t), eachcol(x)))"
   ]
  },
  {
   "cell_type": "code",
   "execution_count": 199,
   "metadata": {},
   "outputs": [
    {
     "data": {
      "text/plain": [
       "2×200000 Matrix{Float64}:\n",
       " -0.629356   0.440885  -0.37218   0.312746  …  0.820192  0.573438  0.318079\n",
       "  0.285451  -0.506242   1.72645  -0.203946     1.86111   0.839222  0.224563"
      ]
     },
     "execution_count": 199,
     "metadata": {},
     "output_type": "execute_result"
    }
   ],
   "source": [
    "y"
   ]
  },
  {
   "cell_type": "code",
   "execution_count": 200,
   "metadata": {},
   "outputs": [
    {
     "data": {
      "text/plain": [
       "fun (generic function with 2 methods)"
      ]
     },
     "execution_count": 200,
     "metadata": {},
     "output_type": "execute_result"
    }
   ],
   "source": [
    "using Turing\n",
    "\n",
    "@model function wnn(x)\n",
    "    mean ~ filldist(Uniform(-π, π), 2)\n",
    "    var ~ filldist(Exponential(1), 4)\n",
    "    Θ = (mean, var..., 0.0)\n",
    "    diff = WrappedDiffusion(Θ...)\n",
    "    Threads.@threads for i ∈ axes(x, 2)\n",
    "        x[:,i] .~ statdist(diff)\n",
    "    end\n",
    "end\n",
    "\n",
    "@model function fun(x, y)\n",
    "    t ~ Exponential(1)\n",
    "    mean ~ filldist(Uniform(-π, π), 2)\n",
    "    var ~ filldist(Exponential(1), 4)\n",
    "    Θ = (mean, var..., 0.0)\n",
    "    diff = WrappedDiffusion(Θ...)\n",
    "\n",
    "    Threads.@threads for i ∈ axes(x, 2)\n",
    "        x[:,i] .~ statdist(diff)\n",
    "        y[:,i] .~ transdist(diff, t, x[:, i])\n",
    "    end\n",
    "\n",
    "end"
   ]
  },
  {
   "cell_type": "code",
   "execution_count": null,
   "metadata": {},
   "outputs": [],
   "source": [
    "alg = HMC(0.05, 10, :mean, :var)\n",
    "l=10\n",
    "model = wnn(x[:, 1:l])\n",
    "num_samples = 10\n",
    "chain = sample(model, alg, num_samples)"
   ]
  },
  {
   "cell_type": "code",
   "execution_count": null,
   "metadata": {},
   "outputs": [],
   "source": []
  }
 ],
 "metadata": {
  "kernelspec": {
   "display_name": "Julia 1.9.0-rc2",
   "language": "julia",
   "name": "julia-1.9"
  },
  "language_info": {
   "file_extension": ".jl",
   "mimetype": "application/julia",
   "name": "julia",
   "version": "1.9.0"
  }
 },
 "nbformat": 4,
 "nbformat_minor": 2
}
