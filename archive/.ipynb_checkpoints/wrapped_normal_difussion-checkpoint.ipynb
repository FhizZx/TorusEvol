{
 "cells": [
  {
   "cell_type": "markdown",
   "id": "2848b1e0",
   "metadata": {},
   "source": [
    "#### Quick attempt at implementing Toroidal Diffusions"
   ]
  },
  {
   "cell_type": "code",
   "execution_count": 4,
   "id": "e882e5ee",
   "metadata": {},
   "outputs": [],
   "source": [
    "using Turing"
   ]
  },
  {
   "cell_type": "code",
   "execution_count": null,
   "id": "9fc19a2f",
   "metadata": {},
   "outputs": [],
   "source": []
  }
 ],
 "metadata": {
  "kernelspec": {
   "display_name": "Julia 1.8.1",
   "language": "julia",
   "name": "julia-1.8"
  },
  "language_info": {
   "file_extension": ".jl",
   "mimetype": "application/julia",
   "name": "julia",
   "version": "1.8.1"
  }
 },
 "nbformat": 4,
 "nbformat_minor": 5
}
