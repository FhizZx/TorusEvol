{
 "cells": [
  {
   "cell_type": "code",
   "execution_count": 1,
   "id": "25f2c208",
   "metadata": {},
   "outputs": [],
   "source": [
    "using Turing, StatsPlots, Random"
   ]
  },
  {
   "cell_type": "code",
   "execution_count": 2,
   "id": "59072d5d",
   "metadata": {},
   "outputs": [
    {
     "name": "stderr",
     "output_type": "stream",
     "text": [
      "┌ Info: [Turing]: progress logging is disabled globally\n",
      "└ @ Turing D:\\Programs\\julia_depot\\packages\\Turing\\dl9my\\src\\Turing.jl:23\n",
      "┌ Info: [AdvancedVI]: global PROGRESS is set as false\n",
      "└ @ AdvancedVI D:\\Programs\\julia_depot\\packages\\AdvancedVI\\hVQ2g\\src\\AdvancedVI.jl:15\n"
     ]
    },
    {
     "data": {
      "text/plain": [
       "false"
      ]
     },
     "execution_count": 2,
     "metadata": {},
     "output_type": "execute_result"
    }
   ],
   "source": [
    "Turing.setprogress!(false)"
   ]
  },
  {
   "cell_type": "code",
   "execution_count": 3,
   "id": "8b7d1cc8",
   "metadata": {},
   "outputs": [
    {
     "data": {
      "text/plain": [
       "TaskLocalRNG()"
      ]
     },
     "execution_count": 3,
     "metadata": {},
     "output_type": "execute_result"
    }
   ],
   "source": [
    "Random.seed!(12112022)"
   ]
  },
  {
   "cell_type": "code",
   "execution_count": 4,
   "id": "b5a0d3f4",
   "metadata": {},
   "outputs": [
    {
     "data": {
      "text/plain": [
       "41-element Vector{Int64}:\n",
       " 8\n",
       " 0\n",
       " 2\n",
       " 4\n",
       " 6\n",
       " 9\n",
       " 2\n",
       " 5\n",
       " 9\n",
       " 3\n",
       " 7\n",
       " 1\n",
       " 6\n",
       " ⋮\n",
       " 0\n",
       " 0\n",
       " 0\n",
       " 0\n",
       " 1\n",
       " 2\n",
       " 3\n",
       " 5\n",
       " 7\n",
       " 9\n",
       " 1\n",
       " 4"
      ]
     },
     "execution_count": 4,
     "metadata": {},
     "output_type": "execute_result"
    }
   ],
   "source": [
    "y = [(n^2 ÷ 7) % 10 for n=2700:2740]"
   ]
  },
  {
   "cell_type": "code",
   "execution_count": 5,
   "id": "c88c4958",
   "metadata": {},
   "outputs": [
    {
     "data": {
      "text/plain": [
       "10"
      ]
     },
     "execution_count": 5,
     "metadata": {},
     "output_type": "execute_result"
    }
   ],
   "source": [
    "N = length(y)\n",
    "K = 10"
   ]
  },
  {
   "cell_type": "code",
   "execution_count": 6,
   "id": "56971d14",
   "metadata": {},
   "outputs": [
    {
     "data": {
      "image/svg+xml": [
       "<?xml version=\"1.0\" encoding=\"utf-8\"?>\n",
       "<svg xmlns=\"http://www.w3.org/2000/svg\" xmlns:xlink=\"http://www.w3.org/1999/xlink\" width=\"500\" height=\"250\" viewBox=\"0 0 2000 1000\">\n",
       "<defs>\n",
       "  <clipPath id=\"clip870\">\n",
       "    <rect x=\"0\" y=\"0\" width=\"2000\" height=\"1000\"/>\n",
       "  </clipPath>\n",
       "</defs>\n",
       "<path clip-path=\"url(#clip870)\" d=\"\n",
       "M0 1000 L2000 1000 L2000 0 L0 0  Z\n",
       "  \" fill=\"#ffffff\" fill-rule=\"evenodd\" fill-opacity=\"1\"/>\n",
       "<defs>\n",
       "  <clipPath id=\"clip871\">\n",
       "    <rect x=\"400\" y=\"0\" width=\"1401\" height=\"1000\"/>\n",
       "  </clipPath>\n",
       "</defs>\n",
       "<path clip-path=\"url(#clip870)\" d=\"\n",
       "M106.881 901.088 L1952.76 901.088 L1952.76 47.2441 L106.881 47.2441  Z\n",
       "  \" fill=\"#ffffff\" fill-rule=\"evenodd\" fill-opacity=\"1\"/>\n",
       "<defs>\n",
       "  <clipPath id=\"clip872\">\n",
       "    <rect x=\"106\" y=\"47\" width=\"1847\" height=\"855\"/>\n",
       "  </clipPath>\n",
       "</defs>\n",
       "<polyline clip-path=\"url(#clip872)\" style=\"stroke:#000000; stroke-linecap:round; stroke-linejoin:round; stroke-width:2; stroke-opacity:0.1; fill:none\" points=\"\n",
       "  106.881,901.088 106.881,47.2441 \n",
       "  \"/>\n",
       "<polyline clip-path=\"url(#clip872)\" style=\"stroke:#000000; stroke-linecap:round; stroke-linejoin:round; stroke-width:2; stroke-opacity:0.1; fill:none\" points=\"\n",
       "  557.094,901.088 557.094,47.2441 \n",
       "  \"/>\n",
       "<polyline clip-path=\"url(#clip872)\" style=\"stroke:#000000; stroke-linecap:round; stroke-linejoin:round; stroke-width:2; stroke-opacity:0.1; fill:none\" points=\"\n",
       "  1007.31,901.088 1007.31,47.2441 \n",
       "  \"/>\n",
       "<polyline clip-path=\"url(#clip872)\" style=\"stroke:#000000; stroke-linecap:round; stroke-linejoin:round; stroke-width:2; stroke-opacity:0.1; fill:none\" points=\"\n",
       "  1457.52,901.088 1457.52,47.2441 \n",
       "  \"/>\n",
       "<polyline clip-path=\"url(#clip872)\" style=\"stroke:#000000; stroke-linecap:round; stroke-linejoin:round; stroke-width:2; stroke-opacity:0.1; fill:none\" points=\"\n",
       "  1907.73,901.088 1907.73,47.2441 \n",
       "  \"/>\n",
       "<polyline clip-path=\"url(#clip870)\" style=\"stroke:#000000; stroke-linecap:round; stroke-linejoin:round; stroke-width:4; stroke-opacity:1; fill:none\" points=\"\n",
       "  106.881,901.088 1952.76,901.088 \n",
       "  \"/>\n",
       "<polyline clip-path=\"url(#clip870)\" style=\"stroke:#000000; stroke-linecap:round; stroke-linejoin:round; stroke-width:4; stroke-opacity:1; fill:none\" points=\"\n",
       "  106.881,901.088 106.881,882.19 \n",
       "  \"/>\n",
       "<polyline clip-path=\"url(#clip870)\" style=\"stroke:#000000; stroke-linecap:round; stroke-linejoin:round; stroke-width:4; stroke-opacity:1; fill:none\" points=\"\n",
       "  557.094,901.088 557.094,882.19 \n",
       "  \"/>\n",
       "<polyline clip-path=\"url(#clip870)\" style=\"stroke:#000000; stroke-linecap:round; stroke-linejoin:round; stroke-width:4; stroke-opacity:1; fill:none\" points=\"\n",
       "  1007.31,901.088 1007.31,882.19 \n",
       "  \"/>\n",
       "<polyline clip-path=\"url(#clip870)\" style=\"stroke:#000000; stroke-linecap:round; stroke-linejoin:round; stroke-width:4; stroke-opacity:1; fill:none\" points=\"\n",
       "  1457.52,901.088 1457.52,882.19 \n",
       "  \"/>\n",
       "<polyline clip-path=\"url(#clip870)\" style=\"stroke:#000000; stroke-linecap:round; stroke-linejoin:round; stroke-width:4; stroke-opacity:1; fill:none\" points=\"\n",
       "  1907.73,901.088 1907.73,882.19 \n",
       "  \"/>\n",
       "<path clip-path=\"url(#clip870)\" d=\"M106.881 928.807 Q103.27 928.807 101.441 932.371 Q99.6356 935.913 99.6356 943.043 Q99.6356 950.149 101.441 953.714 Q103.27 957.255 106.881 957.255 Q110.515 957.255 112.321 953.714 Q114.149 950.149 114.149 943.043 Q114.149 935.913 112.321 932.371 Q110.515 928.807 106.881 928.807 M106.881 925.103 Q112.691 925.103 115.747 929.709 Q118.825 934.293 118.825 943.043 Q118.825 951.769 115.747 956.376 Q112.691 960.959 106.881 960.959 Q101.071 960.959 97.992 956.376 Q94.9365 951.769 94.9365 943.043 Q94.9365 934.293 97.992 929.709 Q101.071 925.103 106.881 925.103 Z\" fill=\"#000000\" fill-rule=\"evenodd\" fill-opacity=\"1\" /><path clip-path=\"url(#clip870)\" d=\"M531.782 956.353 L539.421 956.353 L539.421 929.987 L531.111 931.654 L531.111 927.395 L539.374 925.728 L544.05 925.728 L544.05 956.353 L551.689 956.353 L551.689 960.288 L531.782 960.288 L531.782 956.353 Z\" fill=\"#000000\" fill-rule=\"evenodd\" fill-opacity=\"1\" /><path clip-path=\"url(#clip870)\" d=\"M571.134 928.807 Q567.522 928.807 565.694 932.371 Q563.888 935.913 563.888 943.043 Q563.888 950.149 565.694 953.714 Q567.522 957.255 571.134 957.255 Q574.768 957.255 576.573 953.714 Q578.402 950.149 578.402 943.043 Q578.402 935.913 576.573 932.371 Q574.768 928.807 571.134 928.807 M571.134 925.103 Q576.944 925.103 579.999 929.709 Q583.078 934.293 583.078 943.043 Q583.078 951.769 579.999 956.376 Q576.944 960.959 571.134 960.959 Q565.323 960.959 562.245 956.376 Q559.189 951.769 559.189 943.043 Q559.189 934.293 562.245 929.709 Q565.323 925.103 571.134 925.103 Z\" fill=\"#000000\" fill-rule=\"evenodd\" fill-opacity=\"1\" /><path clip-path=\"url(#clip870)\" d=\"M986.081 956.353 L1002.4 956.353 L1002.4 960.288 L980.456 960.288 L980.456 956.353 Q983.118 953.598 987.701 948.968 Q992.308 944.316 993.488 942.973 Q995.734 940.45 996.613 938.714 Q997.516 936.955 997.516 935.265 Q997.516 932.51 995.572 930.774 Q993.65 929.038 990.549 929.038 Q988.349 929.038 985.896 929.802 Q983.465 930.566 980.687 932.117 L980.687 927.395 Q983.512 926.26 985.965 925.682 Q988.419 925.103 990.456 925.103 Q995.826 925.103 999.021 927.788 Q1002.22 930.473 1002.22 934.964 Q1002.22 937.094 1001.4 939.015 Q1000.62 940.913 998.511 943.506 Q997.933 944.177 994.831 947.394 Q991.729 950.589 986.081 956.353 Z\" fill=\"#000000\" fill-rule=\"evenodd\" fill-opacity=\"1\" /><path clip-path=\"url(#clip870)\" d=\"M1022.22 928.807 Q1018.6 928.807 1016.78 932.371 Q1014.97 935.913 1014.97 943.043 Q1014.97 950.149 1016.78 953.714 Q1018.6 957.255 1022.22 957.255 Q1025.85 957.255 1027.65 953.714 Q1029.48 950.149 1029.48 943.043 Q1029.48 935.913 1027.65 932.371 Q1025.85 928.807 1022.22 928.807 M1022.22 925.103 Q1028.03 925.103 1031.08 929.709 Q1034.16 934.293 1034.16 943.043 Q1034.16 951.769 1031.08 956.376 Q1028.03 960.959 1022.22 960.959 Q1016.4 960.959 1013.33 956.376 Q1010.27 951.769 1010.27 943.043 Q1010.27 934.293 1013.33 929.709 Q1016.4 925.103 1022.22 925.103 Z\" fill=\"#000000\" fill-rule=\"evenodd\" fill-opacity=\"1\" /><path clip-path=\"url(#clip870)\" d=\"M1446.36 941.654 Q1449.72 942.371 1451.6 944.64 Q1453.49 946.908 1453.49 950.242 Q1453.49 955.357 1449.97 958.158 Q1446.46 960.959 1439.97 960.959 Q1437.8 960.959 1435.48 960.519 Q1433.19 960.103 1430.74 959.246 L1430.74 954.732 Q1432.68 955.867 1435 956.445 Q1437.31 957.024 1439.84 957.024 Q1444.23 957.024 1446.53 955.288 Q1448.84 953.552 1448.84 950.242 Q1448.84 947.186 1446.69 945.473 Q1444.56 943.737 1440.74 943.737 L1436.71 943.737 L1436.71 939.894 L1440.92 939.894 Q1444.37 939.894 1446.2 938.529 Q1448.03 937.14 1448.03 934.547 Q1448.03 931.885 1446.13 930.473 Q1444.26 929.038 1440.74 929.038 Q1438.82 929.038 1436.62 929.455 Q1434.42 929.871 1431.78 930.751 L1431.78 926.584 Q1434.44 925.844 1436.76 925.473 Q1439.1 925.103 1441.16 925.103 Q1446.48 925.103 1449.58 927.533 Q1452.68 929.941 1452.68 934.061 Q1452.68 936.932 1451.04 938.922 Q1449.4 940.89 1446.36 941.654 Z\" fill=\"#000000\" fill-rule=\"evenodd\" fill-opacity=\"1\" /><path clip-path=\"url(#clip870)\" d=\"M1472.36 928.807 Q1468.75 928.807 1466.92 932.371 Q1465.11 935.913 1465.11 943.043 Q1465.11 950.149 1466.92 953.714 Q1468.75 957.255 1472.36 957.255 Q1475.99 957.255 1477.8 953.714 Q1479.63 950.149 1479.63 943.043 Q1479.63 935.913 1477.8 932.371 Q1475.99 928.807 1472.36 928.807 M1472.36 925.103 Q1478.17 925.103 1481.22 929.709 Q1484.3 934.293 1484.3 943.043 Q1484.3 951.769 1481.22 956.376 Q1478.17 960.959 1472.36 960.959 Q1466.55 960.959 1463.47 956.376 Q1460.41 951.769 1460.41 943.043 Q1460.41 934.293 1463.47 929.709 Q1466.55 925.103 1472.36 925.103 Z\" fill=\"#000000\" fill-rule=\"evenodd\" fill-opacity=\"1\" /><path clip-path=\"url(#clip870)\" d=\"M1895.91 929.802 L1884.1 948.251 L1895.91 948.251 L1895.91 929.802 M1894.68 925.728 L1900.56 925.728 L1900.56 948.251 L1905.49 948.251 L1905.49 952.14 L1900.56 952.14 L1900.56 960.288 L1895.91 960.288 L1895.91 952.14 L1880.3 952.14 L1880.3 947.626 L1894.68 925.728 Z\" fill=\"#000000\" fill-rule=\"evenodd\" fill-opacity=\"1\" /><path clip-path=\"url(#clip870)\" d=\"M1923.22 928.807 Q1919.61 928.807 1917.78 932.371 Q1915.98 935.913 1915.98 943.043 Q1915.98 950.149 1917.78 953.714 Q1919.61 957.255 1923.22 957.255 Q1926.85 957.255 1928.66 953.714 Q1930.49 950.149 1930.49 943.043 Q1930.49 935.913 1928.66 932.371 Q1926.85 928.807 1923.22 928.807 M1923.22 925.103 Q1929.03 925.103 1932.09 929.709 Q1935.16 934.293 1935.16 943.043 Q1935.16 951.769 1932.09 956.376 Q1929.03 960.959 1923.22 960.959 Q1917.41 960.959 1914.33 956.376 Q1911.28 951.769 1911.28 943.043 Q1911.28 934.293 1914.33 929.709 Q1917.41 925.103 1923.22 925.103 Z\" fill=\"#000000\" fill-rule=\"evenodd\" fill-opacity=\"1\" /><polyline clip-path=\"url(#clip872)\" style=\"stroke:#000000; stroke-linecap:round; stroke-linejoin:round; stroke-width:2; stroke-opacity:0.1; fill:none\" points=\"\n",
       "  106.881,901.088 1952.76,901.088 \n",
       "  \"/>\n",
       "<polyline clip-path=\"url(#clip872)\" style=\"stroke:#000000; stroke-linecap:round; stroke-linejoin:round; stroke-width:2; stroke-opacity:0.1; fill:none\" points=\"\n",
       "  106.881,616.473 1952.76,616.473 \n",
       "  \"/>\n",
       "<polyline clip-path=\"url(#clip872)\" style=\"stroke:#000000; stroke-linecap:round; stroke-linejoin:round; stroke-width:2; stroke-opacity:0.1; fill:none\" points=\"\n",
       "  106.881,331.859 1952.76,331.859 \n",
       "  \"/>\n",
       "<polyline clip-path=\"url(#clip872)\" style=\"stroke:#000000; stroke-linecap:round; stroke-linejoin:round; stroke-width:2; stroke-opacity:0.1; fill:none\" points=\"\n",
       "  106.881,47.2441 1952.76,47.2441 \n",
       "  \"/>\n",
       "<polyline clip-path=\"url(#clip870)\" style=\"stroke:#000000; stroke-linecap:round; stroke-linejoin:round; stroke-width:4; stroke-opacity:1; fill:none\" points=\"\n",
       "  106.881,901.088 106.881,47.2441 \n",
       "  \"/>\n",
       "<polyline clip-path=\"url(#clip870)\" style=\"stroke:#000000; stroke-linecap:round; stroke-linejoin:round; stroke-width:4; stroke-opacity:1; fill:none\" points=\"\n",
       "  106.881,901.088 125.779,901.088 \n",
       "  \"/>\n",
       "<polyline clip-path=\"url(#clip870)\" style=\"stroke:#000000; stroke-linecap:round; stroke-linejoin:round; stroke-width:4; stroke-opacity:1; fill:none\" points=\"\n",
       "  106.881,616.473 125.779,616.473 \n",
       "  \"/>\n",
       "<polyline clip-path=\"url(#clip870)\" style=\"stroke:#000000; stroke-linecap:round; stroke-linejoin:round; stroke-width:4; stroke-opacity:1; fill:none\" points=\"\n",
       "  106.881,331.859 125.779,331.859 \n",
       "  \"/>\n",
       "<polyline clip-path=\"url(#clip870)\" style=\"stroke:#000000; stroke-linecap:round; stroke-linejoin:round; stroke-width:4; stroke-opacity:1; fill:none\" points=\"\n",
       "  106.881,47.2441 125.779,47.2441 \n",
       "  \"/>\n",
       "<path clip-path=\"url(#clip870)\" d=\"M64.9365 886.887 Q61.3254 886.887 59.4967 890.451 Q57.6912 893.993 57.6912 901.123 Q57.6912 908.229 59.4967 911.794 Q61.3254 915.335 64.9365 915.335 Q68.5707 915.335 70.3763 911.794 Q72.205 908.229 72.205 901.123 Q72.205 893.993 70.3763 890.451 Q68.5707 886.887 64.9365 886.887 M64.9365 883.183 Q70.7467 883.183 73.8022 887.789 Q76.8809 892.373 76.8809 901.123 Q76.8809 909.849 73.8022 914.456 Q70.7467 919.039 64.9365 919.039 Q59.1264 919.039 56.0477 914.456 Q52.9921 909.849 52.9921 901.123 Q52.9921 892.373 56.0477 887.789 Q59.1264 883.183 64.9365 883.183 Z\" fill=\"#000000\" fill-rule=\"evenodd\" fill-opacity=\"1\" /><path clip-path=\"url(#clip870)\" d=\"M69.7513 615.119 Q73.1078 615.837 74.9827 618.105 Q76.8809 620.374 76.8809 623.707 Q76.8809 628.823 73.3624 631.624 Q69.8439 634.425 63.3624 634.425 Q61.1865 634.425 58.8717 633.985 Q56.5801 633.568 54.1264 632.712 L54.1264 628.198 Q56.0708 629.332 58.3856 629.911 Q60.7004 630.489 63.2236 630.489 Q67.6217 630.489 69.9133 628.753 Q72.2281 627.017 72.2281 623.707 Q72.2281 620.651 70.0754 618.939 Q67.9457 617.202 64.1263 617.202 L60.0986 617.202 L60.0986 613.36 L64.3115 613.36 Q67.7606 613.36 69.5893 611.994 Q71.418 610.605 71.418 608.013 Q71.418 605.351 69.5198 603.939 Q67.6448 602.503 64.1263 602.503 Q62.205 602.503 60.006 602.92 Q57.8069 603.337 55.168 604.216 L55.168 600.05 Q57.8301 599.309 60.1449 598.939 Q62.4828 598.568 64.543 598.568 Q69.867 598.568 72.9689 600.999 Q76.0707 603.406 76.0707 607.527 Q76.0707 610.397 74.4272 612.388 Q72.7837 614.355 69.7513 615.119 Z\" fill=\"#000000\" fill-rule=\"evenodd\" fill-opacity=\"1\" /><path clip-path=\"url(#clip870)\" d=\"M65.3532 329.995 Q62.205 329.995 60.3532 332.148 Q58.5245 334.301 58.5245 338.051 Q58.5245 341.778 60.3532 343.954 Q62.205 346.106 65.3532 346.106 Q68.5013 346.106 70.33 343.954 Q72.1818 341.778 72.1818 338.051 Q72.1818 334.301 70.33 332.148 Q68.5013 329.995 65.3532 329.995 M74.6355 315.343 L74.6355 319.602 Q72.8763 318.768 71.0707 318.329 Q69.2883 317.889 67.5291 317.889 Q62.8995 317.889 60.4458 321.014 Q58.0152 324.139 57.668 330.458 Q59.0338 328.444 61.0939 327.38 Q63.1541 326.292 65.6309 326.292 Q70.8393 326.292 73.8485 329.463 Q76.8809 332.611 76.8809 338.051 Q76.8809 343.375 73.7328 346.592 Q70.5846 349.81 65.3532 349.81 Q59.3578 349.81 56.1866 345.227 Q53.0153 340.62 53.0153 331.893 Q53.0153 323.699 56.9041 318.838 Q60.793 313.954 67.3439 313.954 Q69.1032 313.954 70.8855 314.301 Q72.6911 314.648 74.6355 315.343 Z\" fill=\"#000000\" fill-rule=\"evenodd\" fill-opacity=\"1\" /><path clip-path=\"url(#clip870)\" d=\"M55.2606 63.8065 L55.2606 59.5473 Q57.0199 60.3806 58.8254 60.8204 Q60.631 61.2602 62.3671 61.2602 Q66.9967 61.2602 69.4272 58.1584 Q71.8809 55.0334 72.2281 48.6908 Q70.8855 50.6816 68.8254 51.7464 Q66.7652 52.8112 64.2652 52.8112 Q59.0801 52.8112 56.0477 49.6862 Q53.0384 46.5381 53.0384 41.0983 Q53.0384 35.7742 56.1866 32.5567 Q59.3347 29.3391 64.5661 29.3391 Q70.5615 29.3391 73.7096 33.9456 Q76.8809 38.5289 76.8809 47.2788 Q76.8809 55.4501 72.992 60.3343 Q69.1263 65.1954 62.5754 65.1954 Q60.8162 65.1954 59.0106 64.8482 Q57.2051 64.5009 55.2606 63.8065 M64.5661 49.1538 Q67.7143 49.1538 69.543 47.001 Q71.3948 44.8483 71.3948 41.0983 Q71.3948 37.3715 69.543 35.2187 Q67.7143 33.0428 64.5661 33.0428 Q61.418 33.0428 59.5662 35.2187 Q57.7375 37.3715 57.7375 41.0983 Q57.7375 44.8483 59.5662 47.001 Q61.418 49.1538 64.5661 49.1538 Z\" fill=\"#000000\" fill-rule=\"evenodd\" fill-opacity=\"1\" /><polyline clip-path=\"url(#clip872)\" style=\"stroke:#009af9; stroke-linecap:round; stroke-linejoin:round; stroke-width:4; stroke-opacity:1; fill:none\" points=\"\n",
       "  151.902,142.116 196.924,901.088 241.945,711.345 286.966,521.602 331.988,331.859 377.009,47.2441 422.03,711.345 467.052,426.73 512.073,47.2441 557.094,616.473 \n",
       "  602.116,236.987 647.137,806.216 692.158,331.859 737.18,806.216 782.201,331.859 827.222,711.345 872.244,142.116 917.265,521.602 962.286,901.088 1007.31,236.987 \n",
       "  1052.33,521.602 1097.35,806.216 1142.37,47.2441 1187.39,236.987 1232.41,426.73 1277.44,616.473 1322.46,711.345 1367.48,806.216 1412.5,901.088 1457.52,901.088 \n",
       "  1502.54,901.088 1547.56,901.088 1592.59,901.088 1637.61,806.216 1682.63,711.345 1727.65,616.473 1772.67,426.73 1817.69,236.987 1862.71,47.2441 1907.73,806.216 \n",
       "  1952.76,521.602 \n",
       "  \"/>\n",
       "<path clip-path=\"url(#clip870)\" d=\"\n",
       "M1654.21 179.386 L1891.23 179.386 L1891.23 75.7056 L1654.21 75.7056  Z\n",
       "  \" fill=\"#ffffff\" fill-rule=\"evenodd\" fill-opacity=\"1\"/>\n",
       "<polyline clip-path=\"url(#clip870)\" style=\"stroke:#000000; stroke-linecap:round; stroke-linejoin:round; stroke-width:4; stroke-opacity:1; fill:none\" points=\"\n",
       "  1654.21,179.386 1891.23,179.386 1891.23,75.7056 1654.21,75.7056 1654.21,179.386 \n",
       "  \"/>\n",
       "<polyline clip-path=\"url(#clip870)\" style=\"stroke:#009af9; stroke-linecap:round; stroke-linejoin:round; stroke-width:4; stroke-opacity:1; fill:none\" points=\"\n",
       "  1674.72,127.546 1797.78,127.546 \n",
       "  \"/>\n",
       "<path clip-path=\"url(#clip870)\" d=\"M1832.13 147.233 Q1830.32 151.863 1828.61 153.275 Q1826.9 154.687 1824.03 154.687 L1820.62 154.687 L1820.62 151.122 L1823.12 151.122 Q1824.88 151.122 1825.86 150.288 Q1826.83 149.455 1828.01 146.353 L1828.77 144.409 L1818.29 118.9 L1822.8 118.9 L1830.9 139.177 L1839 118.9 L1843.52 118.9 L1832.13 147.233 Z\" fill=\"#000000\" fill-rule=\"evenodd\" fill-opacity=\"1\" /><path clip-path=\"url(#clip870)\" d=\"M1850.81 140.89 L1858.45 140.89 L1858.45 114.525 L1850.14 116.191 L1850.14 111.932 L1858.4 110.266 L1863.08 110.266 L1863.08 140.89 L1870.72 140.89 L1870.72 144.826 L1850.81 144.826 L1850.81 140.89 Z\" fill=\"#000000\" fill-rule=\"evenodd\" fill-opacity=\"1\" /></svg>\n"
      ]
     },
     "execution_count": 6,
     "metadata": {},
     "output_type": "execute_result"
    }
   ],
   "source": [
    "plot(y; xlim=(0, N), ylim=(0,9), size=(500,250))"
   ]
  },
  {
   "cell_type": "code",
   "execution_count": 7,
   "id": "ae24416d",
   "metadata": {},
   "outputs": [],
   "source": [
    "@model function HMM(y, K)\n",
    "    N = length(y) # observed sequence length\n",
    "    s = tzeros(Int, N) # state sequence\n",
    "    m = Vector(undef, K) # emission matrix\n",
    "    T = Vector{Vector}(undef, K) # transition matrix\n",
    "    \n",
    "    # assign priors to matrices\n",
    "    for i in 1:K\n",
    "        T[i] ~ Dirichlet(ones(K) / K)\n",
    "        m[i] ~ Normal(i, 0.5)\n",
    "    end\n",
    "    \n",
    "    # observe inputs\n",
    "    s[1] ~ Categorical(K)\n",
    "    y[1] ~ Normal(m[s[1]], 0.1)\n",
    "    \n",
    "    for i in 2:N\n",
    "        s[i] ~ Categorical(vec(T[s[i - 1]]))\n",
    "        y[i] ~ Normal(m[s[i]], 0.1)\n",
    "    end\n",
    "end;\n",
    "    \n",
    "    \n",
    "    "
   ]
  },
  {
   "cell_type": "code",
   "execution_count": 10,
   "id": "e1fcdd3a",
   "metadata": {},
   "outputs": [],
   "source": [
    "g = Gibbs(HMC(0.01, 50, :m, :T), PG(120, :s))\n",
    "chn = sample(HMM(y, K), g, 10);"
   ]
  },
  {
   "cell_type": "code",
   "execution_count": 13,
   "id": "41eb2686",
   "metadata": {},
   "outputs": [
    {
     "data": {
      "text/plain": [
       "3-dimensional AxisArray{Float64,3,...} with axes:\n",
       "    :iter, 1:1:10\n",
       "    :var, [Symbol(\"m[1]\"), Symbol(\"m[2]\"), Symbol(\"m[3]\"), Symbol(\"m[4]\"), Symbol(\"m[5]\"), Symbol(\"m[6]\"), Symbol(\"m[7]\"), Symbol(\"m[8]\"), Symbol(\"m[9]\"), Symbol(\"m[10]\")]\n",
       "    :chain, 1:1\n",
       "And data, a 10×10×1 Array{Float64, 3}:\n",
       "[:, :, 1] =\n",
       "  1.31922     1.78768  3.97772  …  2.65119  2.27665  4.70698  9.65464\n",
       " -0.0966162   1.63467  4.39957     2.94999  2.88168  5.72415  9.0325\n",
       " -0.0717921   1.58518  4.40909     3.15508  1.88159  5.77839  7.8714\n",
       " -0.0391547   1.60216  4.66389     3.2633   2.61287  5.63469  8.75166\n",
       "  0.0645175   1.59156  4.33405     3.75787  3.29216  6.16171  9.15828\n",
       " -0.0294111   1.56453  4.375    …  3.85244  4.58647  5.71686  9.11808\n",
       "  0.00588553  1.56283  4.03174     4.12563  3.65318  6.17577  9.08974\n",
       "  0.00182742  1.57156  4.54782     4.65921  3.43077  6.30768  9.04073\n",
       "  0.0429551   1.56685  4.74867     4.33296  3.67273  6.74952  9.04549\n",
       " -0.0448346   1.5694   3.60604     5.70932  3.67834  6.28224  9.01546"
      ]
     },
     "execution_count": 13,
     "metadata": {},
     "output_type": "execute_result"
    }
   ],
   "source": [
    "m_set = MCMCChains.group(chn, :m).value"
   ]
  },
  {
   "cell_type": "code",
   "execution_count": 14,
   "id": "8d951d19",
   "metadata": {},
   "outputs": [
    {
     "data": {
      "text/plain": [
       "3-dimensional AxisArray{Float64,3,...} with axes:\n",
       "    :iter, 1:1:10\n",
       "    :var, [Symbol(\"s[1]\"), Symbol(\"s[2]\"), Symbol(\"s[3]\"), Symbol(\"s[4]\"), Symbol(\"s[5]\"), Symbol(\"s[6]\"), Symbol(\"s[7]\"), Symbol(\"s[8]\"), Symbol(\"s[9]\"), Symbol(\"s[10]\")  …  Symbol(\"s[32]\"), Symbol(\"s[33]\"), Symbol(\"s[34]\"), Symbol(\"s[35]\"), Symbol(\"s[36]\"), Symbol(\"s[37]\"), Symbol(\"s[38]\"), Symbol(\"s[39]\"), Symbol(\"s[40]\"), Symbol(\"s[41]\")]\n",
       "    :chain, 1:1\n",
       "And data, a 10×41×1 Array{Float64, 3}:\n",
       "[:, :, 1] =\n",
       " 4.0  2.0  6.0  9.0  9.0  10.0  2.0  …  6.0  7.0  5.0  10.0   9.0  6.0  9.0\n",
       " 4.0  2.0  8.0  9.0  9.0  10.0  2.0     6.0  7.0  5.0  10.0   9.0  2.0  3.0\n",
       " 4.0  2.0  8.0  9.0  9.0  10.0  2.0     6.0  7.0  5.0  10.0   9.0  6.0  9.0\n",
       " 4.0  2.0  6.0  7.0  5.0  10.0  2.0     2.0  6.0  9.0   9.0  10.0  2.0  3.0\n",
       " 4.0  2.0  6.0  7.0  5.0  10.0  2.0     6.0  8.0  9.0   9.0   4.0  2.0  9.0\n",
       " 4.0  2.0  6.0  7.0  5.0  10.0  2.0  …  6.0  8.0  9.0   9.0   4.0  2.0  8.0\n",
       " 4.0  2.0  6.0  9.0  9.0  10.0  2.0     2.0  8.0  9.0   9.0  10.0  2.0  8.0\n",
       " 4.0  2.0  6.0  7.0  5.0  10.0  2.0     2.0  8.0  9.0   9.0  10.0  2.0  8.0\n",
       " 4.0  2.0  6.0  8.0  9.0  10.0  2.0     2.0  8.0  9.0   9.0  10.0  2.0  8.0\n",
       " 4.0  2.0  6.0  8.0  9.0  10.0  2.0     2.0  8.0  9.0   9.0  10.0  2.0  8.0"
      ]
     },
     "execution_count": 14,
     "metadata": {},
     "output_type": "execute_result"
    }
   ],
   "source": [
    "s_set = MCMCChains.group(chn, :s).value"
   ]
  },
  {
   "cell_type": "code",
   "execution_count": 17,
   "id": "229d423d",
   "metadata": {},
   "outputs": [
    {
     "data": {
      "text/plain": [
       "10:10"
      ]
     },
     "execution_count": 17,
     "metadata": {},
     "output_type": "execute_result"
    }
   ],
   "source": [
    "Ns = 10:length(chn)"
   ]
  },
  {
   "cell_type": "code",
   "execution_count": 18,
   "id": "487a61bc",
   "metadata": {},
   "outputs": [
    {
     "name": "stderr",
     "output_type": "stream",
     "text": [
      "┌ Info: Saved animation to C:\\Users\\stefa\\Dropbox\\Jotun Hein - Part C Projects\\Manolache\\Code\\Evolutionary Toroidal Difussions\\TorusEvol\\src\\tmp.gif\n",
      "└ @ Plots D:\\Programs\\julia_depot\\packages\\Plots\\gzYVM\\src\\animation.jl:149\n"
     ]
    },
    {
     "data": {
      "text/html": [
       "<img src=\"data:image/gif;base64,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\" />"
      ],
      "text/plain": [
       "Plots.AnimatedGif(\"C:\\\\Users\\\\stefa\\\\Dropbox\\\\Jotun Hein - Part C Projects\\\\Manolache\\\\Code\\\\Evolutionary Toroidal Difussions\\\\TorusEvol\\\\src\\\\tmp.gif\")"
      ]
     },
     "execution_count": 18,
     "metadata": {},
     "output_type": "execute_result"
    }
   ],
   "source": [
    "animation = @gif for i in Ns\n",
    "    m = m_set[i, :]\n",
    "    s = Int.(s_set[i, :])\n",
    "    emissions = m[s]\n",
    "    \n",
    "    p = plot(\n",
    "        y;\n",
    "        chn=:red,\n",
    "        size=(500,200),\n",
    "        xlabel=\"Time\",\n",
    "        ylabel=\"State\",\n",
    "        legend=:topright,\n",
    "        label=\"True data\",\n",
    "        xlim=(0, N),\n",
    "        ylim=(0, 9))\n",
    "    plot!(emissions; color=:blue, label=\"Sample $i\")\n",
    "end every 3"
   ]
  },
  {
   "cell_type": "code",
   "execution_count": null,
   "id": "fdbf90d0",
   "metadata": {},
   "outputs": [],
   "source": []
  }
 ],
 "metadata": {
  "kernelspec": {
   "display_name": "Julia 1.8.1",
   "language": "julia",
   "name": "julia-1.8"
  },
  "language_info": {
   "file_extension": ".jl",
   "mimetype": "application/julia",
   "name": "julia",
   "version": "1.8.1"
  }
 },
 "nbformat": 4,
 "nbformat_minor": 5
}
