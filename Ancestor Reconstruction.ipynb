{
 "cells": [
  {
   "cell_type": "code",
   "execution_count": 14,
   "id": "c79e74a3",
   "metadata": {},
   "outputs": [
    {
     "name": "stderr",
     "output_type": "stream",
     "text": [
      "\u001b[36m\u001b[1m[ \u001b[22m\u001b[39m\u001b[36m\u001b[1mInfo: \u001b[22m\u001b[39mFile exists: 1A3N\n",
      "\u001b[36m\u001b[1m[ \u001b[22m\u001b[39m\u001b[36m\u001b[1mInfo: \u001b[22m\u001b[39mFile exists: 1MBN\n"
     ]
    }
   ],
   "source": [
    "using TorusEvol\n",
    "using Distributions\n",
    "using TimerOutputs\n",
    "using Plots, StatsPlots\n",
    "using LogExpFunctions\n",
    "\n",
    "chainY = from_pdb(\"1A3N\", \"A\")\n",
    "chainZ = from_pdb(\"1MBN\", \"A\")\n",
    "Y = data(chainY)\n",
    "Z = data(chainZ)\n",
    "\n",
    "data(Y)[2][isnan.(data(Y)[2])] .= 0.0\n",
    "data(Z)[2][isnan.(data(Z)[2])] .= 0.0\n",
    "\n",
    "my_diff = jumping(WrappedDiffusion(-1.2, -0.8, 0.4, 0.4, 1.0, 1.0, 0.2), 1.0)\n",
    "my_diff2 = jumping(WrappedDiffusion(-1.0, -1.0, 1.8, 1.8, 1.0, 1.0, 0.1), 1.0)\n",
    "\n",
    "w = WAG_SubstitutionProcess()\n",
    "processes = [w w; my_diff my_diff2]\n",
    "weights = [0.85, 0.15]\n",
    "ξ = MixtureProductProcess(weights, processes)\n",
    "\n",
    "t = 1.58\n",
    "λ = 0.03; μ = 0.032; r = 0.3\n",
    "align_model = TKF92([t], λ, μ, r; known_ancestor=true)\n",
    "pair_hmm = PairDataHMM(align_model, num_sites(Y), num_sites(Z));"
   ]
  },
  {
   "cell_type": "code",
   "execution_count": 15,
   "id": "8bd66b09",
   "metadata": {},
   "outputs": [
    {
     "data": {
      "text/plain": [
       "logpdfs (generic function with 1 method)"
      ]
     },
     "execution_count": 15,
     "metadata": {},
     "output_type": "execute_result"
    }
   ],
   "source": [
    "function logpdfs(alignment, emission_lps)\n",
    "    res = Real[]\n",
    "    N, M = size(emission_lps) .- 1\n",
    "    i = 0\n",
    "    j = 0\n",
    "    for v ∈ alignment \n",
    "        if v == [1, 1]\n",
    "            i += 1\n",
    "            j += 1\n",
    "            push!(res, emission_lps[i, j])\n",
    "        elseif v == [1, 0]\n",
    "            i += 1\n",
    "            push!(res, emission_lps[i, M+1])\n",
    "        else\n",
    "            j += 1\n",
    "            push!(res, emission_lps[N+1, j])\n",
    "        end     \n",
    "    end\n",
    "    return res\n",
    "end\n"
   ]
  },
  {
   "cell_type": "code",
   "execution_count": 12,
   "id": "3b2b18d6",
   "metadata": {},
   "outputs": [
    {
     "data": {
      "text/plain": [
       "-1505.2209433608903"
      ]
     },
     "execution_count": 12,
     "metadata": {},
     "output_type": "execute_result"
    }
   ],
   "source": [
    "emission_lps = fulllogpdf(ξ, t, Y, Z)\n",
    "logpdf(pair_hmm, emission_lps)\n",
    "alignment = backward_sampling(pair_hmm.α, align_model)\n",
    "align_emission_lps = logpdfs(alignment, emission_lps)\n",
    "anc_align_model = TKF92([t/2, t/2], λ, μ, r; known_ancestor=false)\n",
    "α = forward_anc(alignment, anc_align_model, align_emission_lps)"
   ]
  },
  {
   "cell_type": "code",
   "execution_count": 3,
   "id": "597c6689",
   "metadata": {
    "scrolled": true
   },
   "outputs": [
    {
     "name": "stdout",
     "output_type": "stream",
     "text": [
      "\u001b[0m\u001b[1m ──────────────────────────────────────────────────────────────────────────\u001b[22m\n",
      "\u001b[0m\u001b[1m                         \u001b[22m         Time                    Allocations      \n",
      "                         ───────────────────────   ────────────────────────\n",
      "    Tot / % measured:         1.53s /  99.9%            372MiB / 100.0%    \n",
      "\n",
      " Section         ncalls     time    %tot     avg     alloc    %tot      avg\n",
      " ──────────────────────────────────────────────────────────────────────────\n",
      " forward              1    1.52s   99.1%   1.52s    366MiB   98.4%   366MiB\n",
      "   logsumexp α     261k   55.1ms    3.6%   211ns   3.98MiB    1.1%    16.0B\n",
      " emission lps         1   13.5ms    0.9%  13.5ms   5.82MiB    1.6%  5.82MiB\n",
      "   jointlogpdf        1   4.28ms    0.3%  4.28ms   4.28MiB    1.2%  4.28MiB\n",
      "   logsumexp          3   4.24ms    0.3%  1.41ms    351KiB    0.1%   117KiB\n",
      "   statlogpdf         2   57.6μs    0.0%  28.8μs   22.0KiB    0.0%  11.0KiB\n",
      "\u001b[0m\u001b[1m ──────────────────────────────────────────────────────────────────────────\u001b[22m"
     ]
    }
   ],
   "source": [
    "model = TKF92([t/2, t/2], λ, μ, r; known_ancestor=false)\n",
    "pair_hmm = PairDataHMM(model, num_sites(Y), num_sites(Z))\n",
    "reset_timer!(to)\n",
    "\n",
    "@timeit to \"emission lps\" emission_lps = fulllogpdf(ξ, t, Y, Z)\n",
    "\n",
    "@timeit to \"forward\" _logpdf(pair_hmm, emission_lps; optimized=true)\n",
    "print(to)"
   ]
  },
  {
   "cell_type": "code",
   "execution_count": null,
   "id": "31ec8391",
   "metadata": {},
   "outputs": [],
   "source": []
  },
  {
   "cell_type": "code",
   "execution_count": 4,
   "id": "a3c7b31e",
   "metadata": {},
   "outputs": [
    {
     "ename": "InterruptException",
     "evalue": "InterruptException:",
     "output_type": "error",
     "traceback": [
      "InterruptException:",
      "",
      "Stacktrace:",
      " [1] display_dict(x::Function)",
      "   @ IJulia ~/.julia/packages/IJulia/6TIq1/src/display.jl:102",
      " [2] #invokelatest#2",
      "   @ ./essentials.jl:816 [inlined]",
      " [3] invokelatest",
      "   @ ./essentials.jl:813 [inlined]",
      " [4] execute_request(socket::ZMQ.Socket, msg::IJulia.Msg)",
      "   @ IJulia ~/.julia/packages/IJulia/6TIq1/src/execute_request.jl:112",
      " [5] #invokelatest#2",
      "   @ ./essentials.jl:816 [inlined]",
      " [6] invokelatest",
      "   @ ./essentials.jl:813 [inlined]",
      " [7] eventloop(socket::ZMQ.Socket)",
      "   @ IJulia ~/.julia/packages/IJulia/6TIq1/src/eventloop.jl:8",
      " [8] (::IJulia.var\"#15#18\")()",
      "   @ IJulia ./task.jl:514"
     ]
    }
   ],
   "source": [
    "using Turing \n",
    "using ReverseDiff\n",
    "using TorusEvol\n",
    "#Turing.setadbackend(:reversediff)\n",
    "Turing.setrdcache(true)\n",
    "Turing.setadbackend(:forwarddiff)\n",
    "Turing.setprogress!(true)\n",
    "\n",
    "@model function ancestor_sampling(alignment, dataY, dataZ, t, ξ)\n",
    "    C = num_coords(ξ)\n",
    "    E = num_regimes(ξ)\n",
    "    \n",
    "    \n",
    "    #dataX = \n",
    "    \n",
    "\n",
    "    X_mask = mask(alignment, [[1], [0,1], [0,1]])\n",
    "    alignmentX = alignment[X_mask]\n",
    "    Y_mask = mask(alignment, [[0,1], [1], [0,1]])\n",
    "    alignmentY = alignment[Y_mask]\n",
    "    Z_mask = mask(alignment, [[0,1], [0,1], [1]])\n",
    "    alignmentZ = alignment[Z_mask]\n",
    "    \n",
    "    M = length(alignment)\n",
    "    regimes = tzeros(Int, M)\n",
    "    regimes ~ filldist(Categorical(weights(ξ)), M)\n",
    "    regimesX = regimes[X_mask]\n",
    "    regimesY = regimes[Y_mask]\n",
    "    regimesZ = regimes[Z_mask]\n",
    "    \n",
    "    X_maskX = mask(alignmentX, [[1], [0], [0]])\n",
    "    \n",
    "    XY_maskX = mask(alignmentX, [[1], [1], [0]])\n",
    "    XY_maskY = mask(alignmentY, [[1], [1], [0]])\n",
    "    \n",
    "    XZ_maskX = mask(alignmentX, [[1], [0], [1]])\n",
    "    XZ_maskZ = mask(alignmentZ, [[1], [0], [1]])\n",
    "    \n",
    "    XYZ_maskX = mask(alignmentX, [[1], [1], [1]])\n",
    "    XYZ_maskY = mask(alignmentY, [[1], [1], [1]])\n",
    "    XYZ_maskZ = mask(alignmentZ, [[1], [1], [1]])\n",
    "    \n",
    "    for c ∈ 1:C, e ∈ 1:E\n",
    "        p = processes(ξ)[c, e]\n",
    "        # [1, 0, 0] - sample from stationary distribution\n",
    "        data[c][:, X_maskX .& regimesX .== e] .~ statdist(p)\n",
    "        \n",
    "        # [1, 1, 0] - observe Y, then sample X from Y\n",
    "        dataY[c][:, XY_maskY .& regimesY .== e] .~ statdist(p)\n",
    "        dataX[c][:, XY_maskX .& regimesX .== e] ~ arraydist(transdist.(Ref(p), Ref(t), eachcol(dataY[c][:, XY_maskY .& regimesY .== e])))\n",
    "        \n",
    "        # [1, 0, 1] - observe Z, then sample X from Z\n",
    "        dataY[c][:, XZ_maskZ .& regimesZ .== e] .~ statdist(p)\n",
    "        dataX[c][:, XZ_maskX .& regimesX .== e] ~ arraydist(transdist.(Ref(p), Ref(t), eachcol(dataZ[c][:, XY_maskZ .& regimesZ .== e])))\n",
    "        \n",
    "        # [1, 1, 1] - observe Y, sample X from Y, then observe Z from X\n",
    "        dataY[c][:, XYZ_maskY .& regimesY .== e] .~ statdist(p)\n",
    "        dataX[c][:, XYZ_maskX .& regimesX .== e] ~ arraydist(transdist.(Ref(p), Ref(t), eachcol(dataY[c][:, XYZ_maskY .& regimesY .== e])))\n",
    "        dataZ[c][:, XYZ_maskZ .& regimesZ .== e] ~ arraydist(transdist.(Ref(p), Ref(t), eachcol(dataX[c][:, XYZ_maskX .& regimesX .== e])))\n",
    "    end\n",
    "end\n",
    "    "
   ]
  },
  {
   "cell_type": "code",
   "execution_count": null,
   "id": "5fe15fb6",
   "metadata": {},
   "outputs": [],
   "source": []
  }
 ],
 "metadata": {
  "kernelspec": {
   "display_name": "Julia 1.9.0-rc2",
   "language": "julia",
   "name": "julia-1.9"
  },
  "language_info": {
   "file_extension": ".jl",
   "mimetype": "application/julia",
   "name": "julia",
   "version": "1.9.0"
  }
 },
 "nbformat": 4,
 "nbformat_minor": 5
}
