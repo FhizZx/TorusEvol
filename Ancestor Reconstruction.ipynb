{
 "cells": [
  {
   "cell_type": "code",
   "execution_count": 1,
   "id": "c79e74a3",
   "metadata": {},
   "outputs": [
    {
     "name": "stderr",
     "output_type": "stream",
     "text": [
      "\u001b[36m\u001b[1m[ \u001b[22m\u001b[39m\u001b[36m\u001b[1mInfo: \u001b[22m\u001b[39mPrecompiling TorusEvol [4b860a26-b3bc-4b38-a9ed-83c1dc5d19b0]\n",
      "\u001b[36m\u001b[1m[ \u001b[22m\u001b[39m\u001b[36m\u001b[1mInfo: \u001b[22m\u001b[39mFile exists: 1A3N\n",
      "\u001b[36m\u001b[1m[ \u001b[22m\u001b[39m\u001b[36m\u001b[1mInfo: \u001b[22m\u001b[39mFile exists: 1MBN\n"
     ]
    }
   ],
   "source": [
    "using TorusEvol\n",
    "using Distributions\n",
    "using TimerOutputs\n",
    "\n",
    "chainY = from_pdb(\"1A3N\", \"A\"; ramachandran=false)\n",
    "chainZ = from_pdb(\"1MBN\", \"A\"; ramachandran=false)\n",
    "Y = data(chainY)\n",
    "Z = data(chainZ)\n",
    "\n",
    "w = WAG_SubstitutionProcess\n",
    "processes = [w;;]\n",
    "weights = [1.0]\n",
    "ξ = MixtureProductProcess(weights, processes)\n",
    "\n",
    "t = 1.58\n",
    "λ = 0.03; μ = 0.032; r = 0.3\n",
    "align_model = TKF92([t], λ, μ, r)\n",
    "pair_hmm = PairDataHMM(align_model, num_sites(Y), num_sites(Z));"
   ]
  },
  {
   "cell_type": "code",
   "execution_count": 2,
   "id": "597c6689",
   "metadata": {},
   "outputs": [
    {
     "data": {
      "text/plain": [
       "-825.0319721486123"
      ]
     },
     "execution_count": 2,
     "metadata": {},
     "output_type": "execute_result"
    }
   ],
   "source": [
    "model = TKF92([t/2, t/2], λ, μ, r; known_ancestor=false)\n",
    "pair_hmm = PairDataHMM(model, num_sites(X), num_sites(Y))\n",
    "logpdf(pair_hmm, fulllogpdf(ξ, t, X, Y))"
   ]
  },
  {
   "cell_type": "code",
   "execution_count": 3,
   "id": "f888c350",
   "metadata": {},
   "outputs": [
    {
     "ename": "LoadError",
     "evalue": "DomainError with [0.0, 0.0, 0.0, 5.66212, 176.397, 68.9151, 0.0, 0.0, 0.0133779, 0.135398, 0.117448, 28.9759, 5.44729, 155.965]:\nCategorical: vector p is not a probability vector",
     "output_type": "error",
     "traceback": [
      "DomainError with [0.0, 0.0, 0.0, 5.66212, 176.397, 68.9151, 0.0, 0.0, 0.0133779, 0.135398, 0.117448, 28.9759, 5.44729, 155.965]:\nCategorical: vector p is not a probability vector",
      "",
      "Stacktrace:",
      " [1] #116",
      "   @ D:\\Programs\\julia_depot\\packages\\Distributions\\Spcmv\\src\\univariate\\discrete\\categorical.jl:30 [inlined]",
      " [2] check_args",
      "   @ D:\\Programs\\julia_depot\\packages\\Distributions\\Spcmv\\src\\utils.jl:89 [inlined]",
      " [3] #_#115",
      "   @ D:\\Programs\\julia_depot\\packages\\Distributions\\Spcmv\\src\\univariate\\discrete\\categorical.jl:30 [inlined]",
      " [4] DiscreteNonParametric",
      "   @ D:\\Programs\\julia_depot\\packages\\Distributions\\Spcmv\\src\\univariate\\discrete\\categorical.jl:29 [inlined]",
      " [5] #Categorical#118",
      "   @ D:\\Programs\\julia_depot\\packages\\Distributions\\Spcmv\\src\\univariate\\discrete\\categorical.jl:34 [inlined]",
      " [6] (Categorical{P} where P<:Real)(p::Vector{Float64})",
      "   @ Distributions D:\\Programs\\julia_depot\\packages\\Distributions\\Spcmv\\src\\univariate\\discrete\\categorical.jl:34",
      " [7] backward_sampling(α::Array{Real, 3}, model::TKF92)",
      "   @ TorusEvol C:\\Users\\stefa\\Dropbox\\Jotun Hein - Part C Projects\\Manolache\\Code\\TorusEvol\\src\\distributions\\EvolHMM.jl:107",
      " [8] top-level scope",
      "   @ In[3]:1"
     ]
    }
   ],
   "source": [
    "tri_alignment = backward_sampling(pair_hmm.α, model)"
   ]
  },
  {
   "cell_type": "code",
   "execution_count": null,
   "id": "a3c7b31e",
   "metadata": {},
   "outputs": [],
   "source": [
    "@model function ancestor_sampling(Y, Z, t, ξ)\n",
    "    C = num_coords(ξ)\n",
    "    E = num_regimes(ξ)\n",
    "    \n",
    "    # Step 1 - sample regimes\n",
    "    \n",
    "    \n",
    "    # Sample X from Y \n",
    "    for c ∈ 1:C \n",
    "        \n",
    "    end\n",
    "end"
   ]
  }
 ],
 "metadata": {
  "kernelspec": {
   "display_name": "Julia 1.9.0-rc2",
   "language": "julia",
   "name": "julia-1.9"
  },
  "language_info": {
   "file_extension": ".jl",
   "mimetype": "application/julia",
   "name": "julia",
   "version": "1.9.0"
  }
 },
 "nbformat": 4,
 "nbformat_minor": 5
}
